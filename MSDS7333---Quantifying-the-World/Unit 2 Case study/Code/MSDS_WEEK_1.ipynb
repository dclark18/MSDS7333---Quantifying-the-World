{
  "nbformat": 4,
  "nbformat_minor": 0,
  "metadata": {
    "kernelspec": {
      "display_name": "R",
      "language": "R",
      "name": "ir"
    },
    "language_info": {
      "codemirror_mode": "r",
      "file_extension": ".r",
      "mimetype": "text/x-r-source",
      "name": "R",
      "pygments_lexer": "r",
      "version": "4.0.0"
    },
    "colab": {
      "name": "MSDS_WEEK_1.ipynb",
      "provenance": [],
      "include_colab_link": true
    }
  },
  "cells": [
    {
      "cell_type": "markdown",
      "metadata": {
        "id": "view-in-github",
        "colab_type": "text"
      },
      "source": [
        "<a href=\"https://colab.research.google.com/github/dclark18/MSDS7333---Quantifying-the-World/blob/master/MSDS7333---Quantifying-the-World/Unit%202%20Case%20study/Code/MSDS_WEEK_1.ipynb\" target=\"_parent\"><img src=\"https://colab.research.google.com/assets/colab-badge.svg\" alt=\"Open In Colab\"/></a>"
      ]
    },
    {
      "cell_type": "code",
      "metadata": {
        "id": "G_2hdGIZIVrp",
        "colab_type": "code",
        "colab": {}
      },
      "source": [
        "#txt = readLines(\"offline.final.trace.txt\")\n",
        "\n",
        "offlinetxt = readLines(\"http://rdatasciencecases.org/Data/offline.final.trace.txt\")\n",
        "onlinetxt = readLines(\"http://rdatasciencecases.org/Data/online.final.trace.txt\")"
      ],
      "execution_count": 0,
      "outputs": []
    },
    {
      "cell_type": "code",
      "metadata": {
        "id": "Nc51YtU8zcpB",
        "colab_type": "code",
        "colab": {
          "base_uri": "https://localhost:8080/",
          "height": 33
        },
        "outputId": "f8913799-cb0e-4cca-c1a7-150d9d14dc5b"
      },
      "source": [
        "sum(substr(offlinetxt, 1, 1) == \"#\")"
      ],
      "execution_count": 2,
      "outputs": [
        {
          "output_type": "display_data",
          "data": {
            "text/plain": [
              "[1] 5312"
            ],
            "text/latex": "5312",
            "text/markdown": "5312",
            "text/html": [
              "5312"
            ]
          },
          "metadata": {
            "tags": []
          }
        }
      ]
    },
    {
      "cell_type": "code",
      "metadata": {
        "id": "o7IY1MKPzcaJ",
        "colab_type": "code",
        "colab": {
          "base_uri": "https://localhost:8080/",
          "height": 33
        },
        "outputId": "6989f1ef-f190-4a5a-fbf7-71387e53a409"
      },
      "source": [
        "length(offlinetxt)"
      ],
      "execution_count": 3,
      "outputs": [
        {
          "output_type": "display_data",
          "data": {
            "text/plain": [
              "[1] 151392"
            ],
            "text/latex": "151392",
            "text/markdown": "151392",
            "text/html": [
              "151392"
            ]
          },
          "metadata": {
            "tags": []
          }
        }
      ]
    },
    {
      "cell_type": "code",
      "metadata": {
        "id": "uDr9xHjL4Tr-",
        "colab_type": "code",
        "colab": {
          "base_uri": "https://localhost:8080/",
          "height": 33
        },
        "outputId": "79a190a4-7e03-4f0c-a060-f5af44272d78"
      },
      "source": [
        "sum(substr(onlinetxt, 1, 1) == \"#\")"
      ],
      "execution_count": 4,
      "outputs": [
        {
          "output_type": "display_data",
          "data": {
            "text/plain": [
              "[1] 240"
            ],
            "text/latex": "240",
            "text/markdown": "240",
            "text/html": [
              "240"
            ]
          },
          "metadata": {
            "tags": []
          }
        }
      ]
    },
    {
      "cell_type": "code",
      "metadata": {
        "id": "2WYqVyRs4Xtd",
        "colab_type": "code",
        "colab": {
          "base_uri": "https://localhost:8080/",
          "height": 33
        },
        "outputId": "09bd46c2-d5bd-4d41-bed2-af246d6ee333"
      },
      "source": [
        "length(onlinetxt)"
      ],
      "execution_count": 5,
      "outputs": [
        {
          "output_type": "display_data",
          "data": {
            "text/plain": [
              "[1] 6832"
            ],
            "text/latex": "6832",
            "text/markdown": "6832",
            "text/html": [
              "6832"
            ]
          },
          "metadata": {
            "tags": []
          }
        }
      ]
    },
    {
      "cell_type": "markdown",
      "metadata": {
        "id": "3V5knwmv5R5r",
        "colab_type": "text"
      },
      "source": [
        "#### Cleaning Offline Data"
      ]
    },
    {
      "cell_type": "code",
      "metadata": {
        "id": "w_2oyHxAIVrs",
        "colab_type": "code",
        "colab": {}
      },
      "source": [
        "processLine = function(x)\n",
        "{\n",
        "tokens = strsplit(x, \"[;=,]\")[[1]]\n",
        "if (length(tokens) == 10)\n",
        "    return(NULL)\n",
        "tmp = matrix(tokens[ - (1:10) ], , 4, byrow = TRUE)\n",
        "cbind(matrix(tokens[c(2, 4, 6:8, 10)], nrow(tmp), 6,\n",
        "byrow = TRUE), tmp)\n",
        "}"
      ],
      "execution_count": 0,
      "outputs": []
    },
    {
      "cell_type": "code",
      "metadata": {
        "id": "oNT8F9OO57mb",
        "colab_type": "code",
        "colab": {
          "base_uri": "https://localhost:8080/",
          "height": 33
        },
        "outputId": "1b65241c-4c81-4199-8909-01d75e4f2ca6"
      },
      "source": [
        "offlineclean = strsplit(offlinetxt[4], \"[;=,]\")[[1]]\n",
        "offlineclean[1:10]"
      ],
      "execution_count": 7,
      "outputs": [
        {
          "output_type": "display_data",
          "data": {
            "text/plain": [
              " [1] \"t\"                 \"1139643118358\"     \"id\"               \n",
              " [4] \"00:02:2D:21:0F:33\" \"pos\"               \"0.0\"              \n",
              " [7] \"0.0\"               \"0.0\"               \"degree\"           \n",
              "[10] \"0.0\"              "
            ],
            "text/latex": "\\begin{enumerate*}\n\\item 't'\n\\item '1139643118358'\n\\item 'id'\n\\item '00:02:2D:21:0F:33'\n\\item 'pos'\n\\item '0.0'\n\\item '0.0'\n\\item '0.0'\n\\item 'degree'\n\\item '0.0'\n\\end{enumerate*}\n",
            "text/markdown": "1. 't'\n2. '1139643118358'\n3. 'id'\n4. '00:02:2D:21:0F:33'\n5. 'pos'\n6. '0.0'\n7. '0.0'\n8. '0.0'\n9. 'degree'\n10. '0.0'\n\n\n",
            "text/html": [
              "<style>\n",
              ".list-inline {list-style: none; margin:0; padding: 0}\n",
              ".list-inline>li {display: inline-block}\n",
              ".list-inline>li:not(:last-child)::after {content: \"\\00b7\"; padding: 0 .5ex}\n",
              "</style>\n",
              "<ol class=list-inline><li>'t'</li><li>'1139643118358'</li><li>'id'</li><li>'00:02:2D:21:0F:33'</li><li>'pos'</li><li>'0.0'</li><li>'0.0'</li><li>'0.0'</li><li>'degree'</li><li>'0.0'</li></ol>\n"
            ]
          },
          "metadata": {
            "tags": []
          }
        }
      ]
    },
    {
      "cell_type": "markdown",
      "metadata": {
        "id": "E3Ye_CeXT8eV",
        "colab_type": "text"
      },
      "source": [
        "Extract the First Four Variables"
      ]
    },
    {
      "cell_type": "code",
      "metadata": {
        "id": "KqxL7QrpT7nH",
        "colab_type": "code",
        "colab": {
          "base_uri": "https://localhost:8080/",
          "height": 33
        },
        "outputId": "402d2314-615d-4a16-a0d0-92ced80923c7"
      },
      "source": [
        "offlineclean[c(2, 4, 6:8, 10)]"
      ],
      "execution_count": 8,
      "outputs": [
        {
          "output_type": "display_data",
          "data": {
            "text/plain": [
              "[1] \"1139643118358\"     \"00:02:2D:21:0F:33\" \"0.0\"              \n",
              "[4] \"0.0\"               \"0.0\"               \"0.0\"              "
            ],
            "text/latex": "\\begin{enumerate*}\n\\item '1139643118358'\n\\item '00:02:2D:21:0F:33'\n\\item '0.0'\n\\item '0.0'\n\\item '0.0'\n\\item '0.0'\n\\end{enumerate*}\n",
            "text/markdown": "1. '1139643118358'\n2. '00:02:2D:21:0F:33'\n3. '0.0'\n4. '0.0'\n5. '0.0'\n6. '0.0'\n\n\n",
            "text/html": [
              "<style>\n",
              ".list-inline {list-style: none; margin:0; padding: 0}\n",
              ".list-inline>li {display: inline-block}\n",
              ".list-inline>li:not(:last-child)::after {content: \"\\00b7\"; padding: 0 .5ex}\n",
              "</style>\n",
              "<ol class=list-inline><li>'1139643118358'</li><li>'00:02:2D:21:0F:33'</li><li>'0.0'</li><li>'0.0'</li><li>'0.0'</li><li>'0.0'</li></ol>\n"
            ]
          },
          "metadata": {
            "tags": []
          }
        }
      ]
    },
    {
      "cell_type": "markdown",
      "metadata": {
        "id": "5rONXr_EUzx7",
        "colab_type": "text"
      },
      "source": [
        "strip the first 4 elements"
      ]
    },
    {
      "cell_type": "code",
      "metadata": {
        "id": "Q_W7GE6DU2oa",
        "colab_type": "code",
        "colab": {
          "base_uri": "https://localhost:8080/",
          "height": 100
        },
        "outputId": "6a98dfef-b9a4-46e5-f179-63e312177957"
      },
      "source": [
        "offlineclean[ - (1:10)]"
      ],
      "execution_count": 9,
      "outputs": [
        {
          "output_type": "display_data",
          "data": {
            "text/plain": [
              " [1] \"00:14:bf:b1:97:8a\" \"-38\"               \"2437000000\"       \n",
              " [4] \"3\"                 \"00:14:bf:b1:97:90\" \"-56\"              \n",
              " [7] \"2427000000\"        \"3\"                 \"00:0f:a3:39:e1:c0\"\n",
              "[10] \"-53\"               \"2462000000\"        \"3\"                \n",
              "[13] \"00:14:bf:b1:97:8d\" \"-65\"               \"2442000000\"       \n",
              "[16] \"3\"                 \"00:14:bf:b1:97:81\" \"-65\"              \n",
              "[19] \"2422000000\"        \"3\"                 \"00:14:bf:3b:c7:c6\"\n",
              "[22] \"-66\"               \"2432000000\"        \"3\"                \n",
              "[25] \"00:0f:a3:39:dd:cd\" \"-75\"               \"2412000000\"       \n",
              "[28] \"3\"                 \"00:0f:a3:39:e0:4b\" \"-78\"              \n",
              "[31] \"2462000000\"        \"3\"                 \"00:0f:a3:39:e2:10\"\n",
              "[34] \"-87\"               \"2437000000\"        \"3\"                \n",
              "[37] \"02:64:fb:68:52:e6\" \"-88\"               \"2447000000\"       \n",
              "[40] \"1\"                 \"02:00:42:55:31:00\" \"-84\"              \n",
              "[43] \"2457000000\"        \"1\"                "
            ],
            "text/latex": "\\begin{enumerate*}\n\\item '00:14:bf:b1:97:8a'\n\\item '-38'\n\\item '2437000000'\n\\item '3'\n\\item '00:14:bf:b1:97:90'\n\\item '-56'\n\\item '2427000000'\n\\item '3'\n\\item '00:0f:a3:39:e1:c0'\n\\item '-53'\n\\item '2462000000'\n\\item '3'\n\\item '00:14:bf:b1:97:8d'\n\\item '-65'\n\\item '2442000000'\n\\item '3'\n\\item '00:14:bf:b1:97:81'\n\\item '-65'\n\\item '2422000000'\n\\item '3'\n\\item '00:14:bf:3b:c7:c6'\n\\item '-66'\n\\item '2432000000'\n\\item '3'\n\\item '00:0f:a3:39:dd:cd'\n\\item '-75'\n\\item '2412000000'\n\\item '3'\n\\item '00:0f:a3:39:e0:4b'\n\\item '-78'\n\\item '2462000000'\n\\item '3'\n\\item '00:0f:a3:39:e2:10'\n\\item '-87'\n\\item '2437000000'\n\\item '3'\n\\item '02:64:fb:68:52:e6'\n\\item '-88'\n\\item '2447000000'\n\\item '1'\n\\item '02:00:42:55:31:00'\n\\item '-84'\n\\item '2457000000'\n\\item '1'\n\\end{enumerate*}\n",
            "text/markdown": "1. '00:14:bf:b1:97:8a'\n2. '-38'\n3. '2437000000'\n4. '3'\n5. '00:14:bf:b1:97:90'\n6. '-56'\n7. '2427000000'\n8. '3'\n9. '00:0f:a3:39:e1:c0'\n10. '-53'\n11. '2462000000'\n12. '3'\n13. '00:14:bf:b1:97:8d'\n14. '-65'\n15. '2442000000'\n16. '3'\n17. '00:14:bf:b1:97:81'\n18. '-65'\n19. '2422000000'\n20. '3'\n21. '00:14:bf:3b:c7:c6'\n22. '-66'\n23. '2432000000'\n24. '3'\n25. '00:0f:a3:39:dd:cd'\n26. '-75'\n27. '2412000000'\n28. '3'\n29. '00:0f:a3:39:e0:4b'\n30. '-78'\n31. '2462000000'\n32. '3'\n33. '00:0f:a3:39:e2:10'\n34. '-87'\n35. '2437000000'\n36. '3'\n37. '02:64:fb:68:52:e6'\n38. '-88'\n39. '2447000000'\n40. '1'\n41. '02:00:42:55:31:00'\n42. '-84'\n43. '2457000000'\n44. '1'\n\n\n",
            "text/html": [
              "<style>\n",
              ".list-inline {list-style: none; margin:0; padding: 0}\n",
              ".list-inline>li {display: inline-block}\n",
              ".list-inline>li:not(:last-child)::after {content: \"\\00b7\"; padding: 0 .5ex}\n",
              "</style>\n",
              "<ol class=list-inline><li>'00:14:bf:b1:97:8a'</li><li>'-38'</li><li>'2437000000'</li><li>'3'</li><li>'00:14:bf:b1:97:90'</li><li>'-56'</li><li>'2427000000'</li><li>'3'</li><li>'00:0f:a3:39:e1:c0'</li><li>'-53'</li><li>'2462000000'</li><li>'3'</li><li>'00:14:bf:b1:97:8d'</li><li>'-65'</li><li>'2442000000'</li><li>'3'</li><li>'00:14:bf:b1:97:81'</li><li>'-65'</li><li>'2422000000'</li><li>'3'</li><li>'00:14:bf:3b:c7:c6'</li><li>'-66'</li><li>'2432000000'</li><li>'3'</li><li>'00:0f:a3:39:dd:cd'</li><li>'-75'</li><li>'2412000000'</li><li>'3'</li><li>'00:0f:a3:39:e0:4b'</li><li>'-78'</li><li>'2462000000'</li><li>'3'</li><li>'00:0f:a3:39:e2:10'</li><li>'-87'</li><li>'2437000000'</li><li>'3'</li><li>'02:64:fb:68:52:e6'</li><li>'-88'</li><li>'2447000000'</li><li>'1'</li><li>'02:00:42:55:31:00'</li><li>'-84'</li><li>'2457000000'</li><li>'1'</li></ol>\n"
            ]
          },
          "metadata": {
            "tags": []
          }
        }
      ]
    },
    {
      "cell_type": "markdown",
      "metadata": {
        "id": "K7Ow6rsoVAyE",
        "colab_type": "text"
      },
      "source": [
        "Need to insure we have one location per row. So we will need to bind each of these sets to 4 values. "
      ]
    },
    {
      "cell_type": "code",
      "metadata": {
        "id": "ijOKWdp2VMQH",
        "colab_type": "code",
        "colab": {}
      },
      "source": [
        "cleaning_tmp = matrix(offlineclean[ - (1:10) ], ncol = 4, byrow = TRUE)\n",
        "cleaning_mat = cbind(matrix(offlineclean[c(2, 4, 6:8, 10)], nrow = nrow(cleaning_tmp), ncol = 6, byrow = TRUE), cleaning_tmp)"
      ],
      "execution_count": 0,
      "outputs": []
    },
    {
      "cell_type": "code",
      "metadata": {
        "id": "FQ_HhddTVTm8",
        "colab_type": "code",
        "colab": {
          "base_uri": "https://localhost:8080/",
          "height": 33
        },
        "outputId": "141f5359-f706-4172-9dd7-4aad17163285"
      },
      "source": [
        "dim(cleaning_mat)"
      ],
      "execution_count": 11,
      "outputs": [
        {
          "output_type": "display_data",
          "data": {
            "text/plain": [
              "[1] 11 10"
            ],
            "text/latex": "\\begin{enumerate*}\n\\item 11\n\\item 10\n\\end{enumerate*}\n",
            "text/markdown": "1. 11\n2. 10\n\n\n",
            "text/html": [
              "<style>\n",
              ".list-inline {list-style: none; margin:0; padding: 0}\n",
              ".list-inline>li {display: inline-block}\n",
              ".list-inline>li:not(:last-child)::after {content: \"\\00b7\"; padding: 0 .5ex}\n",
              "</style>\n",
              "<ol class=list-inline><li>11</li><li>10</li></ol>\n"
            ]
          },
          "metadata": {
            "tags": []
          }
        }
      ]
    },
    {
      "cell_type": "markdown",
      "metadata": {
        "id": "R_zZu-qQW2WF",
        "colab_type": "text"
      },
      "source": [
        "Apply this to each row of the text file. "
      ]
    },
    {
      "cell_type": "code",
      "metadata": {
        "id": "6CzdRE2IW5ek",
        "colab_type": "code",
        "colab": {}
      },
      "source": [
        "## Function to parse the data\n",
        "processLine = function(x) {\n",
        "    # split x by the 3 delim's (;=,)\n",
        "    cleaning = strsplit(x, \"[;=,]\")[[1]]\n",
        "    \n",
        "    # if the lenth of the field is equa to 10, then return NULL\n",
        "    if (length(cleaning) == 10)\n",
        "      return(NULL)\n",
        "    # create a variable cleaning_temp = a matrix of with 4 columns \n",
        "    # then, cbind the matrix \n",
        "    cleaning_tmp = matrix(cleaning[ - (1:10)], ncol = 4, byrow = TRUE) \n",
        "    cbind(matrix(cleaning[c(2, 4, 6:8, 10)], nrow = nrow(cleaning_tmp), ncol = 6, byrow = TRUE), cleaning_tmp) \n",
        "}"
      ],
      "execution_count": 0,
      "outputs": []
    },
    {
      "cell_type": "code",
      "metadata": {
        "id": "pA4y2xjPW_Bc",
        "colab_type": "code",
        "colab": {
          "base_uri": "https://localhost:8080/",
          "height": 33
        },
        "outputId": "aafda118-a48b-4358-bbad-3fb360a3cff5"
      },
      "source": [
        "## Test this function \n",
        "cleaning_tmp = lapply(offlinetxt[4:20], processLine)\n",
        "sapply(cleaning_tmp, nrow)"
      ],
      "execution_count": 13,
      "outputs": [
        {
          "output_type": "display_data",
          "data": {
            "text/plain": [
              " [1] 11 10 10 11  9 10  9  9 10 11 11  9  9  9  8 10 14"
            ],
            "text/latex": "\\begin{enumerate*}\n\\item 11\n\\item 10\n\\item 10\n\\item 11\n\\item 9\n\\item 10\n\\item 9\n\\item 9\n\\item 10\n\\item 11\n\\item 11\n\\item 9\n\\item 9\n\\item 9\n\\item 8\n\\item 10\n\\item 14\n\\end{enumerate*}\n",
            "text/markdown": "1. 11\n2. 10\n3. 10\n4. 11\n5. 9\n6. 10\n7. 9\n8. 9\n9. 10\n10. 11\n11. 11\n12. 9\n13. 9\n14. 9\n15. 8\n16. 10\n17. 14\n\n\n",
            "text/html": [
              "<style>\n",
              ".list-inline {list-style: none; margin:0; padding: 0}\n",
              ".list-inline>li {display: inline-block}\n",
              ".list-inline>li:not(:last-child)::after {content: \"\\00b7\"; padding: 0 .5ex}\n",
              "</style>\n",
              "<ol class=list-inline><li>11</li><li>10</li><li>10</li><li>11</li><li>9</li><li>10</li><li>9</li><li>9</li><li>10</li><li>11</li><li>11</li><li>9</li><li>9</li><li>9</li><li>8</li><li>10</li><li>14</li></ol>\n"
            ]
          },
          "metadata": {
            "tags": []
          }
        }
      ]
    },
    {
      "cell_type": "markdown",
      "metadata": {
        "id": "UUfDBgB1m2mL",
        "colab_type": "text"
      },
      "source": [
        "combine all into a dataframe"
      ]
    },
    {
      "cell_type": "code",
      "metadata": {
        "id": "UxkPh-rkm5IC",
        "colab_type": "code",
        "colab": {
          "base_uri": "https://localhost:8080/",
          "height": 33
        },
        "outputId": "be6a183d-e3cf-4594-8022-9ed2cf3a9c5c"
      },
      "source": [
        "offline = as.data.frame(do.call(\"rbind\", cleaning_tmp))\n",
        "dim(offline)"
      ],
      "execution_count": 14,
      "outputs": [
        {
          "output_type": "display_data",
          "data": {
            "text/plain": [
              "[1] 170  10"
            ],
            "text/latex": "\\begin{enumerate*}\n\\item 170\n\\item 10\n\\end{enumerate*}\n",
            "text/markdown": "1. 170\n2. 10\n\n\n",
            "text/html": [
              "<style>\n",
              ".list-inline {list-style: none; margin:0; padding: 0}\n",
              ".list-inline>li {display: inline-block}\n",
              ".list-inline>li:not(:last-child)::after {content: \"\\00b7\"; padding: 0 .5ex}\n",
              "</style>\n",
              "<ol class=list-inline><li>170</li><li>10</li></ol>\n"
            ]
          },
          "metadata": {
            "tags": []
          }
        }
      ]
    },
    {
      "cell_type": "code",
      "metadata": {
        "id": "7MSN8WNHIVrv",
        "colab_type": "code",
        "colab": {}
      },
      "source": [
        "lines = offlinetxt[ substr(offlinetxt, 1, 1) != \"#\" ]\n",
        "tmp = lapply(lines, processLine)\n",
        "offline = as.data.frame(do.call(\"rbind\", tmp),stringsAsFactors = FALSE)"
      ],
      "execution_count": 0,
      "outputs": []
    },
    {
      "cell_type": "code",
      "metadata": {
        "id": "q7zniwfzoC5s",
        "colab_type": "code",
        "colab": {
          "base_uri": "https://localhost:8080/",
          "height": 33
        },
        "outputId": "57678632-03ba-4944-b5e6-026274e3362f"
      },
      "source": [
        "dim(offline)"
      ],
      "execution_count": 16,
      "outputs": [
        {
          "output_type": "display_data",
          "data": {
            "text/plain": [
              "[1] 1181628      10"
            ],
            "text/latex": "\\begin{enumerate*}\n\\item 1181628\n\\item 10\n\\end{enumerate*}\n",
            "text/markdown": "1. 1181628\n2. 10\n\n\n",
            "text/html": [
              "<style>\n",
              ".list-inline {list-style: none; margin:0; padding: 0}\n",
              ".list-inline>li {display: inline-block}\n",
              ".list-inline>li:not(:last-child)::after {content: \"\\00b7\"; padding: 0 .5ex}\n",
              "</style>\n",
              "<ol class=list-inline><li>1181628</li><li>10</li></ol>\n"
            ]
          },
          "metadata": {
            "tags": []
          }
        }
      ]
    },
    {
      "cell_type": "code",
      "metadata": {
        "id": "sLHpwWaOIVrx",
        "colab_type": "code",
        "colab": {
          "base_uri": "https://localhost:8080/",
          "height": 176
        },
        "outputId": "ee3973e4-0bf3-4988-cb37-4f4e351b5208"
      },
      "source": [
        "head(offline)"
      ],
      "execution_count": 17,
      "outputs": [
        {
          "output_type": "display_data",
          "data": {
            "text/plain": [
              "  V1            V2                V3  V4  V5  V6  V7                V8 \n",
              "1 1139643118358 00:02:2D:21:0F:33 0.0 0.0 0.0 0.0 00:14:bf:b1:97:8a -38\n",
              "2 1139643118358 00:02:2D:21:0F:33 0.0 0.0 0.0 0.0 00:14:bf:b1:97:90 -56\n",
              "3 1139643118358 00:02:2D:21:0F:33 0.0 0.0 0.0 0.0 00:0f:a3:39:e1:c0 -53\n",
              "4 1139643118358 00:02:2D:21:0F:33 0.0 0.0 0.0 0.0 00:14:bf:b1:97:8d -65\n",
              "5 1139643118358 00:02:2D:21:0F:33 0.0 0.0 0.0 0.0 00:14:bf:b1:97:81 -65\n",
              "6 1139643118358 00:02:2D:21:0F:33 0.0 0.0 0.0 0.0 00:14:bf:3b:c7:c6 -66\n",
              "  V9         V10\n",
              "1 2437000000 3  \n",
              "2 2427000000 3  \n",
              "3 2462000000 3  \n",
              "4 2442000000 3  \n",
              "5 2422000000 3  \n",
              "6 2432000000 3  "
            ],
            "text/latex": "A data.frame: 6 × 10\n\\begin{tabular}{r|llllllllll}\n  & V1 & V2 & V3 & V4 & V5 & V6 & V7 & V8 & V9 & V10\\\\\n  & <chr> & <chr> & <chr> & <chr> & <chr> & <chr> & <chr> & <chr> & <chr> & <chr>\\\\\n\\hline\n\t1 & 1139643118358 & 00:02:2D:21:0F:33 & 0.0 & 0.0 & 0.0 & 0.0 & 00:14:bf:b1:97:8a & -38 & 2437000000 & 3\\\\\n\t2 & 1139643118358 & 00:02:2D:21:0F:33 & 0.0 & 0.0 & 0.0 & 0.0 & 00:14:bf:b1:97:90 & -56 & 2427000000 & 3\\\\\n\t3 & 1139643118358 & 00:02:2D:21:0F:33 & 0.0 & 0.0 & 0.0 & 0.0 & 00:0f:a3:39:e1:c0 & -53 & 2462000000 & 3\\\\\n\t4 & 1139643118358 & 00:02:2D:21:0F:33 & 0.0 & 0.0 & 0.0 & 0.0 & 00:14:bf:b1:97:8d & -65 & 2442000000 & 3\\\\\n\t5 & 1139643118358 & 00:02:2D:21:0F:33 & 0.0 & 0.0 & 0.0 & 0.0 & 00:14:bf:b1:97:81 & -65 & 2422000000 & 3\\\\\n\t6 & 1139643118358 & 00:02:2D:21:0F:33 & 0.0 & 0.0 & 0.0 & 0.0 & 00:14:bf:3b:c7:c6 & -66 & 2432000000 & 3\\\\\n\\end{tabular}\n",
            "text/markdown": "\nA data.frame: 6 × 10\n\n| <!--/--> | V1 &lt;chr&gt; | V2 &lt;chr&gt; | V3 &lt;chr&gt; | V4 &lt;chr&gt; | V5 &lt;chr&gt; | V6 &lt;chr&gt; | V7 &lt;chr&gt; | V8 &lt;chr&gt; | V9 &lt;chr&gt; | V10 &lt;chr&gt; |\n|---|---|---|---|---|---|---|---|---|---|---|\n| 1 | 1139643118358 | 00:02:2D:21:0F:33 | 0.0 | 0.0 | 0.0 | 0.0 | 00:14:bf:b1:97:8a | -38 | 2437000000 | 3 |\n| 2 | 1139643118358 | 00:02:2D:21:0F:33 | 0.0 | 0.0 | 0.0 | 0.0 | 00:14:bf:b1:97:90 | -56 | 2427000000 | 3 |\n| 3 | 1139643118358 | 00:02:2D:21:0F:33 | 0.0 | 0.0 | 0.0 | 0.0 | 00:0f:a3:39:e1:c0 | -53 | 2462000000 | 3 |\n| 4 | 1139643118358 | 00:02:2D:21:0F:33 | 0.0 | 0.0 | 0.0 | 0.0 | 00:14:bf:b1:97:8d | -65 | 2442000000 | 3 |\n| 5 | 1139643118358 | 00:02:2D:21:0F:33 | 0.0 | 0.0 | 0.0 | 0.0 | 00:14:bf:b1:97:81 | -65 | 2422000000 | 3 |\n| 6 | 1139643118358 | 00:02:2D:21:0F:33 | 0.0 | 0.0 | 0.0 | 0.0 | 00:14:bf:3b:c7:c6 | -66 | 2432000000 | 3 |\n\n",
            "text/html": [
              "<table>\n",
              "<caption>A data.frame: 6 × 10</caption>\n",
              "<thead>\n",
              "\t<tr><th></th><th scope=col>V1</th><th scope=col>V2</th><th scope=col>V3</th><th scope=col>V4</th><th scope=col>V5</th><th scope=col>V6</th><th scope=col>V7</th><th scope=col>V8</th><th scope=col>V9</th><th scope=col>V10</th></tr>\n",
              "\t<tr><th></th><th scope=col>&lt;chr&gt;</th><th scope=col>&lt;chr&gt;</th><th scope=col>&lt;chr&gt;</th><th scope=col>&lt;chr&gt;</th><th scope=col>&lt;chr&gt;</th><th scope=col>&lt;chr&gt;</th><th scope=col>&lt;chr&gt;</th><th scope=col>&lt;chr&gt;</th><th scope=col>&lt;chr&gt;</th><th scope=col>&lt;chr&gt;</th></tr>\n",
              "</thead>\n",
              "<tbody>\n",
              "\t<tr><th scope=row>1</th><td>1139643118358</td><td>00:02:2D:21:0F:33</td><td>0.0</td><td>0.0</td><td>0.0</td><td>0.0</td><td>00:14:bf:b1:97:8a</td><td>-38</td><td>2437000000</td><td>3</td></tr>\n",
              "\t<tr><th scope=row>2</th><td>1139643118358</td><td>00:02:2D:21:0F:33</td><td>0.0</td><td>0.0</td><td>0.0</td><td>0.0</td><td>00:14:bf:b1:97:90</td><td>-56</td><td>2427000000</td><td>3</td></tr>\n",
              "\t<tr><th scope=row>3</th><td>1139643118358</td><td>00:02:2D:21:0F:33</td><td>0.0</td><td>0.0</td><td>0.0</td><td>0.0</td><td>00:0f:a3:39:e1:c0</td><td>-53</td><td>2462000000</td><td>3</td></tr>\n",
              "\t<tr><th scope=row>4</th><td>1139643118358</td><td>00:02:2D:21:0F:33</td><td>0.0</td><td>0.0</td><td>0.0</td><td>0.0</td><td>00:14:bf:b1:97:8d</td><td>-65</td><td>2442000000</td><td>3</td></tr>\n",
              "\t<tr><th scope=row>5</th><td>1139643118358</td><td>00:02:2D:21:0F:33</td><td>0.0</td><td>0.0</td><td>0.0</td><td>0.0</td><td>00:14:bf:b1:97:81</td><td>-65</td><td>2422000000</td><td>3</td></tr>\n",
              "\t<tr><th scope=row>6</th><td>1139643118358</td><td>00:02:2D:21:0F:33</td><td>0.0</td><td>0.0</td><td>0.0</td><td>0.0</td><td>00:14:bf:3b:c7:c6</td><td>-66</td><td>2432000000</td><td>3</td></tr>\n",
              "</tbody>\n",
              "</table>\n"
            ]
          },
          "metadata": {
            "tags": []
          }
        }
      ]
    },
    {
      "cell_type": "code",
      "metadata": {
        "id": "lwKrdqsSIVr0",
        "colab_type": "code",
        "colab": {}
      },
      "source": [
        "names(offline) = c(\"time\", \"scanMac\", \"posX\", \"posY\", \"posZ\",\n",
        "\"orientation\", \"mac\", \"signal\",\n",
        "\"channel\", \"type\")"
      ],
      "execution_count": 0,
      "outputs": []
    },
    {
      "cell_type": "code",
      "metadata": {
        "id": "ORMGMbH7IVr3",
        "colab_type": "code",
        "colab": {
          "base_uri": "https://localhost:8080/",
          "height": 176
        },
        "outputId": "5c2f062c-eaa8-40fc-afbc-c9a893e5e5dc"
      },
      "source": [
        "head(offline)"
      ],
      "execution_count": 19,
      "outputs": [
        {
          "output_type": "display_data",
          "data": {
            "text/plain": [
              "  time          scanMac           posX posY posZ orientation mac              \n",
              "1 1139643118358 00:02:2D:21:0F:33 0.0  0.0  0.0  0.0         00:14:bf:b1:97:8a\n",
              "2 1139643118358 00:02:2D:21:0F:33 0.0  0.0  0.0  0.0         00:14:bf:b1:97:90\n",
              "3 1139643118358 00:02:2D:21:0F:33 0.0  0.0  0.0  0.0         00:0f:a3:39:e1:c0\n",
              "4 1139643118358 00:02:2D:21:0F:33 0.0  0.0  0.0  0.0         00:14:bf:b1:97:8d\n",
              "5 1139643118358 00:02:2D:21:0F:33 0.0  0.0  0.0  0.0         00:14:bf:b1:97:81\n",
              "6 1139643118358 00:02:2D:21:0F:33 0.0  0.0  0.0  0.0         00:14:bf:3b:c7:c6\n",
              "  signal channel    type\n",
              "1 -38    2437000000 3   \n",
              "2 -56    2427000000 3   \n",
              "3 -53    2462000000 3   \n",
              "4 -65    2442000000 3   \n",
              "5 -65    2422000000 3   \n",
              "6 -66    2432000000 3   "
            ],
            "text/latex": "A data.frame: 6 × 10\n\\begin{tabular}{r|llllllllll}\n  & time & scanMac & posX & posY & posZ & orientation & mac & signal & channel & type\\\\\n  & <chr> & <chr> & <chr> & <chr> & <chr> & <chr> & <chr> & <chr> & <chr> & <chr>\\\\\n\\hline\n\t1 & 1139643118358 & 00:02:2D:21:0F:33 & 0.0 & 0.0 & 0.0 & 0.0 & 00:14:bf:b1:97:8a & -38 & 2437000000 & 3\\\\\n\t2 & 1139643118358 & 00:02:2D:21:0F:33 & 0.0 & 0.0 & 0.0 & 0.0 & 00:14:bf:b1:97:90 & -56 & 2427000000 & 3\\\\\n\t3 & 1139643118358 & 00:02:2D:21:0F:33 & 0.0 & 0.0 & 0.0 & 0.0 & 00:0f:a3:39:e1:c0 & -53 & 2462000000 & 3\\\\\n\t4 & 1139643118358 & 00:02:2D:21:0F:33 & 0.0 & 0.0 & 0.0 & 0.0 & 00:14:bf:b1:97:8d & -65 & 2442000000 & 3\\\\\n\t5 & 1139643118358 & 00:02:2D:21:0F:33 & 0.0 & 0.0 & 0.0 & 0.0 & 00:14:bf:b1:97:81 & -65 & 2422000000 & 3\\\\\n\t6 & 1139643118358 & 00:02:2D:21:0F:33 & 0.0 & 0.0 & 0.0 & 0.0 & 00:14:bf:3b:c7:c6 & -66 & 2432000000 & 3\\\\\n\\end{tabular}\n",
            "text/markdown": "\nA data.frame: 6 × 10\n\n| <!--/--> | time &lt;chr&gt; | scanMac &lt;chr&gt; | posX &lt;chr&gt; | posY &lt;chr&gt; | posZ &lt;chr&gt; | orientation &lt;chr&gt; | mac &lt;chr&gt; | signal &lt;chr&gt; | channel &lt;chr&gt; | type &lt;chr&gt; |\n|---|---|---|---|---|---|---|---|---|---|---|\n| 1 | 1139643118358 | 00:02:2D:21:0F:33 | 0.0 | 0.0 | 0.0 | 0.0 | 00:14:bf:b1:97:8a | -38 | 2437000000 | 3 |\n| 2 | 1139643118358 | 00:02:2D:21:0F:33 | 0.0 | 0.0 | 0.0 | 0.0 | 00:14:bf:b1:97:90 | -56 | 2427000000 | 3 |\n| 3 | 1139643118358 | 00:02:2D:21:0F:33 | 0.0 | 0.0 | 0.0 | 0.0 | 00:0f:a3:39:e1:c0 | -53 | 2462000000 | 3 |\n| 4 | 1139643118358 | 00:02:2D:21:0F:33 | 0.0 | 0.0 | 0.0 | 0.0 | 00:14:bf:b1:97:8d | -65 | 2442000000 | 3 |\n| 5 | 1139643118358 | 00:02:2D:21:0F:33 | 0.0 | 0.0 | 0.0 | 0.0 | 00:14:bf:b1:97:81 | -65 | 2422000000 | 3 |\n| 6 | 1139643118358 | 00:02:2D:21:0F:33 | 0.0 | 0.0 | 0.0 | 0.0 | 00:14:bf:3b:c7:c6 | -66 | 2432000000 | 3 |\n\n",
            "text/html": [
              "<table>\n",
              "<caption>A data.frame: 6 × 10</caption>\n",
              "<thead>\n",
              "\t<tr><th></th><th scope=col>time</th><th scope=col>scanMac</th><th scope=col>posX</th><th scope=col>posY</th><th scope=col>posZ</th><th scope=col>orientation</th><th scope=col>mac</th><th scope=col>signal</th><th scope=col>channel</th><th scope=col>type</th></tr>\n",
              "\t<tr><th></th><th scope=col>&lt;chr&gt;</th><th scope=col>&lt;chr&gt;</th><th scope=col>&lt;chr&gt;</th><th scope=col>&lt;chr&gt;</th><th scope=col>&lt;chr&gt;</th><th scope=col>&lt;chr&gt;</th><th scope=col>&lt;chr&gt;</th><th scope=col>&lt;chr&gt;</th><th scope=col>&lt;chr&gt;</th><th scope=col>&lt;chr&gt;</th></tr>\n",
              "</thead>\n",
              "<tbody>\n",
              "\t<tr><th scope=row>1</th><td>1139643118358</td><td>00:02:2D:21:0F:33</td><td>0.0</td><td>0.0</td><td>0.0</td><td>0.0</td><td>00:14:bf:b1:97:8a</td><td>-38</td><td>2437000000</td><td>3</td></tr>\n",
              "\t<tr><th scope=row>2</th><td>1139643118358</td><td>00:02:2D:21:0F:33</td><td>0.0</td><td>0.0</td><td>0.0</td><td>0.0</td><td>00:14:bf:b1:97:90</td><td>-56</td><td>2427000000</td><td>3</td></tr>\n",
              "\t<tr><th scope=row>3</th><td>1139643118358</td><td>00:02:2D:21:0F:33</td><td>0.0</td><td>0.0</td><td>0.0</td><td>0.0</td><td>00:0f:a3:39:e1:c0</td><td>-53</td><td>2462000000</td><td>3</td></tr>\n",
              "\t<tr><th scope=row>4</th><td>1139643118358</td><td>00:02:2D:21:0F:33</td><td>0.0</td><td>0.0</td><td>0.0</td><td>0.0</td><td>00:14:bf:b1:97:8d</td><td>-65</td><td>2442000000</td><td>3</td></tr>\n",
              "\t<tr><th scope=row>5</th><td>1139643118358</td><td>00:02:2D:21:0F:33</td><td>0.0</td><td>0.0</td><td>0.0</td><td>0.0</td><td>00:14:bf:b1:97:81</td><td>-65</td><td>2422000000</td><td>3</td></tr>\n",
              "\t<tr><th scope=row>6</th><td>1139643118358</td><td>00:02:2D:21:0F:33</td><td>0.0</td><td>0.0</td><td>0.0</td><td>0.0</td><td>00:14:bf:3b:c7:c6</td><td>-66</td><td>2432000000</td><td>3</td></tr>\n",
              "</tbody>\n",
              "</table>\n"
            ]
          },
          "metadata": {
            "tags": []
          }
        }
      ]
    },
    {
      "cell_type": "code",
      "metadata": {
        "id": "fwyo0l5BIVr5",
        "colab_type": "code",
        "colab": {
          "base_uri": "https://localhost:8080/",
          "height": 265
        },
        "outputId": "c5794629-0b67-464f-fd00-cab2644d476a"
      },
      "source": [
        "offline[offline$time==1139643118358,]"
      ],
      "execution_count": 20,
      "outputs": [
        {
          "output_type": "display_data",
          "data": {
            "text/plain": [
              "   time          scanMac           posX posY posZ orientation mac              \n",
              "1  1139643118358 00:02:2D:21:0F:33 0.0  0.0  0.0  0.0         00:14:bf:b1:97:8a\n",
              "2  1139643118358 00:02:2D:21:0F:33 0.0  0.0  0.0  0.0         00:14:bf:b1:97:90\n",
              "3  1139643118358 00:02:2D:21:0F:33 0.0  0.0  0.0  0.0         00:0f:a3:39:e1:c0\n",
              "4  1139643118358 00:02:2D:21:0F:33 0.0  0.0  0.0  0.0         00:14:bf:b1:97:8d\n",
              "5  1139643118358 00:02:2D:21:0F:33 0.0  0.0  0.0  0.0         00:14:bf:b1:97:81\n",
              "6  1139643118358 00:02:2D:21:0F:33 0.0  0.0  0.0  0.0         00:14:bf:3b:c7:c6\n",
              "7  1139643118358 00:02:2D:21:0F:33 0.0  0.0  0.0  0.0         00:0f:a3:39:dd:cd\n",
              "8  1139643118358 00:02:2D:21:0F:33 0.0  0.0  0.0  0.0         00:0f:a3:39:e0:4b\n",
              "9  1139643118358 00:02:2D:21:0F:33 0.0  0.0  0.0  0.0         00:0f:a3:39:e2:10\n",
              "10 1139643118358 00:02:2D:21:0F:33 0.0  0.0  0.0  0.0         02:64:fb:68:52:e6\n",
              "11 1139643118358 00:02:2D:21:0F:33 0.0  0.0  0.0  0.0         02:00:42:55:31:00\n",
              "   signal channel    type\n",
              "1  -38    2437000000 3   \n",
              "2  -56    2427000000 3   \n",
              "3  -53    2462000000 3   \n",
              "4  -65    2442000000 3   \n",
              "5  -65    2422000000 3   \n",
              "6  -66    2432000000 3   \n",
              "7  -75    2412000000 3   \n",
              "8  -78    2462000000 3   \n",
              "9  -87    2437000000 3   \n",
              "10 -88    2447000000 1   \n",
              "11 -84    2457000000 1   "
            ],
            "text/latex": "A data.frame: 11 × 10\n\\begin{tabular}{r|llllllllll}\n  & time & scanMac & posX & posY & posZ & orientation & mac & signal & channel & type\\\\\n  & <chr> & <chr> & <chr> & <chr> & <chr> & <chr> & <chr> & <chr> & <chr> & <chr>\\\\\n\\hline\n\t1 & 1139643118358 & 00:02:2D:21:0F:33 & 0.0 & 0.0 & 0.0 & 0.0 & 00:14:bf:b1:97:8a & -38 & 2437000000 & 3\\\\\n\t2 & 1139643118358 & 00:02:2D:21:0F:33 & 0.0 & 0.0 & 0.0 & 0.0 & 00:14:bf:b1:97:90 & -56 & 2427000000 & 3\\\\\n\t3 & 1139643118358 & 00:02:2D:21:0F:33 & 0.0 & 0.0 & 0.0 & 0.0 & 00:0f:a3:39:e1:c0 & -53 & 2462000000 & 3\\\\\n\t4 & 1139643118358 & 00:02:2D:21:0F:33 & 0.0 & 0.0 & 0.0 & 0.0 & 00:14:bf:b1:97:8d & -65 & 2442000000 & 3\\\\\n\t5 & 1139643118358 & 00:02:2D:21:0F:33 & 0.0 & 0.0 & 0.0 & 0.0 & 00:14:bf:b1:97:81 & -65 & 2422000000 & 3\\\\\n\t6 & 1139643118358 & 00:02:2D:21:0F:33 & 0.0 & 0.0 & 0.0 & 0.0 & 00:14:bf:3b:c7:c6 & -66 & 2432000000 & 3\\\\\n\t7 & 1139643118358 & 00:02:2D:21:0F:33 & 0.0 & 0.0 & 0.0 & 0.0 & 00:0f:a3:39:dd:cd & -75 & 2412000000 & 3\\\\\n\t8 & 1139643118358 & 00:02:2D:21:0F:33 & 0.0 & 0.0 & 0.0 & 0.0 & 00:0f:a3:39:e0:4b & -78 & 2462000000 & 3\\\\\n\t9 & 1139643118358 & 00:02:2D:21:0F:33 & 0.0 & 0.0 & 0.0 & 0.0 & 00:0f:a3:39:e2:10 & -87 & 2437000000 & 3\\\\\n\t10 & 1139643118358 & 00:02:2D:21:0F:33 & 0.0 & 0.0 & 0.0 & 0.0 & 02:64:fb:68:52:e6 & -88 & 2447000000 & 1\\\\\n\t11 & 1139643118358 & 00:02:2D:21:0F:33 & 0.0 & 0.0 & 0.0 & 0.0 & 02:00:42:55:31:00 & -84 & 2457000000 & 1\\\\\n\\end{tabular}\n",
            "text/markdown": "\nA data.frame: 11 × 10\n\n| <!--/--> | time &lt;chr&gt; | scanMac &lt;chr&gt; | posX &lt;chr&gt; | posY &lt;chr&gt; | posZ &lt;chr&gt; | orientation &lt;chr&gt; | mac &lt;chr&gt; | signal &lt;chr&gt; | channel &lt;chr&gt; | type &lt;chr&gt; |\n|---|---|---|---|---|---|---|---|---|---|---|\n| 1 | 1139643118358 | 00:02:2D:21:0F:33 | 0.0 | 0.0 | 0.0 | 0.0 | 00:14:bf:b1:97:8a | -38 | 2437000000 | 3 |\n| 2 | 1139643118358 | 00:02:2D:21:0F:33 | 0.0 | 0.0 | 0.0 | 0.0 | 00:14:bf:b1:97:90 | -56 | 2427000000 | 3 |\n| 3 | 1139643118358 | 00:02:2D:21:0F:33 | 0.0 | 0.0 | 0.0 | 0.0 | 00:0f:a3:39:e1:c0 | -53 | 2462000000 | 3 |\n| 4 | 1139643118358 | 00:02:2D:21:0F:33 | 0.0 | 0.0 | 0.0 | 0.0 | 00:14:bf:b1:97:8d | -65 | 2442000000 | 3 |\n| 5 | 1139643118358 | 00:02:2D:21:0F:33 | 0.0 | 0.0 | 0.0 | 0.0 | 00:14:bf:b1:97:81 | -65 | 2422000000 | 3 |\n| 6 | 1139643118358 | 00:02:2D:21:0F:33 | 0.0 | 0.0 | 0.0 | 0.0 | 00:14:bf:3b:c7:c6 | -66 | 2432000000 | 3 |\n| 7 | 1139643118358 | 00:02:2D:21:0F:33 | 0.0 | 0.0 | 0.0 | 0.0 | 00:0f:a3:39:dd:cd | -75 | 2412000000 | 3 |\n| 8 | 1139643118358 | 00:02:2D:21:0F:33 | 0.0 | 0.0 | 0.0 | 0.0 | 00:0f:a3:39:e0:4b | -78 | 2462000000 | 3 |\n| 9 | 1139643118358 | 00:02:2D:21:0F:33 | 0.0 | 0.0 | 0.0 | 0.0 | 00:0f:a3:39:e2:10 | -87 | 2437000000 | 3 |\n| 10 | 1139643118358 | 00:02:2D:21:0F:33 | 0.0 | 0.0 | 0.0 | 0.0 | 02:64:fb:68:52:e6 | -88 | 2447000000 | 1 |\n| 11 | 1139643118358 | 00:02:2D:21:0F:33 | 0.0 | 0.0 | 0.0 | 0.0 | 02:00:42:55:31:00 | -84 | 2457000000 | 1 |\n\n",
            "text/html": [
              "<table>\n",
              "<caption>A data.frame: 11 × 10</caption>\n",
              "<thead>\n",
              "\t<tr><th></th><th scope=col>time</th><th scope=col>scanMac</th><th scope=col>posX</th><th scope=col>posY</th><th scope=col>posZ</th><th scope=col>orientation</th><th scope=col>mac</th><th scope=col>signal</th><th scope=col>channel</th><th scope=col>type</th></tr>\n",
              "\t<tr><th></th><th scope=col>&lt;chr&gt;</th><th scope=col>&lt;chr&gt;</th><th scope=col>&lt;chr&gt;</th><th scope=col>&lt;chr&gt;</th><th scope=col>&lt;chr&gt;</th><th scope=col>&lt;chr&gt;</th><th scope=col>&lt;chr&gt;</th><th scope=col>&lt;chr&gt;</th><th scope=col>&lt;chr&gt;</th><th scope=col>&lt;chr&gt;</th></tr>\n",
              "</thead>\n",
              "<tbody>\n",
              "\t<tr><th scope=row>1</th><td>1139643118358</td><td>00:02:2D:21:0F:33</td><td>0.0</td><td>0.0</td><td>0.0</td><td>0.0</td><td>00:14:bf:b1:97:8a</td><td>-38</td><td>2437000000</td><td>3</td></tr>\n",
              "\t<tr><th scope=row>2</th><td>1139643118358</td><td>00:02:2D:21:0F:33</td><td>0.0</td><td>0.0</td><td>0.0</td><td>0.0</td><td>00:14:bf:b1:97:90</td><td>-56</td><td>2427000000</td><td>3</td></tr>\n",
              "\t<tr><th scope=row>3</th><td>1139643118358</td><td>00:02:2D:21:0F:33</td><td>0.0</td><td>0.0</td><td>0.0</td><td>0.0</td><td>00:0f:a3:39:e1:c0</td><td>-53</td><td>2462000000</td><td>3</td></tr>\n",
              "\t<tr><th scope=row>4</th><td>1139643118358</td><td>00:02:2D:21:0F:33</td><td>0.0</td><td>0.0</td><td>0.0</td><td>0.0</td><td>00:14:bf:b1:97:8d</td><td>-65</td><td>2442000000</td><td>3</td></tr>\n",
              "\t<tr><th scope=row>5</th><td>1139643118358</td><td>00:02:2D:21:0F:33</td><td>0.0</td><td>0.0</td><td>0.0</td><td>0.0</td><td>00:14:bf:b1:97:81</td><td>-65</td><td>2422000000</td><td>3</td></tr>\n",
              "\t<tr><th scope=row>6</th><td>1139643118358</td><td>00:02:2D:21:0F:33</td><td>0.0</td><td>0.0</td><td>0.0</td><td>0.0</td><td>00:14:bf:3b:c7:c6</td><td>-66</td><td>2432000000</td><td>3</td></tr>\n",
              "\t<tr><th scope=row>7</th><td>1139643118358</td><td>00:02:2D:21:0F:33</td><td>0.0</td><td>0.0</td><td>0.0</td><td>0.0</td><td>00:0f:a3:39:dd:cd</td><td>-75</td><td>2412000000</td><td>3</td></tr>\n",
              "\t<tr><th scope=row>8</th><td>1139643118358</td><td>00:02:2D:21:0F:33</td><td>0.0</td><td>0.0</td><td>0.0</td><td>0.0</td><td>00:0f:a3:39:e0:4b</td><td>-78</td><td>2462000000</td><td>3</td></tr>\n",
              "\t<tr><th scope=row>9</th><td>1139643118358</td><td>00:02:2D:21:0F:33</td><td>0.0</td><td>0.0</td><td>0.0</td><td>0.0</td><td>00:0f:a3:39:e2:10</td><td>-87</td><td>2437000000</td><td>3</td></tr>\n",
              "\t<tr><th scope=row>10</th><td>1139643118358</td><td>00:02:2D:21:0F:33</td><td>0.0</td><td>0.0</td><td>0.0</td><td>0.0</td><td>02:64:fb:68:52:e6</td><td>-88</td><td>2447000000</td><td>1</td></tr>\n",
              "\t<tr><th scope=row>11</th><td>1139643118358</td><td>00:02:2D:21:0F:33</td><td>0.0</td><td>0.0</td><td>0.0</td><td>0.0</td><td>02:00:42:55:31:00</td><td>-84</td><td>2457000000</td><td>1</td></tr>\n",
              "</tbody>\n",
              "</table>\n"
            ]
          },
          "metadata": {
            "tags": []
          }
        }
      ]
    },
    {
      "cell_type": "code",
      "metadata": {
        "id": "TgDUHA4p7obv",
        "colab_type": "code",
        "colab": {
          "base_uri": "https://localhost:8080/",
          "height": 176
        },
        "outputId": "3d04c1f9-6b32-4d19-f3c1-1e0de3b385bc"
      },
      "source": [
        "head(offline)"
      ],
      "execution_count": 21,
      "outputs": [
        {
          "output_type": "display_data",
          "data": {
            "text/plain": [
              "  time          scanMac           posX posY posZ orientation mac              \n",
              "1 1139643118358 00:02:2D:21:0F:33 0.0  0.0  0.0  0.0         00:14:bf:b1:97:8a\n",
              "2 1139643118358 00:02:2D:21:0F:33 0.0  0.0  0.0  0.0         00:14:bf:b1:97:90\n",
              "3 1139643118358 00:02:2D:21:0F:33 0.0  0.0  0.0  0.0         00:0f:a3:39:e1:c0\n",
              "4 1139643118358 00:02:2D:21:0F:33 0.0  0.0  0.0  0.0         00:14:bf:b1:97:8d\n",
              "5 1139643118358 00:02:2D:21:0F:33 0.0  0.0  0.0  0.0         00:14:bf:b1:97:81\n",
              "6 1139643118358 00:02:2D:21:0F:33 0.0  0.0  0.0  0.0         00:14:bf:3b:c7:c6\n",
              "  signal channel    type\n",
              "1 -38    2437000000 3   \n",
              "2 -56    2427000000 3   \n",
              "3 -53    2462000000 3   \n",
              "4 -65    2442000000 3   \n",
              "5 -65    2422000000 3   \n",
              "6 -66    2432000000 3   "
            ],
            "text/latex": "A data.frame: 6 × 10\n\\begin{tabular}{r|llllllllll}\n  & time & scanMac & posX & posY & posZ & orientation & mac & signal & channel & type\\\\\n  & <chr> & <chr> & <chr> & <chr> & <chr> & <chr> & <chr> & <chr> & <chr> & <chr>\\\\\n\\hline\n\t1 & 1139643118358 & 00:02:2D:21:0F:33 & 0.0 & 0.0 & 0.0 & 0.0 & 00:14:bf:b1:97:8a & -38 & 2437000000 & 3\\\\\n\t2 & 1139643118358 & 00:02:2D:21:0F:33 & 0.0 & 0.0 & 0.0 & 0.0 & 00:14:bf:b1:97:90 & -56 & 2427000000 & 3\\\\\n\t3 & 1139643118358 & 00:02:2D:21:0F:33 & 0.0 & 0.0 & 0.0 & 0.0 & 00:0f:a3:39:e1:c0 & -53 & 2462000000 & 3\\\\\n\t4 & 1139643118358 & 00:02:2D:21:0F:33 & 0.0 & 0.0 & 0.0 & 0.0 & 00:14:bf:b1:97:8d & -65 & 2442000000 & 3\\\\\n\t5 & 1139643118358 & 00:02:2D:21:0F:33 & 0.0 & 0.0 & 0.0 & 0.0 & 00:14:bf:b1:97:81 & -65 & 2422000000 & 3\\\\\n\t6 & 1139643118358 & 00:02:2D:21:0F:33 & 0.0 & 0.0 & 0.0 & 0.0 & 00:14:bf:3b:c7:c6 & -66 & 2432000000 & 3\\\\\n\\end{tabular}\n",
            "text/markdown": "\nA data.frame: 6 × 10\n\n| <!--/--> | time &lt;chr&gt; | scanMac &lt;chr&gt; | posX &lt;chr&gt; | posY &lt;chr&gt; | posZ &lt;chr&gt; | orientation &lt;chr&gt; | mac &lt;chr&gt; | signal &lt;chr&gt; | channel &lt;chr&gt; | type &lt;chr&gt; |\n|---|---|---|---|---|---|---|---|---|---|---|\n| 1 | 1139643118358 | 00:02:2D:21:0F:33 | 0.0 | 0.0 | 0.0 | 0.0 | 00:14:bf:b1:97:8a | -38 | 2437000000 | 3 |\n| 2 | 1139643118358 | 00:02:2D:21:0F:33 | 0.0 | 0.0 | 0.0 | 0.0 | 00:14:bf:b1:97:90 | -56 | 2427000000 | 3 |\n| 3 | 1139643118358 | 00:02:2D:21:0F:33 | 0.0 | 0.0 | 0.0 | 0.0 | 00:0f:a3:39:e1:c0 | -53 | 2462000000 | 3 |\n| 4 | 1139643118358 | 00:02:2D:21:0F:33 | 0.0 | 0.0 | 0.0 | 0.0 | 00:14:bf:b1:97:8d | -65 | 2442000000 | 3 |\n| 5 | 1139643118358 | 00:02:2D:21:0F:33 | 0.0 | 0.0 | 0.0 | 0.0 | 00:14:bf:b1:97:81 | -65 | 2422000000 | 3 |\n| 6 | 1139643118358 | 00:02:2D:21:0F:33 | 0.0 | 0.0 | 0.0 | 0.0 | 00:14:bf:3b:c7:c6 | -66 | 2432000000 | 3 |\n\n",
            "text/html": [
              "<table>\n",
              "<caption>A data.frame: 6 × 10</caption>\n",
              "<thead>\n",
              "\t<tr><th></th><th scope=col>time</th><th scope=col>scanMac</th><th scope=col>posX</th><th scope=col>posY</th><th scope=col>posZ</th><th scope=col>orientation</th><th scope=col>mac</th><th scope=col>signal</th><th scope=col>channel</th><th scope=col>type</th></tr>\n",
              "\t<tr><th></th><th scope=col>&lt;chr&gt;</th><th scope=col>&lt;chr&gt;</th><th scope=col>&lt;chr&gt;</th><th scope=col>&lt;chr&gt;</th><th scope=col>&lt;chr&gt;</th><th scope=col>&lt;chr&gt;</th><th scope=col>&lt;chr&gt;</th><th scope=col>&lt;chr&gt;</th><th scope=col>&lt;chr&gt;</th><th scope=col>&lt;chr&gt;</th></tr>\n",
              "</thead>\n",
              "<tbody>\n",
              "\t<tr><th scope=row>1</th><td>1139643118358</td><td>00:02:2D:21:0F:33</td><td>0.0</td><td>0.0</td><td>0.0</td><td>0.0</td><td>00:14:bf:b1:97:8a</td><td>-38</td><td>2437000000</td><td>3</td></tr>\n",
              "\t<tr><th scope=row>2</th><td>1139643118358</td><td>00:02:2D:21:0F:33</td><td>0.0</td><td>0.0</td><td>0.0</td><td>0.0</td><td>00:14:bf:b1:97:90</td><td>-56</td><td>2427000000</td><td>3</td></tr>\n",
              "\t<tr><th scope=row>3</th><td>1139643118358</td><td>00:02:2D:21:0F:33</td><td>0.0</td><td>0.0</td><td>0.0</td><td>0.0</td><td>00:0f:a3:39:e1:c0</td><td>-53</td><td>2462000000</td><td>3</td></tr>\n",
              "\t<tr><th scope=row>4</th><td>1139643118358</td><td>00:02:2D:21:0F:33</td><td>0.0</td><td>0.0</td><td>0.0</td><td>0.0</td><td>00:14:bf:b1:97:8d</td><td>-65</td><td>2442000000</td><td>3</td></tr>\n",
              "\t<tr><th scope=row>5</th><td>1139643118358</td><td>00:02:2D:21:0F:33</td><td>0.0</td><td>0.0</td><td>0.0</td><td>0.0</td><td>00:14:bf:b1:97:81</td><td>-65</td><td>2422000000</td><td>3</td></tr>\n",
              "\t<tr><th scope=row>6</th><td>1139643118358</td><td>00:02:2D:21:0F:33</td><td>0.0</td><td>0.0</td><td>0.0</td><td>0.0</td><td>00:14:bf:3b:c7:c6</td><td>-66</td><td>2432000000</td><td>3</td></tr>\n",
              "</tbody>\n",
              "</table>\n"
            ]
          },
          "metadata": {
            "tags": []
          }
        }
      ]
    },
    {
      "cell_type": "markdown",
      "metadata": {
        "id": "JM5rqV9d8QKu",
        "colab_type": "text"
      },
      "source": [
        "Convert position, signal and time variables from strings to numeric data types."
      ]
    },
    {
      "cell_type": "code",
      "metadata": {
        "id": "YQvpqp8U8PEy",
        "colab_type": "code",
        "colab": {}
      },
      "source": [
        "numVars = c(\"time\", \"posX\", \"posY\", \"posZ\", \"orientation\", \"signal\")\n",
        "offline[ numVars ] = lapply(offline[ numVars ], as.numeric)"
      ],
      "execution_count": 0,
      "outputs": []
    },
    {
      "cell_type": "code",
      "metadata": {
        "id": "Tq-7E7UL8cKA",
        "colab_type": "code",
        "colab": {
          "base_uri": "https://localhost:8080/",
          "height": 176
        },
        "outputId": "ad5e7b0d-ffc2-4966-fdd6-b43990d04c49"
      },
      "source": [
        "head(offline)"
      ],
      "execution_count": 23,
      "outputs": [
        {
          "output_type": "display_data",
          "data": {
            "text/plain": [
              "  time         scanMac           posX posY posZ orientation mac              \n",
              "1 1.139643e+12 00:02:2D:21:0F:33 0    0    0    0           00:14:bf:b1:97:8a\n",
              "2 1.139643e+12 00:02:2D:21:0F:33 0    0    0    0           00:14:bf:b1:97:90\n",
              "3 1.139643e+12 00:02:2D:21:0F:33 0    0    0    0           00:0f:a3:39:e1:c0\n",
              "4 1.139643e+12 00:02:2D:21:0F:33 0    0    0    0           00:14:bf:b1:97:8d\n",
              "5 1.139643e+12 00:02:2D:21:0F:33 0    0    0    0           00:14:bf:b1:97:81\n",
              "6 1.139643e+12 00:02:2D:21:0F:33 0    0    0    0           00:14:bf:3b:c7:c6\n",
              "  signal channel    type\n",
              "1 -38    2437000000 3   \n",
              "2 -56    2427000000 3   \n",
              "3 -53    2462000000 3   \n",
              "4 -65    2442000000 3   \n",
              "5 -65    2422000000 3   \n",
              "6 -66    2432000000 3   "
            ],
            "text/latex": "A data.frame: 6 × 10\n\\begin{tabular}{r|llllllllll}\n  & time & scanMac & posX & posY & posZ & orientation & mac & signal & channel & type\\\\\n  & <dbl> & <chr> & <dbl> & <dbl> & <dbl> & <dbl> & <chr> & <dbl> & <chr> & <chr>\\\\\n\\hline\n\t1 & 1.139643e+12 & 00:02:2D:21:0F:33 & 0 & 0 & 0 & 0 & 00:14:bf:b1:97:8a & -38 & 2437000000 & 3\\\\\n\t2 & 1.139643e+12 & 00:02:2D:21:0F:33 & 0 & 0 & 0 & 0 & 00:14:bf:b1:97:90 & -56 & 2427000000 & 3\\\\\n\t3 & 1.139643e+12 & 00:02:2D:21:0F:33 & 0 & 0 & 0 & 0 & 00:0f:a3:39:e1:c0 & -53 & 2462000000 & 3\\\\\n\t4 & 1.139643e+12 & 00:02:2D:21:0F:33 & 0 & 0 & 0 & 0 & 00:14:bf:b1:97:8d & -65 & 2442000000 & 3\\\\\n\t5 & 1.139643e+12 & 00:02:2D:21:0F:33 & 0 & 0 & 0 & 0 & 00:14:bf:b1:97:81 & -65 & 2422000000 & 3\\\\\n\t6 & 1.139643e+12 & 00:02:2D:21:0F:33 & 0 & 0 & 0 & 0 & 00:14:bf:3b:c7:c6 & -66 & 2432000000 & 3\\\\\n\\end{tabular}\n",
            "text/markdown": "\nA data.frame: 6 × 10\n\n| <!--/--> | time &lt;dbl&gt; | scanMac &lt;chr&gt; | posX &lt;dbl&gt; | posY &lt;dbl&gt; | posZ &lt;dbl&gt; | orientation &lt;dbl&gt; | mac &lt;chr&gt; | signal &lt;dbl&gt; | channel &lt;chr&gt; | type &lt;chr&gt; |\n|---|---|---|---|---|---|---|---|---|---|---|\n| 1 | 1.139643e+12 | 00:02:2D:21:0F:33 | 0 | 0 | 0 | 0 | 00:14:bf:b1:97:8a | -38 | 2437000000 | 3 |\n| 2 | 1.139643e+12 | 00:02:2D:21:0F:33 | 0 | 0 | 0 | 0 | 00:14:bf:b1:97:90 | -56 | 2427000000 | 3 |\n| 3 | 1.139643e+12 | 00:02:2D:21:0F:33 | 0 | 0 | 0 | 0 | 00:0f:a3:39:e1:c0 | -53 | 2462000000 | 3 |\n| 4 | 1.139643e+12 | 00:02:2D:21:0F:33 | 0 | 0 | 0 | 0 | 00:14:bf:b1:97:8d | -65 | 2442000000 | 3 |\n| 5 | 1.139643e+12 | 00:02:2D:21:0F:33 | 0 | 0 | 0 | 0 | 00:14:bf:b1:97:81 | -65 | 2422000000 | 3 |\n| 6 | 1.139643e+12 | 00:02:2D:21:0F:33 | 0 | 0 | 0 | 0 | 00:14:bf:3b:c7:c6 | -66 | 2432000000 | 3 |\n\n",
            "text/html": [
              "<table>\n",
              "<caption>A data.frame: 6 × 10</caption>\n",
              "<thead>\n",
              "\t<tr><th></th><th scope=col>time</th><th scope=col>scanMac</th><th scope=col>posX</th><th scope=col>posY</th><th scope=col>posZ</th><th scope=col>orientation</th><th scope=col>mac</th><th scope=col>signal</th><th scope=col>channel</th><th scope=col>type</th></tr>\n",
              "\t<tr><th></th><th scope=col>&lt;dbl&gt;</th><th scope=col>&lt;chr&gt;</th><th scope=col>&lt;dbl&gt;</th><th scope=col>&lt;dbl&gt;</th><th scope=col>&lt;dbl&gt;</th><th scope=col>&lt;dbl&gt;</th><th scope=col>&lt;chr&gt;</th><th scope=col>&lt;dbl&gt;</th><th scope=col>&lt;chr&gt;</th><th scope=col>&lt;chr&gt;</th></tr>\n",
              "</thead>\n",
              "<tbody>\n",
              "\t<tr><th scope=row>1</th><td>1.139643e+12</td><td>00:02:2D:21:0F:33</td><td>0</td><td>0</td><td>0</td><td>0</td><td>00:14:bf:b1:97:8a</td><td>-38</td><td>2437000000</td><td>3</td></tr>\n",
              "\t<tr><th scope=row>2</th><td>1.139643e+12</td><td>00:02:2D:21:0F:33</td><td>0</td><td>0</td><td>0</td><td>0</td><td>00:14:bf:b1:97:90</td><td>-56</td><td>2427000000</td><td>3</td></tr>\n",
              "\t<tr><th scope=row>3</th><td>1.139643e+12</td><td>00:02:2D:21:0F:33</td><td>0</td><td>0</td><td>0</td><td>0</td><td>00:0f:a3:39:e1:c0</td><td>-53</td><td>2462000000</td><td>3</td></tr>\n",
              "\t<tr><th scope=row>4</th><td>1.139643e+12</td><td>00:02:2D:21:0F:33</td><td>0</td><td>0</td><td>0</td><td>0</td><td>00:14:bf:b1:97:8d</td><td>-65</td><td>2442000000</td><td>3</td></tr>\n",
              "\t<tr><th scope=row>5</th><td>1.139643e+12</td><td>00:02:2D:21:0F:33</td><td>0</td><td>0</td><td>0</td><td>0</td><td>00:14:bf:b1:97:81</td><td>-65</td><td>2422000000</td><td>3</td></tr>\n",
              "\t<tr><th scope=row>6</th><td>1.139643e+12</td><td>00:02:2D:21:0F:33</td><td>0</td><td>0</td><td>0</td><td>0</td><td>00:14:bf:3b:c7:c6</td><td>-66</td><td>2432000000</td><td>3</td></tr>\n",
              "</tbody>\n",
              "</table>\n"
            ]
          },
          "metadata": {
            "tags": []
          }
        }
      ]
    },
    {
      "cell_type": "markdown",
      "metadata": {
        "id": "rUA6ZhKG9VI6",
        "colab_type": "text"
      },
      "source": [
        "Let's change the type of the device to something more comprehensable than the numbers 1 and 3. We are going to change the type to adhoc and access point. However, let's plan to only unse the signal strengths mreasured to the fixed access points to develop and test our models. "
      ]
    },
    {
      "cell_type": "code",
      "metadata": {
        "id": "uFhm6uEb9yT8",
        "colab_type": "code",
        "colab": {
          "base_uri": "https://localhost:8080/",
          "height": 33
        },
        "outputId": "d5915592-8d1b-4ebc-e9bd-b81d4ffa58b2"
      },
      "source": [
        "offline = offline[ offline$type == \"3\", ]\n",
        "offline = offline[ , \"type\" != names(offline) ]\n",
        "dim(offline)"
      ],
      "execution_count": 24,
      "outputs": [
        {
          "output_type": "display_data",
          "data": {
            "text/plain": [
              "[1] 978443      9"
            ],
            "text/latex": "\\begin{enumerate*}\n\\item 978443\n\\item 9\n\\end{enumerate*}\n",
            "text/markdown": "1. 978443\n2. 9\n\n\n",
            "text/html": [
              "<style>\n",
              ".list-inline {list-style: none; margin:0; padding: 0}\n",
              ".list-inline>li {display: inline-block}\n",
              ".list-inline>li:not(:last-child)::after {content: \"\\00b7\"; padding: 0 .5ex}\n",
              "</style>\n",
              "<ol class=list-inline><li>978443</li><li>9</li></ol>\n"
            ]
          },
          "metadata": {
            "tags": []
          }
        }
      ]
    },
    {
      "cell_type": "markdown",
      "metadata": {
        "id": "7sVTwKdw-qF_",
        "colab_type": "text"
      },
      "source": [
        "In our documentation, time is measured in the number of milliseconds from midnight on Jan. 1st, 1970. This is the origin used fo rhte POSIXt format, but with POSIXt, it is the number of seconds, not milliseconds. Let's scale the value of time to seconds and then set the class of the time element in order to have the values appear as date-times in IR. "
      ]
    },
    {
      "cell_type": "code",
      "metadata": {
        "id": "anhQxWek-4hi",
        "colab_type": "code",
        "colab": {}
      },
      "source": [
        "offline$rawTime = offline$time\n",
        "offline$time = offline$time/1000\n",
        "class(offline$time) = c(\"POSIXt\", \"POSIXct\")"
      ],
      "execution_count": 0,
      "outputs": []
    },
    {
      "cell_type": "code",
      "metadata": {
        "id": "Jel5Vvzv_MJP",
        "colab_type": "code",
        "colab": {
          "base_uri": "https://localhost:8080/",
          "height": 176
        },
        "outputId": "60eb47f7-6fe6-4468-cfa7-63edcf23dc97"
      },
      "source": [
        "head(offline)"
      ],
      "execution_count": 26,
      "outputs": [
        {
          "output_type": "display_data",
          "data": {
            "text/plain": [
              "  time                scanMac           posX posY posZ orientation\n",
              "1 2006-02-11 07:31:58 00:02:2D:21:0F:33 0    0    0    0          \n",
              "2 2006-02-11 07:31:58 00:02:2D:21:0F:33 0    0    0    0          \n",
              "3 2006-02-11 07:31:58 00:02:2D:21:0F:33 0    0    0    0          \n",
              "4 2006-02-11 07:31:58 00:02:2D:21:0F:33 0    0    0    0          \n",
              "5 2006-02-11 07:31:58 00:02:2D:21:0F:33 0    0    0    0          \n",
              "6 2006-02-11 07:31:58 00:02:2D:21:0F:33 0    0    0    0          \n",
              "  mac               signal channel    rawTime     \n",
              "1 00:14:bf:b1:97:8a -38    2437000000 1.139643e+12\n",
              "2 00:14:bf:b1:97:90 -56    2427000000 1.139643e+12\n",
              "3 00:0f:a3:39:e1:c0 -53    2462000000 1.139643e+12\n",
              "4 00:14:bf:b1:97:8d -65    2442000000 1.139643e+12\n",
              "5 00:14:bf:b1:97:81 -65    2422000000 1.139643e+12\n",
              "6 00:14:bf:3b:c7:c6 -66    2432000000 1.139643e+12"
            ],
            "text/latex": "A data.frame: 6 × 10\n\\begin{tabular}{r|llllllllll}\n  & time & scanMac & posX & posY & posZ & orientation & mac & signal & channel & rawTime\\\\\n  & <dttm> & <chr> & <dbl> & <dbl> & <dbl> & <dbl> & <chr> & <dbl> & <chr> & <dbl>\\\\\n\\hline\n\t1 & 2006-02-11 07:31:58 & 00:02:2D:21:0F:33 & 0 & 0 & 0 & 0 & 00:14:bf:b1:97:8a & -38 & 2437000000 & 1.139643e+12\\\\\n\t2 & 2006-02-11 07:31:58 & 00:02:2D:21:0F:33 & 0 & 0 & 0 & 0 & 00:14:bf:b1:97:90 & -56 & 2427000000 & 1.139643e+12\\\\\n\t3 & 2006-02-11 07:31:58 & 00:02:2D:21:0F:33 & 0 & 0 & 0 & 0 & 00:0f:a3:39:e1:c0 & -53 & 2462000000 & 1.139643e+12\\\\\n\t4 & 2006-02-11 07:31:58 & 00:02:2D:21:0F:33 & 0 & 0 & 0 & 0 & 00:14:bf:b1:97:8d & -65 & 2442000000 & 1.139643e+12\\\\\n\t5 & 2006-02-11 07:31:58 & 00:02:2D:21:0F:33 & 0 & 0 & 0 & 0 & 00:14:bf:b1:97:81 & -65 & 2422000000 & 1.139643e+12\\\\\n\t6 & 2006-02-11 07:31:58 & 00:02:2D:21:0F:33 & 0 & 0 & 0 & 0 & 00:14:bf:3b:c7:c6 & -66 & 2432000000 & 1.139643e+12\\\\\n\\end{tabular}\n",
            "text/markdown": "\nA data.frame: 6 × 10\n\n| <!--/--> | time &lt;dttm&gt; | scanMac &lt;chr&gt; | posX &lt;dbl&gt; | posY &lt;dbl&gt; | posZ &lt;dbl&gt; | orientation &lt;dbl&gt; | mac &lt;chr&gt; | signal &lt;dbl&gt; | channel &lt;chr&gt; | rawTime &lt;dbl&gt; |\n|---|---|---|---|---|---|---|---|---|---|---|\n| 1 | 2006-02-11 07:31:58 | 00:02:2D:21:0F:33 | 0 | 0 | 0 | 0 | 00:14:bf:b1:97:8a | -38 | 2437000000 | 1.139643e+12 |\n| 2 | 2006-02-11 07:31:58 | 00:02:2D:21:0F:33 | 0 | 0 | 0 | 0 | 00:14:bf:b1:97:90 | -56 | 2427000000 | 1.139643e+12 |\n| 3 | 2006-02-11 07:31:58 | 00:02:2D:21:0F:33 | 0 | 0 | 0 | 0 | 00:0f:a3:39:e1:c0 | -53 | 2462000000 | 1.139643e+12 |\n| 4 | 2006-02-11 07:31:58 | 00:02:2D:21:0F:33 | 0 | 0 | 0 | 0 | 00:14:bf:b1:97:8d | -65 | 2442000000 | 1.139643e+12 |\n| 5 | 2006-02-11 07:31:58 | 00:02:2D:21:0F:33 | 0 | 0 | 0 | 0 | 00:14:bf:b1:97:81 | -65 | 2422000000 | 1.139643e+12 |\n| 6 | 2006-02-11 07:31:58 | 00:02:2D:21:0F:33 | 0 | 0 | 0 | 0 | 00:14:bf:3b:c7:c6 | -66 | 2432000000 | 1.139643e+12 |\n\n",
            "text/html": [
              "<table>\n",
              "<caption>A data.frame: 6 × 10</caption>\n",
              "<thead>\n",
              "\t<tr><th></th><th scope=col>time</th><th scope=col>scanMac</th><th scope=col>posX</th><th scope=col>posY</th><th scope=col>posZ</th><th scope=col>orientation</th><th scope=col>mac</th><th scope=col>signal</th><th scope=col>channel</th><th scope=col>rawTime</th></tr>\n",
              "\t<tr><th></th><th scope=col>&lt;dttm&gt;</th><th scope=col>&lt;chr&gt;</th><th scope=col>&lt;dbl&gt;</th><th scope=col>&lt;dbl&gt;</th><th scope=col>&lt;dbl&gt;</th><th scope=col>&lt;dbl&gt;</th><th scope=col>&lt;chr&gt;</th><th scope=col>&lt;dbl&gt;</th><th scope=col>&lt;chr&gt;</th><th scope=col>&lt;dbl&gt;</th></tr>\n",
              "</thead>\n",
              "<tbody>\n",
              "\t<tr><th scope=row>1</th><td>2006-02-11 07:31:58</td><td>00:02:2D:21:0F:33</td><td>0</td><td>0</td><td>0</td><td>0</td><td>00:14:bf:b1:97:8a</td><td>-38</td><td>2437000000</td><td>1.139643e+12</td></tr>\n",
              "\t<tr><th scope=row>2</th><td>2006-02-11 07:31:58</td><td>00:02:2D:21:0F:33</td><td>0</td><td>0</td><td>0</td><td>0</td><td>00:14:bf:b1:97:90</td><td>-56</td><td>2427000000</td><td>1.139643e+12</td></tr>\n",
              "\t<tr><th scope=row>3</th><td>2006-02-11 07:31:58</td><td>00:02:2D:21:0F:33</td><td>0</td><td>0</td><td>0</td><td>0</td><td>00:0f:a3:39:e1:c0</td><td>-53</td><td>2462000000</td><td>1.139643e+12</td></tr>\n",
              "\t<tr><th scope=row>4</th><td>2006-02-11 07:31:58</td><td>00:02:2D:21:0F:33</td><td>0</td><td>0</td><td>0</td><td>0</td><td>00:14:bf:b1:97:8d</td><td>-65</td><td>2442000000</td><td>1.139643e+12</td></tr>\n",
              "\t<tr><th scope=row>5</th><td>2006-02-11 07:31:58</td><td>00:02:2D:21:0F:33</td><td>0</td><td>0</td><td>0</td><td>0</td><td>00:14:bf:b1:97:81</td><td>-65</td><td>2422000000</td><td>1.139643e+12</td></tr>\n",
              "\t<tr><th scope=row>6</th><td>2006-02-11 07:31:58</td><td>00:02:2D:21:0F:33</td><td>0</td><td>0</td><td>0</td><td>0</td><td>00:14:bf:3b:c7:c6</td><td>-66</td><td>2432000000</td><td>1.139643e+12</td></tr>\n",
              "</tbody>\n",
              "</table>\n"
            ]
          },
          "metadata": {
            "tags": []
          }
        }
      ]
    },
    {
      "cell_type": "code",
      "metadata": {
        "id": "yyeokT2PIVr8",
        "colab_type": "code",
        "colab": {
          "base_uri": "https://localhost:8080/",
          "height": 461
        },
        "outputId": "4e045234-7228-4a48-f8ff-54c4b4ebc836"
      },
      "source": [
        "library(tidyverse)\n",
        "library(magrittr)"
      ],
      "execution_count": 27,
      "outputs": [
        {
          "output_type": "stream",
          "text": [
            "── \u001b[1mAttaching packages\u001b[22m ─────────────────────────────────────── tidyverse 1.3.0 ──\n",
            "\n",
            "\u001b[32m✔\u001b[39m \u001b[34mggplot2\u001b[39m 3.3.0     \u001b[32m✔\u001b[39m \u001b[34mpurrr  \u001b[39m 0.3.4\n",
            "\u001b[32m✔\u001b[39m \u001b[34mtibble \u001b[39m 3.0.1     \u001b[32m✔\u001b[39m \u001b[34mdplyr  \u001b[39m 0.8.5\n",
            "\u001b[32m✔\u001b[39m \u001b[34mtidyr  \u001b[39m 1.0.2     \u001b[32m✔\u001b[39m \u001b[34mstringr\u001b[39m 1.4.0\n",
            "\u001b[32m✔\u001b[39m \u001b[34mreadr  \u001b[39m 1.3.1     \u001b[32m✔\u001b[39m \u001b[34mforcats\u001b[39m 0.5.0\n",
            "\n",
            "── \u001b[1mConflicts\u001b[22m ────────────────────────────────────────── tidyverse_conflicts() ──\n",
            "\u001b[31m✖\u001b[39m \u001b[34mdplyr\u001b[39m::\u001b[32mfilter()\u001b[39m masks \u001b[34mstats\u001b[39m::filter()\n",
            "\u001b[31m✖\u001b[39m \u001b[34mdplyr\u001b[39m::\u001b[32mlag()\u001b[39m    masks \u001b[34mstats\u001b[39m::lag()\n",
            "\n",
            "\n",
            "Attaching package: ‘magrittr’\n",
            "\n",
            "\n",
            "The following object is masked from ‘package:purrr’:\n",
            "\n",
            "    set_names\n",
            "\n",
            "\n",
            "The following object is masked from ‘package:tidyr’:\n",
            "\n",
            "    extract\n",
            "\n",
            "\n"
          ],
          "name": "stderr"
        }
      ]
    },
    {
      "cell_type": "code",
      "metadata": {
        "id": "NlKyErrLYAlz",
        "colab_type": "code",
        "colab": {
          "base_uri": "https://localhost:8080/",
          "height": 50
        },
        "outputId": "eaceba8a-3824-4db2-ed15-851ee780cca0"
      },
      "source": [
        "unlist(lapply(offline, class))"
      ],
      "execution_count": 69,
      "outputs": [
        {
          "output_type": "display_data",
          "data": {
            "text/plain": [
              "      time1       time2        posX        posY orientation         mac \n",
              "   \"POSIXt\"   \"POSIXct\"   \"numeric\"   \"numeric\"   \"numeric\" \"character\" \n",
              "     signal     channel     rawTime \n",
              "  \"integer\" \"character\"   \"numeric\" "
            ],
            "text/latex": "\\begin{description*}\n\\item[time1] 'POSIXt'\n\\item[time2] 'POSIXct'\n\\item[posX] 'numeric'\n\\item[posY] 'numeric'\n\\item[orientation] 'numeric'\n\\item[mac] 'character'\n\\item[signal] 'integer'\n\\item[channel] 'character'\n\\item[rawTime] 'numeric'\n\\end{description*}\n",
            "text/markdown": "time1\n:   'POSIXt'time2\n:   'POSIXct'posX\n:   'numeric'posY\n:   'numeric'orientation\n:   'numeric'mac\n:   'character'signal\n:   'integer'channel\n:   'character'rawTime\n:   'numeric'\n\n",
            "text/html": [
              "<style>\n",
              ".dl-inline {width: auto; margin:0; padding: 0}\n",
              ".dl-inline>dt, .dl-inline>dd {float: none; width: auto; display: inline-block}\n",
              ".dl-inline>dt::after {content: \":\\0020\"; padding-right: .5ex}\n",
              ".dl-inline>dt:not(:first-of-type) {padding-left: .5ex}\n",
              "</style><dl class=dl-inline><dt>time1</dt><dd>'POSIXt'</dd><dt>time2</dt><dd>'POSIXct'</dd><dt>posX</dt><dd>'numeric'</dd><dt>posY</dt><dd>'numeric'</dd><dt>orientation</dt><dd>'numeric'</dd><dt>mac</dt><dd>'character'</dd><dt>signal</dt><dd>'integer'</dd><dt>channel</dt><dd>'character'</dd><dt>rawTime</dt><dd>'numeric'</dd></dl>\n"
            ]
          },
          "metadata": {
            "tags": []
          }
        }
      ]
    },
    {
      "cell_type": "markdown",
      "metadata": {
        "id": "P3A6n6O0ODQ_",
        "colab_type": "text"
      },
      "source": [
        "We have the correct shape for the data and even the correct types. We can run a summary statistic to see which values appear to look reasonable. \n",
        "\n",
        "Let's take a look at the descriptive statistics\n"
      ]
    },
    {
      "cell_type": "code",
      "metadata": {
        "id": "I6YgYVabOIKv",
        "colab_type": "code",
        "colab": {
          "base_uri": "https://localhost:8080/",
          "height": 265
        },
        "outputId": "02f6f75d-b2df-4eab-b117-abc162982a68"
      },
      "source": [
        "summary(offline[, numVars])"
      ],
      "execution_count": 28,
      "outputs": [
        {
          "output_type": "display_data",
          "data": {
            "text/plain": [
              "      time                          posX            posY             posZ  \n",
              " Min.   :2006-02-11 07:31:58   Min.   : 0.00   Min.   : 0.000   Min.   :0  \n",
              " 1st Qu.:2006-02-11 13:21:27   1st Qu.: 2.00   1st Qu.: 3.000   1st Qu.:0  \n",
              " Median :2006-02-11 19:57:58   Median :12.00   Median : 6.000   Median :0  \n",
              " Mean   :2006-02-16 14:57:37   Mean   :13.52   Mean   : 5.897   Mean   :0  \n",
              " 3rd Qu.:2006-02-19 14:52:40   3rd Qu.:23.00   3rd Qu.: 8.000   3rd Qu.:0  \n",
              " Max.   :2006-03-09 20:41:10   Max.   :33.00   Max.   :13.000   Max.   :0  \n",
              "  orientation        signal     \n",
              " Min.   :  0.0   Min.   :-99.0  \n",
              " 1st Qu.: 90.0   1st Qu.:-69.0  \n",
              " Median :180.0   Median :-60.0  \n",
              " Mean   :167.2   Mean   :-61.7  \n",
              " 3rd Qu.:270.0   3rd Qu.:-53.0  \n",
              " Max.   :359.9   Max.   :-25.0  "
            ]
          },
          "metadata": {
            "tags": []
          }
        }
      ]
    },
    {
      "cell_type": "markdown",
      "metadata": {
        "id": "SYuow1k-Q5aA",
        "colab_type": "text"
      },
      "source": [
        "Notice here that our descriptive statistics indicate that position z's values are all zero. We should be able to drop this value without consequence on our remaining modeling columns. \n",
        "\n",
        "Now lets look at the character variables to factors and examine them with. "
      ]
    },
    {
      "cell_type": "code",
      "metadata": {
        "id": "YDXiPtSPPPFk",
        "colab_type": "code",
        "colab": {
          "base_uri": "https://localhost:8080/",
          "height": 232
        },
        "outputId": "ad0e8277-dcf3-4dd8-ba93-3936a80b2ea5"
      },
      "source": [
        "str(offline)"
      ],
      "execution_count": 29,
      "outputs": [
        {
          "output_type": "stream",
          "text": [
            "'data.frame':\t978443 obs. of  10 variables:\n",
            " $ time       : POSIXt, format: \"2006-02-11 07:31:58\" \"2006-02-11 07:31:58\" ...\n",
            " $ scanMac    : chr  \"00:02:2D:21:0F:33\" \"00:02:2D:21:0F:33\" \"00:02:2D:21:0F:33\" \"00:02:2D:21:0F:33\" ...\n",
            " $ posX       : num  0 0 0 0 0 0 0 0 0 0 ...\n",
            " $ posY       : num  0 0 0 0 0 0 0 0 0 0 ...\n",
            " $ posZ       : num  0 0 0 0 0 0 0 0 0 0 ...\n",
            " $ orientation: num  0 0 0 0 0 0 0 0 0 0 ...\n",
            " $ mac        : chr  \"00:14:bf:b1:97:8a\" \"00:14:bf:b1:97:90\" \"00:0f:a3:39:e1:c0\" \"00:14:bf:b1:97:8d\" ...\n",
            " $ signal     : num  -38 -56 -53 -65 -65 -66 -75 -78 -87 -38 ...\n",
            " $ channel    : chr  \"2437000000\" \"2427000000\" \"2462000000\" \"2442000000\" ...\n",
            " $ rawTime    : num  1.14e+12 1.14e+12 1.14e+12 1.14e+12 1.14e+12 ...\n"
          ],
          "name": "stdout"
        }
      ]
    },
    {
      "cell_type": "code",
      "metadata": {
        "id": "nSFSXztZQEoL",
        "colab_type": "code",
        "colab": {
          "base_uri": "https://localhost:8080/",
          "height": 158
        },
        "outputId": "4f434163-1833-4ce7-f089-130c5bf6754f"
      },
      "source": [
        "summary(sapply(offline[ , c(\"mac\", \"channel\", \"scanMac\")], as.factor))"
      ],
      "execution_count": 30,
      "outputs": [
        {
          "output_type": "display_data",
          "data": {
            "text/plain": [
              "                mac               channel                    scanMac      \n",
              " 00:0f:a3:39:e1:c0:145862   2462000000:189774   00:02:2D:21:0F:33:978443  \n",
              " 00:0f:a3:39:dd:cd:145619   2437000000:152124                             \n",
              " 00:14:bf:b1:97:8a:132962   2412000000:145619                             \n",
              " 00:14:bf:3b:c7:c6:126529   2432000000:126529                             \n",
              " 00:14:bf:b1:97:90:122315   2427000000:122315                             \n",
              " 00:14:bf:b1:97:8d:121325   2442000000:121325                             \n",
              " (Other)          :183831   (Other)   :120757                             "
            ]
          },
          "metadata": {
            "tags": []
          }
        }
      ]
    },
    {
      "cell_type": "code",
      "metadata": {
        "id": "AjX08dVSQOxW",
        "colab_type": "code",
        "colab": {}
      },
      "source": [
        "offline = offline[ , !(names(offline) %in% c(\"scanMac\", \"posZ\"))]"
      ],
      "execution_count": 0,
      "outputs": []
    },
    {
      "cell_type": "markdown",
      "metadata": {
        "id": "pTXJGinQSkJi",
        "colab_type": "text"
      },
      "source": [
        "Looking at our summary of our non numeric values, we can see that \"scanMac\" has only one unique value. So we should be able to drop along with Position Z for a cleaner dataset. "
      ]
    },
    {
      "cell_type": "code",
      "metadata": {
        "id": "cw5FbURiQZWK",
        "colab_type": "code",
        "colab": {
          "base_uri": "https://localhost:8080/",
          "height": 176
        },
        "outputId": "436320ee-0167-4caf-fccf-c9162a851095"
      },
      "source": [
        "head(offline)"
      ],
      "execution_count": 32,
      "outputs": [
        {
          "output_type": "display_data",
          "data": {
            "text/plain": [
              "  time                posX posY orientation mac               signal channel   \n",
              "1 2006-02-11 07:31:58 0    0    0           00:14:bf:b1:97:8a -38    2437000000\n",
              "2 2006-02-11 07:31:58 0    0    0           00:14:bf:b1:97:90 -56    2427000000\n",
              "3 2006-02-11 07:31:58 0    0    0           00:0f:a3:39:e1:c0 -53    2462000000\n",
              "4 2006-02-11 07:31:58 0    0    0           00:14:bf:b1:97:8d -65    2442000000\n",
              "5 2006-02-11 07:31:58 0    0    0           00:14:bf:b1:97:81 -65    2422000000\n",
              "6 2006-02-11 07:31:58 0    0    0           00:14:bf:3b:c7:c6 -66    2432000000\n",
              "  rawTime     \n",
              "1 1.139643e+12\n",
              "2 1.139643e+12\n",
              "3 1.139643e+12\n",
              "4 1.139643e+12\n",
              "5 1.139643e+12\n",
              "6 1.139643e+12"
            ],
            "text/latex": "A data.frame: 6 × 8\n\\begin{tabular}{r|llllllll}\n  & time & posX & posY & orientation & mac & signal & channel & rawTime\\\\\n  & <dttm> & <dbl> & <dbl> & <dbl> & <chr> & <dbl> & <chr> & <dbl>\\\\\n\\hline\n\t1 & 2006-02-11 07:31:58 & 0 & 0 & 0 & 00:14:bf:b1:97:8a & -38 & 2437000000 & 1.139643e+12\\\\\n\t2 & 2006-02-11 07:31:58 & 0 & 0 & 0 & 00:14:bf:b1:97:90 & -56 & 2427000000 & 1.139643e+12\\\\\n\t3 & 2006-02-11 07:31:58 & 0 & 0 & 0 & 00:0f:a3:39:e1:c0 & -53 & 2462000000 & 1.139643e+12\\\\\n\t4 & 2006-02-11 07:31:58 & 0 & 0 & 0 & 00:14:bf:b1:97:8d & -65 & 2442000000 & 1.139643e+12\\\\\n\t5 & 2006-02-11 07:31:58 & 0 & 0 & 0 & 00:14:bf:b1:97:81 & -65 & 2422000000 & 1.139643e+12\\\\\n\t6 & 2006-02-11 07:31:58 & 0 & 0 & 0 & 00:14:bf:3b:c7:c6 & -66 & 2432000000 & 1.139643e+12\\\\\n\\end{tabular}\n",
            "text/markdown": "\nA data.frame: 6 × 8\n\n| <!--/--> | time &lt;dttm&gt; | posX &lt;dbl&gt; | posY &lt;dbl&gt; | orientation &lt;dbl&gt; | mac &lt;chr&gt; | signal &lt;dbl&gt; | channel &lt;chr&gt; | rawTime &lt;dbl&gt; |\n|---|---|---|---|---|---|---|---|---|\n| 1 | 2006-02-11 07:31:58 | 0 | 0 | 0 | 00:14:bf:b1:97:8a | -38 | 2437000000 | 1.139643e+12 |\n| 2 | 2006-02-11 07:31:58 | 0 | 0 | 0 | 00:14:bf:b1:97:90 | -56 | 2427000000 | 1.139643e+12 |\n| 3 | 2006-02-11 07:31:58 | 0 | 0 | 0 | 00:0f:a3:39:e1:c0 | -53 | 2462000000 | 1.139643e+12 |\n| 4 | 2006-02-11 07:31:58 | 0 | 0 | 0 | 00:14:bf:b1:97:8d | -65 | 2442000000 | 1.139643e+12 |\n| 5 | 2006-02-11 07:31:58 | 0 | 0 | 0 | 00:14:bf:b1:97:81 | -65 | 2422000000 | 1.139643e+12 |\n| 6 | 2006-02-11 07:31:58 | 0 | 0 | 0 | 00:14:bf:3b:c7:c6 | -66 | 2432000000 | 1.139643e+12 |\n\n",
            "text/html": [
              "<table>\n",
              "<caption>A data.frame: 6 × 8</caption>\n",
              "<thead>\n",
              "\t<tr><th></th><th scope=col>time</th><th scope=col>posX</th><th scope=col>posY</th><th scope=col>orientation</th><th scope=col>mac</th><th scope=col>signal</th><th scope=col>channel</th><th scope=col>rawTime</th></tr>\n",
              "\t<tr><th></th><th scope=col>&lt;dttm&gt;</th><th scope=col>&lt;dbl&gt;</th><th scope=col>&lt;dbl&gt;</th><th scope=col>&lt;dbl&gt;</th><th scope=col>&lt;chr&gt;</th><th scope=col>&lt;dbl&gt;</th><th scope=col>&lt;chr&gt;</th><th scope=col>&lt;dbl&gt;</th></tr>\n",
              "</thead>\n",
              "<tbody>\n",
              "\t<tr><th scope=row>1</th><td>2006-02-11 07:31:58</td><td>0</td><td>0</td><td>0</td><td>00:14:bf:b1:97:8a</td><td>-38</td><td>2437000000</td><td>1.139643e+12</td></tr>\n",
              "\t<tr><th scope=row>2</th><td>2006-02-11 07:31:58</td><td>0</td><td>0</td><td>0</td><td>00:14:bf:b1:97:90</td><td>-56</td><td>2427000000</td><td>1.139643e+12</td></tr>\n",
              "\t<tr><th scope=row>3</th><td>2006-02-11 07:31:58</td><td>0</td><td>0</td><td>0</td><td>00:0f:a3:39:e1:c0</td><td>-53</td><td>2462000000</td><td>1.139643e+12</td></tr>\n",
              "\t<tr><th scope=row>4</th><td>2006-02-11 07:31:58</td><td>0</td><td>0</td><td>0</td><td>00:14:bf:b1:97:8d</td><td>-65</td><td>2442000000</td><td>1.139643e+12</td></tr>\n",
              "\t<tr><th scope=row>5</th><td>2006-02-11 07:31:58</td><td>0</td><td>0</td><td>0</td><td>00:14:bf:b1:97:81</td><td>-65</td><td>2422000000</td><td>1.139643e+12</td></tr>\n",
              "\t<tr><th scope=row>6</th><td>2006-02-11 07:31:58</td><td>0</td><td>0</td><td>0</td><td>00:14:bf:3b:c7:c6</td><td>-66</td><td>2432000000</td><td>1.139643e+12</td></tr>\n",
              "</tbody>\n",
              "</table>\n"
            ]
          },
          "metadata": {
            "tags": []
          }
        }
      ]
    },
    {
      "cell_type": "code",
      "metadata": {
        "id": "VEmTHrMFIVr-",
        "colab_type": "code",
        "colab": {
          "base_uri": "https://localhost:8080/",
          "height": 1000
        },
        "outputId": "08ff4440-2b5a-447b-b9c8-5165928ec103"
      },
      "source": [
        "#select(offline,-c(scanMac,channel,type))\n",
        "#select(offline,-c(channel,type))\n",
        "select(offline,-c(channel))"
      ],
      "execution_count": 33,
      "outputs": [
        {
          "output_type": "display_data",
          "data": {
            "text/plain": [
              "        time                posX posY orientation mac               signal\n",
              "1       2006-02-11 07:31:58 0    0    0           00:14:bf:b1:97:8a -38   \n",
              "2       2006-02-11 07:31:58 0    0    0           00:14:bf:b1:97:90 -56   \n",
              "3       2006-02-11 07:31:58 0    0    0           00:0f:a3:39:e1:c0 -53   \n",
              "4       2006-02-11 07:31:58 0    0    0           00:14:bf:b1:97:8d -65   \n",
              "5       2006-02-11 07:31:58 0    0    0           00:14:bf:b1:97:81 -65   \n",
              "6       2006-02-11 07:31:58 0    0    0           00:14:bf:3b:c7:c6 -66   \n",
              "7       2006-02-11 07:31:58 0    0    0           00:0f:a3:39:dd:cd -75   \n",
              "8       2006-02-11 07:31:58 0    0    0           00:0f:a3:39:e0:4b -78   \n",
              "9       2006-02-11 07:31:58 0    0    0           00:0f:a3:39:e2:10 -87   \n",
              "12      2006-02-11 07:31:58 0    0    0           00:14:bf:b1:97:8a -38   \n",
              "13      2006-02-11 07:31:58 0    0    0           00:0f:a3:39:e1:c0 -54   \n",
              "14      2006-02-11 07:31:58 0    0    0           00:14:bf:b1:97:90 -56   \n",
              "15      2006-02-11 07:31:58 0    0    0           00:14:bf:3b:c7:c6 -67   \n",
              "16      2006-02-11 07:31:58 0    0    0           00:14:bf:b1:97:81 -66   \n",
              "17      2006-02-11 07:31:58 0    0    0           00:14:bf:b1:97:8d -70   \n",
              "18      2006-02-11 07:31:58 0    0    0           00:0f:a3:39:e0:4b -79   \n",
              "19      2006-02-11 07:31:58 0    0    0           00:0f:a3:39:dd:cd -73   \n",
              "20      2006-02-11 07:31:58 0    0    0           00:0f:a3:39:e2:10 -83   \n",
              "22      2006-02-11 07:31:59 0    0    0           00:14:bf:b1:97:8a -38   \n",
              "23      2006-02-11 07:31:59 0    0    0           00:0f:a3:39:e1:c0 -54   \n",
              "24      2006-02-11 07:31:59 0    0    0           00:14:bf:b1:97:90 -57   \n",
              "25      2006-02-11 07:31:59 0    0    0           00:14:bf:b1:97:81 -66   \n",
              "26      2006-02-11 07:31:59 0    0    0           00:14:bf:3b:c7:c6 -69   \n",
              "27      2006-02-11 07:31:59 0    0    0           00:14:bf:b1:97:8d -70   \n",
              "28      2006-02-11 07:31:59 0    0    0           00:0f:a3:39:e0:4b -78   \n",
              "29      2006-02-11 07:31:59 0    0    0           00:0f:a3:39:e2:10 -83   \n",
              "30      2006-02-11 07:31:59 0    0    0           00:0f:a3:39:dd:cd -65   \n",
              "32      2006-02-11 07:31:59 0    0    0           00:14:bf:b1:97:8a -38   \n",
              "33      2006-02-11 07:31:59 0    0    0           00:14:bf:b1:97:90 -52   \n",
              "34      2006-02-11 07:31:59 0    0    0           00:0f:a3:39:e1:c0 -54   \n",
              "⋮       ⋮                   ⋮    ⋮    ⋮           ⋮                 ⋮     \n",
              "1181594 2006-03-09 20:41:09 20   8    315.7       00:14:bf:b1:97:8d -56   \n",
              "1181595 2006-03-09 20:41:09 20   8    315.7       00:14:bf:b1:97:8a -60   \n",
              "1181596 2006-03-09 20:41:09 20   8    315.7       00:14:bf:b1:97:90 -69   \n",
              "1181597 2006-03-09 20:41:09 20   8    315.7       00:0f:a3:39:dd:cd -76   \n",
              "1181599 2006-03-09 20:41:09 20   8    315.7       00:0f:a3:39:e1:c0 -53   \n",
              "1181600 2006-03-09 20:41:09 20   8    315.7       00:14:bf:3b:c7:c6 -52   \n",
              "1181601 2006-03-09 20:41:09 20   8    315.7       00:14:bf:b1:97:8d -62   \n",
              "1181602 2006-03-09 20:41:09 20   8    315.7       00:14:bf:b1:97:81 -58   \n",
              "1181603 2006-03-09 20:41:09 20   8    315.7       00:14:bf:b1:97:8a -61   \n",
              "1181604 2006-03-09 20:41:09 20   8    315.7       00:0f:a3:39:dd:cd -77   \n",
              "1181606 2006-03-09 20:41:09 20   8    315.7       00:0f:a3:39:e1:c0 -54   \n",
              "1181607 2006-03-09 20:41:09 20   8    315.7       00:14:bf:3b:c7:c6 -58   \n",
              "1181608 2006-03-09 20:41:09 20   8    315.7       00:14:bf:b1:97:8d -56   \n",
              "1181609 2006-03-09 20:41:09 20   8    315.7       00:14:bf:b1:97:8a -60   \n",
              "1181610 2006-03-09 20:41:09 20   8    315.7       00:14:bf:b1:97:90 -69   \n",
              "1181611 2006-03-09 20:41:09 20   8    315.7       00:0f:a3:39:dd:cd -77   \n",
              "1181612 2006-03-09 20:41:09 20   8    315.7       00:14:bf:b1:97:81 -62   \n",
              "1181614 2006-03-09 20:41:10 20   8    315.7       00:14:bf:3b:c7:c6 -51   \n",
              "1181615 2006-03-09 20:41:10 20   8    315.7       00:0f:a3:39:e1:c0 -53   \n",
              "1181616 2006-03-09 20:41:10 20   8    315.7       00:14:bf:b1:97:8a -61   \n",
              "1181617 2006-03-09 20:41:10 20   8    315.7       00:14:bf:b1:97:81 -60   \n",
              "1181618 2006-03-09 20:41:10 20   8    315.7       00:14:bf:b1:97:8d -62   \n",
              "1181619 2006-03-09 20:41:10 20   8    315.7       00:0f:a3:39:dd:cd -77   \n",
              "1181621 2006-03-09 20:41:10 20   8    315.7       00:14:bf:3b:c7:c6 -56   \n",
              "1181622 2006-03-09 20:41:10 20   8    315.7       00:0f:a3:39:e1:c0 -53   \n",
              "1181623 2006-03-09 20:41:10 20   8    315.7       00:14:bf:b1:97:8d -61   \n",
              "1181624 2006-03-09 20:41:10 20   8    315.7       00:14:bf:b1:97:8a -60   \n",
              "1181625 2006-03-09 20:41:10 20   8    315.7       00:14:bf:b1:97:81 -60   \n",
              "1181626 2006-03-09 20:41:10 20   8    315.7       00:14:bf:b1:97:90 -68   \n",
              "1181627 2006-03-09 20:41:10 20   8    315.7       00:0f:a3:39:dd:cd -76   \n",
              "        rawTime     \n",
              "1       1.139643e+12\n",
              "2       1.139643e+12\n",
              "3       1.139643e+12\n",
              "4       1.139643e+12\n",
              "5       1.139643e+12\n",
              "6       1.139643e+12\n",
              "7       1.139643e+12\n",
              "8       1.139643e+12\n",
              "9       1.139643e+12\n",
              "12      1.139643e+12\n",
              "13      1.139643e+12\n",
              "14      1.139643e+12\n",
              "15      1.139643e+12\n",
              "16      1.139643e+12\n",
              "17      1.139643e+12\n",
              "18      1.139643e+12\n",
              "19      1.139643e+12\n",
              "20      1.139643e+12\n",
              "22      1.139643e+12\n",
              "23      1.139643e+12\n",
              "24      1.139643e+12\n",
              "25      1.139643e+12\n",
              "26      1.139643e+12\n",
              "27      1.139643e+12\n",
              "28      1.139643e+12\n",
              "29      1.139643e+12\n",
              "30      1.139643e+12\n",
              "32      1.139643e+12\n",
              "33      1.139643e+12\n",
              "34      1.139643e+12\n",
              "⋮       ⋮           \n",
              "1181594 1.141937e+12\n",
              "1181595 1.141937e+12\n",
              "1181596 1.141937e+12\n",
              "1181597 1.141937e+12\n",
              "1181599 1.141937e+12\n",
              "1181600 1.141937e+12\n",
              "1181601 1.141937e+12\n",
              "1181602 1.141937e+12\n",
              "1181603 1.141937e+12\n",
              "1181604 1.141937e+12\n",
              "1181606 1.141937e+12\n",
              "1181607 1.141937e+12\n",
              "1181608 1.141937e+12\n",
              "1181609 1.141937e+12\n",
              "1181610 1.141937e+12\n",
              "1181611 1.141937e+12\n",
              "1181612 1.141937e+12\n",
              "1181614 1.141937e+12\n",
              "1181615 1.141937e+12\n",
              "1181616 1.141937e+12\n",
              "1181617 1.141937e+12\n",
              "1181618 1.141937e+12\n",
              "1181619 1.141937e+12\n",
              "1181621 1.141937e+12\n",
              "1181622 1.141937e+12\n",
              "1181623 1.141937e+12\n",
              "1181624 1.141937e+12\n",
              "1181625 1.141937e+12\n",
              "1181626 1.141937e+12\n",
              "1181627 1.141937e+12"
            ],
            "text/latex": "A data.frame: 978443 × 7\n\\begin{tabular}{r|lllllll}\n  & time & posX & posY & orientation & mac & signal & rawTime\\\\\n  & <dttm> & <dbl> & <dbl> & <dbl> & <chr> & <dbl> & <dbl>\\\\\n\\hline\n\t1 & 2006-02-11 07:31:58 & 0 & 0 & 0 & 00:14:bf:b1:97:8a & -38 & 1.139643e+12\\\\\n\t2 & 2006-02-11 07:31:58 & 0 & 0 & 0 & 00:14:bf:b1:97:90 & -56 & 1.139643e+12\\\\\n\t3 & 2006-02-11 07:31:58 & 0 & 0 & 0 & 00:0f:a3:39:e1:c0 & -53 & 1.139643e+12\\\\\n\t4 & 2006-02-11 07:31:58 & 0 & 0 & 0 & 00:14:bf:b1:97:8d & -65 & 1.139643e+12\\\\\n\t5 & 2006-02-11 07:31:58 & 0 & 0 & 0 & 00:14:bf:b1:97:81 & -65 & 1.139643e+12\\\\\n\t6 & 2006-02-11 07:31:58 & 0 & 0 & 0 & 00:14:bf:3b:c7:c6 & -66 & 1.139643e+12\\\\\n\t7 & 2006-02-11 07:31:58 & 0 & 0 & 0 & 00:0f:a3:39:dd:cd & -75 & 1.139643e+12\\\\\n\t8 & 2006-02-11 07:31:58 & 0 & 0 & 0 & 00:0f:a3:39:e0:4b & -78 & 1.139643e+12\\\\\n\t9 & 2006-02-11 07:31:58 & 0 & 0 & 0 & 00:0f:a3:39:e2:10 & -87 & 1.139643e+12\\\\\n\t12 & 2006-02-11 07:31:58 & 0 & 0 & 0 & 00:14:bf:b1:97:8a & -38 & 1.139643e+12\\\\\n\t13 & 2006-02-11 07:31:58 & 0 & 0 & 0 & 00:0f:a3:39:e1:c0 & -54 & 1.139643e+12\\\\\n\t14 & 2006-02-11 07:31:58 & 0 & 0 & 0 & 00:14:bf:b1:97:90 & -56 & 1.139643e+12\\\\\n\t15 & 2006-02-11 07:31:58 & 0 & 0 & 0 & 00:14:bf:3b:c7:c6 & -67 & 1.139643e+12\\\\\n\t16 & 2006-02-11 07:31:58 & 0 & 0 & 0 & 00:14:bf:b1:97:81 & -66 & 1.139643e+12\\\\\n\t17 & 2006-02-11 07:31:58 & 0 & 0 & 0 & 00:14:bf:b1:97:8d & -70 & 1.139643e+12\\\\\n\t18 & 2006-02-11 07:31:58 & 0 & 0 & 0 & 00:0f:a3:39:e0:4b & -79 & 1.139643e+12\\\\\n\t19 & 2006-02-11 07:31:58 & 0 & 0 & 0 & 00:0f:a3:39:dd:cd & -73 & 1.139643e+12\\\\\n\t20 & 2006-02-11 07:31:58 & 0 & 0 & 0 & 00:0f:a3:39:e2:10 & -83 & 1.139643e+12\\\\\n\t22 & 2006-02-11 07:31:59 & 0 & 0 & 0 & 00:14:bf:b1:97:8a & -38 & 1.139643e+12\\\\\n\t23 & 2006-02-11 07:31:59 & 0 & 0 & 0 & 00:0f:a3:39:e1:c0 & -54 & 1.139643e+12\\\\\n\t24 & 2006-02-11 07:31:59 & 0 & 0 & 0 & 00:14:bf:b1:97:90 & -57 & 1.139643e+12\\\\\n\t25 & 2006-02-11 07:31:59 & 0 & 0 & 0 & 00:14:bf:b1:97:81 & -66 & 1.139643e+12\\\\\n\t26 & 2006-02-11 07:31:59 & 0 & 0 & 0 & 00:14:bf:3b:c7:c6 & -69 & 1.139643e+12\\\\\n\t27 & 2006-02-11 07:31:59 & 0 & 0 & 0 & 00:14:bf:b1:97:8d & -70 & 1.139643e+12\\\\\n\t28 & 2006-02-11 07:31:59 & 0 & 0 & 0 & 00:0f:a3:39:e0:4b & -78 & 1.139643e+12\\\\\n\t29 & 2006-02-11 07:31:59 & 0 & 0 & 0 & 00:0f:a3:39:e2:10 & -83 & 1.139643e+12\\\\\n\t30 & 2006-02-11 07:31:59 & 0 & 0 & 0 & 00:0f:a3:39:dd:cd & -65 & 1.139643e+12\\\\\n\t32 & 2006-02-11 07:31:59 & 0 & 0 & 0 & 00:14:bf:b1:97:8a & -38 & 1.139643e+12\\\\\n\t33 & 2006-02-11 07:31:59 & 0 & 0 & 0 & 00:14:bf:b1:97:90 & -52 & 1.139643e+12\\\\\n\t34 & 2006-02-11 07:31:59 & 0 & 0 & 0 & 00:0f:a3:39:e1:c0 & -54 & 1.139643e+12\\\\\n\t⋮ & ⋮ & ⋮ & ⋮ & ⋮ & ⋮ & ⋮ & ⋮\\\\\n\t1181594 & 2006-03-09 20:41:09 & 20 & 8 & 315.7 & 00:14:bf:b1:97:8d & -56 & 1.141937e+12\\\\\n\t1181595 & 2006-03-09 20:41:09 & 20 & 8 & 315.7 & 00:14:bf:b1:97:8a & -60 & 1.141937e+12\\\\\n\t1181596 & 2006-03-09 20:41:09 & 20 & 8 & 315.7 & 00:14:bf:b1:97:90 & -69 & 1.141937e+12\\\\\n\t1181597 & 2006-03-09 20:41:09 & 20 & 8 & 315.7 & 00:0f:a3:39:dd:cd & -76 & 1.141937e+12\\\\\n\t1181599 & 2006-03-09 20:41:09 & 20 & 8 & 315.7 & 00:0f:a3:39:e1:c0 & -53 & 1.141937e+12\\\\\n\t1181600 & 2006-03-09 20:41:09 & 20 & 8 & 315.7 & 00:14:bf:3b:c7:c6 & -52 & 1.141937e+12\\\\\n\t1181601 & 2006-03-09 20:41:09 & 20 & 8 & 315.7 & 00:14:bf:b1:97:8d & -62 & 1.141937e+12\\\\\n\t1181602 & 2006-03-09 20:41:09 & 20 & 8 & 315.7 & 00:14:bf:b1:97:81 & -58 & 1.141937e+12\\\\\n\t1181603 & 2006-03-09 20:41:09 & 20 & 8 & 315.7 & 00:14:bf:b1:97:8a & -61 & 1.141937e+12\\\\\n\t1181604 & 2006-03-09 20:41:09 & 20 & 8 & 315.7 & 00:0f:a3:39:dd:cd & -77 & 1.141937e+12\\\\\n\t1181606 & 2006-03-09 20:41:09 & 20 & 8 & 315.7 & 00:0f:a3:39:e1:c0 & -54 & 1.141937e+12\\\\\n\t1181607 & 2006-03-09 20:41:09 & 20 & 8 & 315.7 & 00:14:bf:3b:c7:c6 & -58 & 1.141937e+12\\\\\n\t1181608 & 2006-03-09 20:41:09 & 20 & 8 & 315.7 & 00:14:bf:b1:97:8d & -56 & 1.141937e+12\\\\\n\t1181609 & 2006-03-09 20:41:09 & 20 & 8 & 315.7 & 00:14:bf:b1:97:8a & -60 & 1.141937e+12\\\\\n\t1181610 & 2006-03-09 20:41:09 & 20 & 8 & 315.7 & 00:14:bf:b1:97:90 & -69 & 1.141937e+12\\\\\n\t1181611 & 2006-03-09 20:41:09 & 20 & 8 & 315.7 & 00:0f:a3:39:dd:cd & -77 & 1.141937e+12\\\\\n\t1181612 & 2006-03-09 20:41:09 & 20 & 8 & 315.7 & 00:14:bf:b1:97:81 & -62 & 1.141937e+12\\\\\n\t1181614 & 2006-03-09 20:41:10 & 20 & 8 & 315.7 & 00:14:bf:3b:c7:c6 & -51 & 1.141937e+12\\\\\n\t1181615 & 2006-03-09 20:41:10 & 20 & 8 & 315.7 & 00:0f:a3:39:e1:c0 & -53 & 1.141937e+12\\\\\n\t1181616 & 2006-03-09 20:41:10 & 20 & 8 & 315.7 & 00:14:bf:b1:97:8a & -61 & 1.141937e+12\\\\\n\t1181617 & 2006-03-09 20:41:10 & 20 & 8 & 315.7 & 00:14:bf:b1:97:81 & -60 & 1.141937e+12\\\\\n\t1181618 & 2006-03-09 20:41:10 & 20 & 8 & 315.7 & 00:14:bf:b1:97:8d & -62 & 1.141937e+12\\\\\n\t1181619 & 2006-03-09 20:41:10 & 20 & 8 & 315.7 & 00:0f:a3:39:dd:cd & -77 & 1.141937e+12\\\\\n\t1181621 & 2006-03-09 20:41:10 & 20 & 8 & 315.7 & 00:14:bf:3b:c7:c6 & -56 & 1.141937e+12\\\\\n\t1181622 & 2006-03-09 20:41:10 & 20 & 8 & 315.7 & 00:0f:a3:39:e1:c0 & -53 & 1.141937e+12\\\\\n\t1181623 & 2006-03-09 20:41:10 & 20 & 8 & 315.7 & 00:14:bf:b1:97:8d & -61 & 1.141937e+12\\\\\n\t1181624 & 2006-03-09 20:41:10 & 20 & 8 & 315.7 & 00:14:bf:b1:97:8a & -60 & 1.141937e+12\\\\\n\t1181625 & 2006-03-09 20:41:10 & 20 & 8 & 315.7 & 00:14:bf:b1:97:81 & -60 & 1.141937e+12\\\\\n\t1181626 & 2006-03-09 20:41:10 & 20 & 8 & 315.7 & 00:14:bf:b1:97:90 & -68 & 1.141937e+12\\\\\n\t1181627 & 2006-03-09 20:41:10 & 20 & 8 & 315.7 & 00:0f:a3:39:dd:cd & -76 & 1.141937e+12\\\\\n\\end{tabular}\n",
            "text/markdown": "\nA data.frame: 978443 × 7\n\n| <!--/--> | time &lt;dttm&gt; | posX &lt;dbl&gt; | posY &lt;dbl&gt; | orientation &lt;dbl&gt; | mac &lt;chr&gt; | signal &lt;dbl&gt; | rawTime &lt;dbl&gt; |\n|---|---|---|---|---|---|---|---|\n| 1 | 2006-02-11 07:31:58 | 0 | 0 | 0 | 00:14:bf:b1:97:8a | -38 | 1.139643e+12 |\n| 2 | 2006-02-11 07:31:58 | 0 | 0 | 0 | 00:14:bf:b1:97:90 | -56 | 1.139643e+12 |\n| 3 | 2006-02-11 07:31:58 | 0 | 0 | 0 | 00:0f:a3:39:e1:c0 | -53 | 1.139643e+12 |\n| 4 | 2006-02-11 07:31:58 | 0 | 0 | 0 | 00:14:bf:b1:97:8d | -65 | 1.139643e+12 |\n| 5 | 2006-02-11 07:31:58 | 0 | 0 | 0 | 00:14:bf:b1:97:81 | -65 | 1.139643e+12 |\n| 6 | 2006-02-11 07:31:58 | 0 | 0 | 0 | 00:14:bf:3b:c7:c6 | -66 | 1.139643e+12 |\n| 7 | 2006-02-11 07:31:58 | 0 | 0 | 0 | 00:0f:a3:39:dd:cd | -75 | 1.139643e+12 |\n| 8 | 2006-02-11 07:31:58 | 0 | 0 | 0 | 00:0f:a3:39:e0:4b | -78 | 1.139643e+12 |\n| 9 | 2006-02-11 07:31:58 | 0 | 0 | 0 | 00:0f:a3:39:e2:10 | -87 | 1.139643e+12 |\n| 12 | 2006-02-11 07:31:58 | 0 | 0 | 0 | 00:14:bf:b1:97:8a | -38 | 1.139643e+12 |\n| 13 | 2006-02-11 07:31:58 | 0 | 0 | 0 | 00:0f:a3:39:e1:c0 | -54 | 1.139643e+12 |\n| 14 | 2006-02-11 07:31:58 | 0 | 0 | 0 | 00:14:bf:b1:97:90 | -56 | 1.139643e+12 |\n| 15 | 2006-02-11 07:31:58 | 0 | 0 | 0 | 00:14:bf:3b:c7:c6 | -67 | 1.139643e+12 |\n| 16 | 2006-02-11 07:31:58 | 0 | 0 | 0 | 00:14:bf:b1:97:81 | -66 | 1.139643e+12 |\n| 17 | 2006-02-11 07:31:58 | 0 | 0 | 0 | 00:14:bf:b1:97:8d | -70 | 1.139643e+12 |\n| 18 | 2006-02-11 07:31:58 | 0 | 0 | 0 | 00:0f:a3:39:e0:4b | -79 | 1.139643e+12 |\n| 19 | 2006-02-11 07:31:58 | 0 | 0 | 0 | 00:0f:a3:39:dd:cd | -73 | 1.139643e+12 |\n| 20 | 2006-02-11 07:31:58 | 0 | 0 | 0 | 00:0f:a3:39:e2:10 | -83 | 1.139643e+12 |\n| 22 | 2006-02-11 07:31:59 | 0 | 0 | 0 | 00:14:bf:b1:97:8a | -38 | 1.139643e+12 |\n| 23 | 2006-02-11 07:31:59 | 0 | 0 | 0 | 00:0f:a3:39:e1:c0 | -54 | 1.139643e+12 |\n| 24 | 2006-02-11 07:31:59 | 0 | 0 | 0 | 00:14:bf:b1:97:90 | -57 | 1.139643e+12 |\n| 25 | 2006-02-11 07:31:59 | 0 | 0 | 0 | 00:14:bf:b1:97:81 | -66 | 1.139643e+12 |\n| 26 | 2006-02-11 07:31:59 | 0 | 0 | 0 | 00:14:bf:3b:c7:c6 | -69 | 1.139643e+12 |\n| 27 | 2006-02-11 07:31:59 | 0 | 0 | 0 | 00:14:bf:b1:97:8d | -70 | 1.139643e+12 |\n| 28 | 2006-02-11 07:31:59 | 0 | 0 | 0 | 00:0f:a3:39:e0:4b | -78 | 1.139643e+12 |\n| 29 | 2006-02-11 07:31:59 | 0 | 0 | 0 | 00:0f:a3:39:e2:10 | -83 | 1.139643e+12 |\n| 30 | 2006-02-11 07:31:59 | 0 | 0 | 0 | 00:0f:a3:39:dd:cd | -65 | 1.139643e+12 |\n| 32 | 2006-02-11 07:31:59 | 0 | 0 | 0 | 00:14:bf:b1:97:8a | -38 | 1.139643e+12 |\n| 33 | 2006-02-11 07:31:59 | 0 | 0 | 0 | 00:14:bf:b1:97:90 | -52 | 1.139643e+12 |\n| 34 | 2006-02-11 07:31:59 | 0 | 0 | 0 | 00:0f:a3:39:e1:c0 | -54 | 1.139643e+12 |\n| ⋮ | ⋮ | ⋮ | ⋮ | ⋮ | ⋮ | ⋮ | ⋮ |\n| 1181594 | 2006-03-09 20:41:09 | 20 | 8 | 315.7 | 00:14:bf:b1:97:8d | -56 | 1.141937e+12 |\n| 1181595 | 2006-03-09 20:41:09 | 20 | 8 | 315.7 | 00:14:bf:b1:97:8a | -60 | 1.141937e+12 |\n| 1181596 | 2006-03-09 20:41:09 | 20 | 8 | 315.7 | 00:14:bf:b1:97:90 | -69 | 1.141937e+12 |\n| 1181597 | 2006-03-09 20:41:09 | 20 | 8 | 315.7 | 00:0f:a3:39:dd:cd | -76 | 1.141937e+12 |\n| 1181599 | 2006-03-09 20:41:09 | 20 | 8 | 315.7 | 00:0f:a3:39:e1:c0 | -53 | 1.141937e+12 |\n| 1181600 | 2006-03-09 20:41:09 | 20 | 8 | 315.7 | 00:14:bf:3b:c7:c6 | -52 | 1.141937e+12 |\n| 1181601 | 2006-03-09 20:41:09 | 20 | 8 | 315.7 | 00:14:bf:b1:97:8d | -62 | 1.141937e+12 |\n| 1181602 | 2006-03-09 20:41:09 | 20 | 8 | 315.7 | 00:14:bf:b1:97:81 | -58 | 1.141937e+12 |\n| 1181603 | 2006-03-09 20:41:09 | 20 | 8 | 315.7 | 00:14:bf:b1:97:8a | -61 | 1.141937e+12 |\n| 1181604 | 2006-03-09 20:41:09 | 20 | 8 | 315.7 | 00:0f:a3:39:dd:cd | -77 | 1.141937e+12 |\n| 1181606 | 2006-03-09 20:41:09 | 20 | 8 | 315.7 | 00:0f:a3:39:e1:c0 | -54 | 1.141937e+12 |\n| 1181607 | 2006-03-09 20:41:09 | 20 | 8 | 315.7 | 00:14:bf:3b:c7:c6 | -58 | 1.141937e+12 |\n| 1181608 | 2006-03-09 20:41:09 | 20 | 8 | 315.7 | 00:14:bf:b1:97:8d | -56 | 1.141937e+12 |\n| 1181609 | 2006-03-09 20:41:09 | 20 | 8 | 315.7 | 00:14:bf:b1:97:8a | -60 | 1.141937e+12 |\n| 1181610 | 2006-03-09 20:41:09 | 20 | 8 | 315.7 | 00:14:bf:b1:97:90 | -69 | 1.141937e+12 |\n| 1181611 | 2006-03-09 20:41:09 | 20 | 8 | 315.7 | 00:0f:a3:39:dd:cd | -77 | 1.141937e+12 |\n| 1181612 | 2006-03-09 20:41:09 | 20 | 8 | 315.7 | 00:14:bf:b1:97:81 | -62 | 1.141937e+12 |\n| 1181614 | 2006-03-09 20:41:10 | 20 | 8 | 315.7 | 00:14:bf:3b:c7:c6 | -51 | 1.141937e+12 |\n| 1181615 | 2006-03-09 20:41:10 | 20 | 8 | 315.7 | 00:0f:a3:39:e1:c0 | -53 | 1.141937e+12 |\n| 1181616 | 2006-03-09 20:41:10 | 20 | 8 | 315.7 | 00:14:bf:b1:97:8a | -61 | 1.141937e+12 |\n| 1181617 | 2006-03-09 20:41:10 | 20 | 8 | 315.7 | 00:14:bf:b1:97:81 | -60 | 1.141937e+12 |\n| 1181618 | 2006-03-09 20:41:10 | 20 | 8 | 315.7 | 00:14:bf:b1:97:8d | -62 | 1.141937e+12 |\n| 1181619 | 2006-03-09 20:41:10 | 20 | 8 | 315.7 | 00:0f:a3:39:dd:cd | -77 | 1.141937e+12 |\n| 1181621 | 2006-03-09 20:41:10 | 20 | 8 | 315.7 | 00:14:bf:3b:c7:c6 | -56 | 1.141937e+12 |\n| 1181622 | 2006-03-09 20:41:10 | 20 | 8 | 315.7 | 00:0f:a3:39:e1:c0 | -53 | 1.141937e+12 |\n| 1181623 | 2006-03-09 20:41:10 | 20 | 8 | 315.7 | 00:14:bf:b1:97:8d | -61 | 1.141937e+12 |\n| 1181624 | 2006-03-09 20:41:10 | 20 | 8 | 315.7 | 00:14:bf:b1:97:8a | -60 | 1.141937e+12 |\n| 1181625 | 2006-03-09 20:41:10 | 20 | 8 | 315.7 | 00:14:bf:b1:97:81 | -60 | 1.141937e+12 |\n| 1181626 | 2006-03-09 20:41:10 | 20 | 8 | 315.7 | 00:14:bf:b1:97:90 | -68 | 1.141937e+12 |\n| 1181627 | 2006-03-09 20:41:10 | 20 | 8 | 315.7 | 00:0f:a3:39:dd:cd | -76 | 1.141937e+12 |\n\n",
            "text/html": [
              "<table>\n",
              "<caption>A data.frame: 978443 × 7</caption>\n",
              "<thead>\n",
              "\t<tr><th></th><th scope=col>time</th><th scope=col>posX</th><th scope=col>posY</th><th scope=col>orientation</th><th scope=col>mac</th><th scope=col>signal</th><th scope=col>rawTime</th></tr>\n",
              "\t<tr><th></th><th scope=col>&lt;dttm&gt;</th><th scope=col>&lt;dbl&gt;</th><th scope=col>&lt;dbl&gt;</th><th scope=col>&lt;dbl&gt;</th><th scope=col>&lt;chr&gt;</th><th scope=col>&lt;dbl&gt;</th><th scope=col>&lt;dbl&gt;</th></tr>\n",
              "</thead>\n",
              "<tbody>\n",
              "\t<tr><th scope=row>1</th><td>2006-02-11 07:31:58</td><td>0</td><td>0</td><td>0</td><td>00:14:bf:b1:97:8a</td><td>-38</td><td>1.139643e+12</td></tr>\n",
              "\t<tr><th scope=row>2</th><td>2006-02-11 07:31:58</td><td>0</td><td>0</td><td>0</td><td>00:14:bf:b1:97:90</td><td>-56</td><td>1.139643e+12</td></tr>\n",
              "\t<tr><th scope=row>3</th><td>2006-02-11 07:31:58</td><td>0</td><td>0</td><td>0</td><td>00:0f:a3:39:e1:c0</td><td>-53</td><td>1.139643e+12</td></tr>\n",
              "\t<tr><th scope=row>4</th><td>2006-02-11 07:31:58</td><td>0</td><td>0</td><td>0</td><td>00:14:bf:b1:97:8d</td><td>-65</td><td>1.139643e+12</td></tr>\n",
              "\t<tr><th scope=row>5</th><td>2006-02-11 07:31:58</td><td>0</td><td>0</td><td>0</td><td>00:14:bf:b1:97:81</td><td>-65</td><td>1.139643e+12</td></tr>\n",
              "\t<tr><th scope=row>6</th><td>2006-02-11 07:31:58</td><td>0</td><td>0</td><td>0</td><td>00:14:bf:3b:c7:c6</td><td>-66</td><td>1.139643e+12</td></tr>\n",
              "\t<tr><th scope=row>7</th><td>2006-02-11 07:31:58</td><td>0</td><td>0</td><td>0</td><td>00:0f:a3:39:dd:cd</td><td>-75</td><td>1.139643e+12</td></tr>\n",
              "\t<tr><th scope=row>8</th><td>2006-02-11 07:31:58</td><td>0</td><td>0</td><td>0</td><td>00:0f:a3:39:e0:4b</td><td>-78</td><td>1.139643e+12</td></tr>\n",
              "\t<tr><th scope=row>9</th><td>2006-02-11 07:31:58</td><td>0</td><td>0</td><td>0</td><td>00:0f:a3:39:e2:10</td><td>-87</td><td>1.139643e+12</td></tr>\n",
              "\t<tr><th scope=row>12</th><td>2006-02-11 07:31:58</td><td>0</td><td>0</td><td>0</td><td>00:14:bf:b1:97:8a</td><td>-38</td><td>1.139643e+12</td></tr>\n",
              "\t<tr><th scope=row>13</th><td>2006-02-11 07:31:58</td><td>0</td><td>0</td><td>0</td><td>00:0f:a3:39:e1:c0</td><td>-54</td><td>1.139643e+12</td></tr>\n",
              "\t<tr><th scope=row>14</th><td>2006-02-11 07:31:58</td><td>0</td><td>0</td><td>0</td><td>00:14:bf:b1:97:90</td><td>-56</td><td>1.139643e+12</td></tr>\n",
              "\t<tr><th scope=row>15</th><td>2006-02-11 07:31:58</td><td>0</td><td>0</td><td>0</td><td>00:14:bf:3b:c7:c6</td><td>-67</td><td>1.139643e+12</td></tr>\n",
              "\t<tr><th scope=row>16</th><td>2006-02-11 07:31:58</td><td>0</td><td>0</td><td>0</td><td>00:14:bf:b1:97:81</td><td>-66</td><td>1.139643e+12</td></tr>\n",
              "\t<tr><th scope=row>17</th><td>2006-02-11 07:31:58</td><td>0</td><td>0</td><td>0</td><td>00:14:bf:b1:97:8d</td><td>-70</td><td>1.139643e+12</td></tr>\n",
              "\t<tr><th scope=row>18</th><td>2006-02-11 07:31:58</td><td>0</td><td>0</td><td>0</td><td>00:0f:a3:39:e0:4b</td><td>-79</td><td>1.139643e+12</td></tr>\n",
              "\t<tr><th scope=row>19</th><td>2006-02-11 07:31:58</td><td>0</td><td>0</td><td>0</td><td>00:0f:a3:39:dd:cd</td><td>-73</td><td>1.139643e+12</td></tr>\n",
              "\t<tr><th scope=row>20</th><td>2006-02-11 07:31:58</td><td>0</td><td>0</td><td>0</td><td>00:0f:a3:39:e2:10</td><td>-83</td><td>1.139643e+12</td></tr>\n",
              "\t<tr><th scope=row>22</th><td>2006-02-11 07:31:59</td><td>0</td><td>0</td><td>0</td><td>00:14:bf:b1:97:8a</td><td>-38</td><td>1.139643e+12</td></tr>\n",
              "\t<tr><th scope=row>23</th><td>2006-02-11 07:31:59</td><td>0</td><td>0</td><td>0</td><td>00:0f:a3:39:e1:c0</td><td>-54</td><td>1.139643e+12</td></tr>\n",
              "\t<tr><th scope=row>24</th><td>2006-02-11 07:31:59</td><td>0</td><td>0</td><td>0</td><td>00:14:bf:b1:97:90</td><td>-57</td><td>1.139643e+12</td></tr>\n",
              "\t<tr><th scope=row>25</th><td>2006-02-11 07:31:59</td><td>0</td><td>0</td><td>0</td><td>00:14:bf:b1:97:81</td><td>-66</td><td>1.139643e+12</td></tr>\n",
              "\t<tr><th scope=row>26</th><td>2006-02-11 07:31:59</td><td>0</td><td>0</td><td>0</td><td>00:14:bf:3b:c7:c6</td><td>-69</td><td>1.139643e+12</td></tr>\n",
              "\t<tr><th scope=row>27</th><td>2006-02-11 07:31:59</td><td>0</td><td>0</td><td>0</td><td>00:14:bf:b1:97:8d</td><td>-70</td><td>1.139643e+12</td></tr>\n",
              "\t<tr><th scope=row>28</th><td>2006-02-11 07:31:59</td><td>0</td><td>0</td><td>0</td><td>00:0f:a3:39:e0:4b</td><td>-78</td><td>1.139643e+12</td></tr>\n",
              "\t<tr><th scope=row>29</th><td>2006-02-11 07:31:59</td><td>0</td><td>0</td><td>0</td><td>00:0f:a3:39:e2:10</td><td>-83</td><td>1.139643e+12</td></tr>\n",
              "\t<tr><th scope=row>30</th><td>2006-02-11 07:31:59</td><td>0</td><td>0</td><td>0</td><td>00:0f:a3:39:dd:cd</td><td>-65</td><td>1.139643e+12</td></tr>\n",
              "\t<tr><th scope=row>32</th><td>2006-02-11 07:31:59</td><td>0</td><td>0</td><td>0</td><td>00:14:bf:b1:97:8a</td><td>-38</td><td>1.139643e+12</td></tr>\n",
              "\t<tr><th scope=row>33</th><td>2006-02-11 07:31:59</td><td>0</td><td>0</td><td>0</td><td>00:14:bf:b1:97:90</td><td>-52</td><td>1.139643e+12</td></tr>\n",
              "\t<tr><th scope=row>34</th><td>2006-02-11 07:31:59</td><td>0</td><td>0</td><td>0</td><td>00:0f:a3:39:e1:c0</td><td>-54</td><td>1.139643e+12</td></tr>\n",
              "\t<tr><th scope=row>⋮</th><td>⋮</td><td>⋮</td><td>⋮</td><td>⋮</td><td>⋮</td><td>⋮</td><td>⋮</td></tr>\n",
              "\t<tr><th scope=row>1181594</th><td>2006-03-09 20:41:09</td><td>20</td><td>8</td><td>315.7</td><td>00:14:bf:b1:97:8d</td><td>-56</td><td>1.141937e+12</td></tr>\n",
              "\t<tr><th scope=row>1181595</th><td>2006-03-09 20:41:09</td><td>20</td><td>8</td><td>315.7</td><td>00:14:bf:b1:97:8a</td><td>-60</td><td>1.141937e+12</td></tr>\n",
              "\t<tr><th scope=row>1181596</th><td>2006-03-09 20:41:09</td><td>20</td><td>8</td><td>315.7</td><td>00:14:bf:b1:97:90</td><td>-69</td><td>1.141937e+12</td></tr>\n",
              "\t<tr><th scope=row>1181597</th><td>2006-03-09 20:41:09</td><td>20</td><td>8</td><td>315.7</td><td>00:0f:a3:39:dd:cd</td><td>-76</td><td>1.141937e+12</td></tr>\n",
              "\t<tr><th scope=row>1181599</th><td>2006-03-09 20:41:09</td><td>20</td><td>8</td><td>315.7</td><td>00:0f:a3:39:e1:c0</td><td>-53</td><td>1.141937e+12</td></tr>\n",
              "\t<tr><th scope=row>1181600</th><td>2006-03-09 20:41:09</td><td>20</td><td>8</td><td>315.7</td><td>00:14:bf:3b:c7:c6</td><td>-52</td><td>1.141937e+12</td></tr>\n",
              "\t<tr><th scope=row>1181601</th><td>2006-03-09 20:41:09</td><td>20</td><td>8</td><td>315.7</td><td>00:14:bf:b1:97:8d</td><td>-62</td><td>1.141937e+12</td></tr>\n",
              "\t<tr><th scope=row>1181602</th><td>2006-03-09 20:41:09</td><td>20</td><td>8</td><td>315.7</td><td>00:14:bf:b1:97:81</td><td>-58</td><td>1.141937e+12</td></tr>\n",
              "\t<tr><th scope=row>1181603</th><td>2006-03-09 20:41:09</td><td>20</td><td>8</td><td>315.7</td><td>00:14:bf:b1:97:8a</td><td>-61</td><td>1.141937e+12</td></tr>\n",
              "\t<tr><th scope=row>1181604</th><td>2006-03-09 20:41:09</td><td>20</td><td>8</td><td>315.7</td><td>00:0f:a3:39:dd:cd</td><td>-77</td><td>1.141937e+12</td></tr>\n",
              "\t<tr><th scope=row>1181606</th><td>2006-03-09 20:41:09</td><td>20</td><td>8</td><td>315.7</td><td>00:0f:a3:39:e1:c0</td><td>-54</td><td>1.141937e+12</td></tr>\n",
              "\t<tr><th scope=row>1181607</th><td>2006-03-09 20:41:09</td><td>20</td><td>8</td><td>315.7</td><td>00:14:bf:3b:c7:c6</td><td>-58</td><td>1.141937e+12</td></tr>\n",
              "\t<tr><th scope=row>1181608</th><td>2006-03-09 20:41:09</td><td>20</td><td>8</td><td>315.7</td><td>00:14:bf:b1:97:8d</td><td>-56</td><td>1.141937e+12</td></tr>\n",
              "\t<tr><th scope=row>1181609</th><td>2006-03-09 20:41:09</td><td>20</td><td>8</td><td>315.7</td><td>00:14:bf:b1:97:8a</td><td>-60</td><td>1.141937e+12</td></tr>\n",
              "\t<tr><th scope=row>1181610</th><td>2006-03-09 20:41:09</td><td>20</td><td>8</td><td>315.7</td><td>00:14:bf:b1:97:90</td><td>-69</td><td>1.141937e+12</td></tr>\n",
              "\t<tr><th scope=row>1181611</th><td>2006-03-09 20:41:09</td><td>20</td><td>8</td><td>315.7</td><td>00:0f:a3:39:dd:cd</td><td>-77</td><td>1.141937e+12</td></tr>\n",
              "\t<tr><th scope=row>1181612</th><td>2006-03-09 20:41:09</td><td>20</td><td>8</td><td>315.7</td><td>00:14:bf:b1:97:81</td><td>-62</td><td>1.141937e+12</td></tr>\n",
              "\t<tr><th scope=row>1181614</th><td>2006-03-09 20:41:10</td><td>20</td><td>8</td><td>315.7</td><td>00:14:bf:3b:c7:c6</td><td>-51</td><td>1.141937e+12</td></tr>\n",
              "\t<tr><th scope=row>1181615</th><td>2006-03-09 20:41:10</td><td>20</td><td>8</td><td>315.7</td><td>00:0f:a3:39:e1:c0</td><td>-53</td><td>1.141937e+12</td></tr>\n",
              "\t<tr><th scope=row>1181616</th><td>2006-03-09 20:41:10</td><td>20</td><td>8</td><td>315.7</td><td>00:14:bf:b1:97:8a</td><td>-61</td><td>1.141937e+12</td></tr>\n",
              "\t<tr><th scope=row>1181617</th><td>2006-03-09 20:41:10</td><td>20</td><td>8</td><td>315.7</td><td>00:14:bf:b1:97:81</td><td>-60</td><td>1.141937e+12</td></tr>\n",
              "\t<tr><th scope=row>1181618</th><td>2006-03-09 20:41:10</td><td>20</td><td>8</td><td>315.7</td><td>00:14:bf:b1:97:8d</td><td>-62</td><td>1.141937e+12</td></tr>\n",
              "\t<tr><th scope=row>1181619</th><td>2006-03-09 20:41:10</td><td>20</td><td>8</td><td>315.7</td><td>00:0f:a3:39:dd:cd</td><td>-77</td><td>1.141937e+12</td></tr>\n",
              "\t<tr><th scope=row>1181621</th><td>2006-03-09 20:41:10</td><td>20</td><td>8</td><td>315.7</td><td>00:14:bf:3b:c7:c6</td><td>-56</td><td>1.141937e+12</td></tr>\n",
              "\t<tr><th scope=row>1181622</th><td>2006-03-09 20:41:10</td><td>20</td><td>8</td><td>315.7</td><td>00:0f:a3:39:e1:c0</td><td>-53</td><td>1.141937e+12</td></tr>\n",
              "\t<tr><th scope=row>1181623</th><td>2006-03-09 20:41:10</td><td>20</td><td>8</td><td>315.7</td><td>00:14:bf:b1:97:8d</td><td>-61</td><td>1.141937e+12</td></tr>\n",
              "\t<tr><th scope=row>1181624</th><td>2006-03-09 20:41:10</td><td>20</td><td>8</td><td>315.7</td><td>00:14:bf:b1:97:8a</td><td>-60</td><td>1.141937e+12</td></tr>\n",
              "\t<tr><th scope=row>1181625</th><td>2006-03-09 20:41:10</td><td>20</td><td>8</td><td>315.7</td><td>00:14:bf:b1:97:81</td><td>-60</td><td>1.141937e+12</td></tr>\n",
              "\t<tr><th scope=row>1181626</th><td>2006-03-09 20:41:10</td><td>20</td><td>8</td><td>315.7</td><td>00:14:bf:b1:97:90</td><td>-68</td><td>1.141937e+12</td></tr>\n",
              "\t<tr><th scope=row>1181627</th><td>2006-03-09 20:41:10</td><td>20</td><td>8</td><td>315.7</td><td>00:0f:a3:39:dd:cd</td><td>-76</td><td>1.141937e+12</td></tr>\n",
              "</tbody>\n",
              "</table>\n"
            ]
          },
          "metadata": {
            "tags": []
          }
        }
      ]
    },
    {
      "cell_type": "code",
      "metadata": {
        "id": "25HpVF_uIVsB",
        "colab_type": "code",
        "colab": {}
      },
      "source": [
        "#offline[offline['posZ']!='0.0',]"
      ],
      "execution_count": 0,
      "outputs": []
    },
    {
      "cell_type": "code",
      "metadata": {
        "id": "A0NQ0CVPIVsD",
        "colab_type": "code",
        "colab": {
          "base_uri": "https://localhost:8080/",
          "height": 283
        },
        "outputId": "396608c6-f4e3-4331-b123-53b86bf349d6"
      },
      "source": [
        "vals = data.frame(table(offline['mac']))\n",
        "vals[order(-vals$Freq),]"
      ],
      "execution_count": 35,
      "outputs": [
        {
          "output_type": "display_data",
          "data": {
            "text/plain": [
              "   Var1              Freq  \n",
              "4  00:0f:a3:39:e1:c0 145862\n",
              "2  00:0f:a3:39:dd:cd 145619\n",
              "8  00:14:bf:b1:97:8a 132962\n",
              "6  00:14:bf:3b:c7:c6 126529\n",
              "10 00:14:bf:b1:97:90 122315\n",
              "9  00:14:bf:b1:97:8d 121325\n",
              "7  00:14:bf:b1:97:81 120339\n",
              "3  00:0f:a3:39:e0:4b  43508\n",
              "5  00:0f:a3:39:e2:10  19162\n",
              "1  00:04:0e:5c:23:fc    418\n",
              "11 00:30:bd:f8:7f:c5    301\n",
              "12 00:e0:63:82:8b:a9    103"
            ],
            "text/latex": "A data.frame: 12 × 2\n\\begin{tabular}{r|ll}\n  & Var1 & Freq\\\\\n  & <fct> & <int>\\\\\n\\hline\n\t4 & 00:0f:a3:39:e1:c0 & 145862\\\\\n\t2 & 00:0f:a3:39:dd:cd & 145619\\\\\n\t8 & 00:14:bf:b1:97:8a & 132962\\\\\n\t6 & 00:14:bf:3b:c7:c6 & 126529\\\\\n\t10 & 00:14:bf:b1:97:90 & 122315\\\\\n\t9 & 00:14:bf:b1:97:8d & 121325\\\\\n\t7 & 00:14:bf:b1:97:81 & 120339\\\\\n\t3 & 00:0f:a3:39:e0:4b &  43508\\\\\n\t5 & 00:0f:a3:39:e2:10 &  19162\\\\\n\t1 & 00:04:0e:5c:23:fc &    418\\\\\n\t11 & 00:30:bd:f8:7f:c5 &    301\\\\\n\t12 & 00:e0:63:82:8b:a9 &    103\\\\\n\\end{tabular}\n",
            "text/markdown": "\nA data.frame: 12 × 2\n\n| <!--/--> | Var1 &lt;fct&gt; | Freq &lt;int&gt; |\n|---|---|---|\n| 4 | 00:0f:a3:39:e1:c0 | 145862 |\n| 2 | 00:0f:a3:39:dd:cd | 145619 |\n| 8 | 00:14:bf:b1:97:8a | 132962 |\n| 6 | 00:14:bf:3b:c7:c6 | 126529 |\n| 10 | 00:14:bf:b1:97:90 | 122315 |\n| 9 | 00:14:bf:b1:97:8d | 121325 |\n| 7 | 00:14:bf:b1:97:81 | 120339 |\n| 3 | 00:0f:a3:39:e0:4b |  43508 |\n| 5 | 00:0f:a3:39:e2:10 |  19162 |\n| 1 | 00:04:0e:5c:23:fc |    418 |\n| 11 | 00:30:bd:f8:7f:c5 |    301 |\n| 12 | 00:e0:63:82:8b:a9 |    103 |\n\n",
            "text/html": [
              "<table>\n",
              "<caption>A data.frame: 12 × 2</caption>\n",
              "<thead>\n",
              "\t<tr><th></th><th scope=col>Var1</th><th scope=col>Freq</th></tr>\n",
              "\t<tr><th></th><th scope=col>&lt;fct&gt;</th><th scope=col>&lt;int&gt;</th></tr>\n",
              "</thead>\n",
              "<tbody>\n",
              "\t<tr><th scope=row>4</th><td>00:0f:a3:39:e1:c0</td><td>145862</td></tr>\n",
              "\t<tr><th scope=row>2</th><td>00:0f:a3:39:dd:cd</td><td>145619</td></tr>\n",
              "\t<tr><th scope=row>8</th><td>00:14:bf:b1:97:8a</td><td>132962</td></tr>\n",
              "\t<tr><th scope=row>6</th><td>00:14:bf:3b:c7:c6</td><td>126529</td></tr>\n",
              "\t<tr><th scope=row>10</th><td>00:14:bf:b1:97:90</td><td>122315</td></tr>\n",
              "\t<tr><th scope=row>9</th><td>00:14:bf:b1:97:8d</td><td>121325</td></tr>\n",
              "\t<tr><th scope=row>7</th><td>00:14:bf:b1:97:81</td><td>120339</td></tr>\n",
              "\t<tr><th scope=row>3</th><td>00:0f:a3:39:e0:4b</td><td> 43508</td></tr>\n",
              "\t<tr><th scope=row>5</th><td>00:0f:a3:39:e2:10</td><td> 19162</td></tr>\n",
              "\t<tr><th scope=row>1</th><td>00:04:0e:5c:23:fc</td><td>   418</td></tr>\n",
              "\t<tr><th scope=row>11</th><td>00:30:bd:f8:7f:c5</td><td>   301</td></tr>\n",
              "\t<tr><th scope=row>12</th><td>00:e0:63:82:8b:a9</td><td>   103</td></tr>\n",
              "</tbody>\n",
              "</table>\n"
            ]
          },
          "metadata": {
            "tags": []
          }
        }
      ]
    },
    {
      "cell_type": "code",
      "metadata": {
        "id": "HZsCbQ6fIVsF",
        "colab_type": "code",
        "colab": {}
      },
      "source": [
        "offline$signal %<>% as.integer"
      ],
      "execution_count": 0,
      "outputs": []
    },
    {
      "cell_type": "code",
      "metadata": {
        "id": "DDNsz11kIVsH",
        "colab_type": "code",
        "colab": {}
      },
      "source": [
        "#out<-select(offline, -c(channel,scanMac)) %>% pivot_wider(names_from = mac,values_from = signal, values_fn = list(signal=mean))\n",
        "out<-select(offline, -c(channel)) %>% pivot_wider(names_from = mac,values_from = signal, values_fn = list(signal=mean))"
      ],
      "execution_count": 0,
      "outputs": []
    },
    {
      "cell_type": "code",
      "metadata": {
        "id": "A8tOwEKQIVsJ",
        "colab_type": "code",
        "colab": {}
      },
      "source": [
        "out$nas<-rowSums(is.na(out))"
      ],
      "execution_count": 0,
      "outputs": []
    },
    {
      "cell_type": "code",
      "metadata": {
        "id": "eIY2PvbDIVsL",
        "colab_type": "code",
        "colab": {
          "base_uri": "https://localhost:8080/",
          "height": 1000
        },
        "outputId": "b4ce6d9a-86c7-4f5c-faf8-619e4f6a34e7"
      },
      "source": [
        "out"
      ],
      "execution_count": 39,
      "outputs": [
        {
          "output_type": "display_data",
          "data": {
            "text/plain": [
              "       time                posX posY orientation rawTime      00:14:bf:b1:97:8a\n",
              "1      2006-02-11 07:31:58 0    0    0           1.139643e+12 -38              \n",
              "2      2006-02-11 07:31:58 0    0    0           1.139643e+12 -38              \n",
              "3      2006-02-11 07:31:59 0    0    0           1.139643e+12 -38              \n",
              "4      2006-02-11 07:31:59 0    0    0           1.139643e+12 -38              \n",
              "5      2006-02-11 07:31:59 0    0    0           1.139643e+12 -46              \n",
              "6      2006-02-11 07:31:59 0    0    0           1.139643e+12 -37              \n",
              "7      2006-02-11 07:32:00 0    0    0           1.139643e+12 -38              \n",
              "8      2006-02-11 07:32:00 0    0    0           1.139643e+12  NA              \n",
              "9      2006-02-11 07:32:00 0    0    0           1.139643e+12 -46              \n",
              "10     2006-02-11 07:32:00 0    0    0           1.139643e+12 -39              \n",
              "11     2006-02-11 07:32:01 0    0    0           1.139643e+12 -43              \n",
              "12     2006-02-11 07:32:01 0    0    0           1.139643e+12  NA              \n",
              "13     2006-02-11 07:32:01 0    0    0           1.139643e+12  NA              \n",
              "14     2006-02-11 07:32:01 0    0    0           1.139643e+12 -43              \n",
              "15     2006-02-11 07:32:02 0    0    0           1.139643e+12  NA              \n",
              "16     2006-02-11 07:32:02 0    0    0           1.139643e+12  NA              \n",
              "17     2006-02-11 07:32:02 0    0    0           1.139643e+12 -42              \n",
              "18     2006-02-11 07:32:02 0    0    0           1.139643e+12  NA              \n",
              "19     2006-02-11 07:32:03 0    0    0           1.139643e+12 -39              \n",
              "20     2006-02-11 07:32:03 0    0    0           1.139643e+12 -38              \n",
              "21     2006-02-11 07:32:03 0    0    0           1.139643e+12 -38              \n",
              "22     2006-02-11 07:32:03 0    0    0           1.139643e+12 -39              \n",
              "23     2006-02-11 07:32:04 0    0    0           1.139643e+12  NA              \n",
              "24     2006-02-11 07:32:04 0    0    0           1.139643e+12 -38              \n",
              "25     2006-02-11 07:32:04 0    0    0           1.139643e+12  NA              \n",
              "26     2006-02-11 07:32:04 0    0    0           1.139643e+12 -38              \n",
              "27     2006-02-11 07:32:05 0    0    0           1.139643e+12 -37              \n",
              "28     2006-02-11 07:32:05 0    0    0           1.139643e+12 -37              \n",
              "29     2006-02-11 07:32:05 0    0    0           1.139643e+12 -37              \n",
              "30     2006-02-11 07:32:05 0    0    0           1.139643e+12 -37              \n",
              "⋮      ⋮                   ⋮    ⋮    ⋮           ⋮            ⋮                \n",
              "146045 2006-03-09 20:41:03 20   8    315.7       1.141937e+12 -60              \n",
              "146046 2006-03-09 20:41:03 20   8    315.7       1.141937e+12  NA              \n",
              "146047 2006-03-09 20:41:03 20   8    315.7       1.141937e+12  NA              \n",
              "146048 2006-03-09 20:41:03 20   8    315.7       1.141937e+12 -60              \n",
              "146049 2006-03-09 20:41:04 20   8    315.7       1.141937e+12 -60              \n",
              "146050 2006-03-09 20:41:04 20   8    315.7       1.141937e+12 -60              \n",
              "146051 2006-03-09 20:41:04 20   8    315.7       1.141937e+12 -70              \n",
              "146052 2006-03-09 20:41:04 20   8    315.7       1.141937e+12 -60              \n",
              "146053 2006-03-09 20:41:05 20   8    315.7       1.141937e+12 -60              \n",
              "146054 2006-03-09 20:41:05 20   8    315.7       1.141937e+12 -59              \n",
              "146055 2006-03-09 20:41:05 20   8    315.7       1.141937e+12 -60              \n",
              "146056 2006-03-09 20:41:05 20   8    315.7       1.141937e+12 -60              \n",
              "146057 2006-03-09 20:41:06 20   8    315.7       1.141937e+12 -61              \n",
              "146058 2006-03-09 20:41:06 20   8    315.7       1.141937e+12 -60              \n",
              "146059 2006-03-09 20:41:06 20   8    315.7       1.141937e+12 -61              \n",
              "146060 2006-03-09 20:41:06 20   8    315.7       1.141937e+12 -58              \n",
              "146061 2006-03-09 20:41:07 20   8    315.7       1.141937e+12 -61              \n",
              "146062 2006-03-09 20:41:07 20   8    315.7       1.141937e+12  NA              \n",
              "146063 2006-03-09 20:41:07 20   8    315.7       1.141937e+12 -59              \n",
              "146064 2006-03-09 20:41:07 20   8    315.7       1.141937e+12 -60              \n",
              "146065 2006-03-09 20:41:08 20   8    315.7       1.141937e+12  NA              \n",
              "146066 2006-03-09 20:41:08 20   8    315.7       1.141937e+12  NA              \n",
              "146067 2006-03-09 20:41:08 20   8    315.7       1.141937e+12 -59              \n",
              "146068 2006-03-09 20:41:08 20   8    315.7       1.141937e+12  NA              \n",
              "146069 2006-03-09 20:41:09 20   8    315.7       1.141937e+12  NA              \n",
              "146070 2006-03-09 20:41:09 20   8    315.7       1.141937e+12 -60              \n",
              "146071 2006-03-09 20:41:09 20   8    315.7       1.141937e+12 -61              \n",
              "146072 2006-03-09 20:41:09 20   8    315.7       1.141937e+12 -60              \n",
              "146073 2006-03-09 20:41:10 20   8    315.7       1.141937e+12 -61              \n",
              "146074 2006-03-09 20:41:10 20   8    315.7       1.141937e+12 -60              \n",
              "       00:14:bf:b1:97:90 00:0f:a3:39:e1:c0 00:14:bf:b1:97:8d 00:14:bf:b1:97:81\n",
              "1      -56.0             -53               -65               -65              \n",
              "2      -56.0             -54               -70               -66              \n",
              "3      -57.0             -54               -70               -66              \n",
              "4      -52.0             -54               -74               -64              \n",
              "5      -57.0             -55                NA               -66              \n",
              "6         NA             -54               -67               -65              \n",
              "7      -56.0             -54               -72               -65              \n",
              "8      -55.0             -55               -67               -65              \n",
              "9      -57.0             -55               -71               -64              \n",
              "10     -57.0             -53               -66               -66              \n",
              "11     -56.0             -50               -65               -66              \n",
              "12     -56.0             -51               -66               -66              \n",
              "13     -56.0             -51               -66               -65              \n",
              "14     -55.0             -51               -66               -61              \n",
              "15        NA             -51               -66               -65              \n",
              "16     -56.0             -52               -66               -67              \n",
              "17     -57.0             -50               -71               -64              \n",
              "18     -55.0             -51                NA               -67              \n",
              "19     -57.0             -50                NA               -68              \n",
              "20        NA             -51                NA               -65              \n",
              "21     -58.0             -52                NA               -65              \n",
              "22        NA             -51                NA               -63              \n",
              "23     -55.0             -50               -65               -65              \n",
              "24     -56.0             -53               -64               -68              \n",
              "25     -59.0             -50                NA               -64              \n",
              "26     -59.0             -51                NA               -65              \n",
              "27     -61.0             -52               -66               -64              \n",
              "28     -57.5             -52               -66               -62              \n",
              "29     -54.0             -51               -66                NA              \n",
              "30     -57.0             -51               -66               -62              \n",
              "⋮      ⋮                 ⋮                 ⋮                 ⋮                \n",
              "146045  NA               -52                  NA             -58              \n",
              "146046 -68               -54                  NA             -63              \n",
              "146047 -69               -53                  NA             -59              \n",
              "146048  NA               -54               -56.0             -60              \n",
              "146049 -75               -53               -56.0             -63              \n",
              "146050 -68               -51               -61.0              NA              \n",
              "146051 -77               -51               -59.0             -60              \n",
              "146052 -78               -53               -62.0              NA              \n",
              "146053 -78               -53               -62.0              NA              \n",
              "146054 -67               -53               -60.0             -63              \n",
              "146055  NA               -53               -57.0              NA              \n",
              "146056 -69               -53               -59.0             -59              \n",
              "146057 -69               -54               -61.0             -58              \n",
              "146058 -69               -54               -60.0             -57              \n",
              "146059 -69               -54               -56.0             -62              \n",
              "146060 -68               -53               -57.0             -58              \n",
              "146061 -68               -53               -61.0              NA              \n",
              "146062 -69               -53               -62.0             -60              \n",
              "146063 -78               -53               -61.5              NA              \n",
              "146064 -69               -53               -57.0             -61              \n",
              "146065 -68               -54               -61.0             -59              \n",
              "146066 -69               -54               -61.0             -60              \n",
              "146067 -68               -54               -62.0             -62              \n",
              "146068 -68               -54               -56.0             -58              \n",
              "146069 -69               -53               -61.0             -60              \n",
              "146070 -69               -51               -56.0              NA              \n",
              "146071  NA               -53               -62.0             -58              \n",
              "146072 -69               -54               -56.0             -62              \n",
              "146073  NA               -53               -62.0             -60              \n",
              "146074 -68               -53               -61.0             -60              \n",
              "       00:14:bf:3b:c7:c6 00:0f:a3:39:dd:cd 00:0f:a3:39:e0:4b 00:0f:a3:39:e2:10\n",
              "1      -66.0             -75.0             -78.00000         -87              \n",
              "2      -67.0             -73.0             -79.00000         -83              \n",
              "3      -69.0             -65.0             -78.00000         -83              \n",
              "4      -68.0             -78.0             -78.00000         -83              \n",
              "5      -67.0             -66.0             -80.00000         -83              \n",
              "6      -67.0             -67.0             -79.00000         -89              \n",
              "7         NA             -73.0             -78.00000         -89              \n",
              "8      -65.0             -68.0             -79.00000         -90              \n",
              "9      -69.0             -66.0             -79.00000         -83              \n",
              "10     -66.0             -66.0             -80.00000         -83              \n",
              "11     -63.0             -68.0             -79.00000         -83              \n",
              "12     -66.0             -67.0             -79.00000         -89              \n",
              "13     -67.0             -70.0             -79.00000         -90              \n",
              "14        NA             -71.0             -80.00000         -84              \n",
              "15     -68.0             -66.0             -79.00000         -83              \n",
              "16     -68.0             -69.0             -80.00000         -83              \n",
              "17     -66.5             -65.0             -79.25000         -83              \n",
              "18     -66.0             -65.0                    NA         -88              \n",
              "19     -67.0             -66.0             -80.00000         -83              \n",
              "20     -67.0             -68.0             -78.00000         -83              \n",
              "21        NA             -68.0                    NA         -91              \n",
              "22     -66.0             -67.0             -79.00000         -89              \n",
              "23     -67.0             -66.0                    NA         -83              \n",
              "24     -79.0             -66.0             -79.33333         -90              \n",
              "25     -65.0             -68.0                    NA         -83              \n",
              "26     -66.0             -67.0                    NA         -83              \n",
              "27     -66.0             -67.5                    NA         -90              \n",
              "28     -66.0             -66.0                    NA         -82              \n",
              "29     -64.0             -72.0             -79.00000         -83              \n",
              "30     -66.0             -71.0                    NA         -83              \n",
              "⋮      ⋮                 ⋮                 ⋮                 ⋮                \n",
              "146045 -54               -78               NA                NA               \n",
              "146046 -53               -78               NA                NA               \n",
              "146047 -51               -78               NA                NA               \n",
              "146048 -57               -78               NA                NA               \n",
              "146049 -54               -77               NA                NA               \n",
              "146050 -53               -77               NA                NA               \n",
              "146051 -55               -78               NA                NA               \n",
              "146052 -55               -78               NA                NA               \n",
              "146053 -57               -78               NA                NA               \n",
              "146054 -57               -78               NA                NA               \n",
              "146055 -56               -78               NA                NA               \n",
              "146056 -57               -77               NA                NA               \n",
              "146057 -52               -77               NA                NA               \n",
              "146058 -58               -76               NA                NA               \n",
              "146059 -57               -77               NA                NA               \n",
              "146060  NA               -76               NA                NA               \n",
              "146061 -57               -77               NA                NA               \n",
              "146062  NA               -77               NA                NA               \n",
              "146063 -57               -76               NA                NA               \n",
              "146064  NA               -78               NA                NA               \n",
              "146065 -57               -77               NA                NA               \n",
              "146066  NA               -77               NA                NA               \n",
              "146067 -56               -77               NA                NA               \n",
              "146068 -52               -77               NA                NA               \n",
              "146069 -57               -77               NA                NA               \n",
              "146070  NA               -76               NA                NA               \n",
              "146071 -52               -77               NA                NA               \n",
              "146072 -58               -77               NA                NA               \n",
              "146073 -51               -77               NA                NA               \n",
              "146074 -56               -76               NA                NA               \n",
              "       00:04:0e:5c:23:fc 00:30:bd:f8:7f:c5 00:e0:63:82:8b:a9 nas\n",
              "1      NA                NA                NA                3  \n",
              "2      NA                NA                NA                3  \n",
              "3      NA                NA                NA                3  \n",
              "4      NA                NA                NA                3  \n",
              "5      NA                NA                NA                4  \n",
              "6      NA                NA                NA                4  \n",
              "7      NA                NA                NA                4  \n",
              "8      NA                NA                NA                4  \n",
              "9      NA                NA                NA                3  \n",
              "10     NA                NA                NA                3  \n",
              "11     NA                NA                NA                3  \n",
              "12     NA                NA                NA                4  \n",
              "13     NA                NA                NA                4  \n",
              "14     NA                NA                NA                4  \n",
              "15     NA                NA                NA                5  \n",
              "16     NA                NA                NA                4  \n",
              "17     NA                NA                NA                3  \n",
              "18     NA                NA                NA                6  \n",
              "19     NA                NA                NA                4  \n",
              "20     NA                NA                NA                5  \n",
              "21     NA                NA                NA                6  \n",
              "22     NA                NA                NA                5  \n",
              "23     NA                NA                NA                5  \n",
              "24     NA                NA                NA                3  \n",
              "25     NA                NA                NA                6  \n",
              "26     NA                NA                NA                5  \n",
              "27     NA                NA                NA                4  \n",
              "28     NA                NA                NA                4  \n",
              "29     NA                NA                NA                4  \n",
              "30     NA                NA                NA                4  \n",
              "⋮      ⋮                 ⋮                 ⋮                 ⋮  \n",
              "146045 NA                NA                NA                7  \n",
              "146046 NA                NA                NA                7  \n",
              "146047 NA                NA                NA                7  \n",
              "146048 NA                NA                NA                6  \n",
              "146049 NA                NA                NA                5  \n",
              "146050 NA                NA                NA                6  \n",
              "146051 NA                NA                NA                5  \n",
              "146052 NA                NA                NA                6  \n",
              "146053 NA                NA                NA                6  \n",
              "146054 NA                NA                NA                5  \n",
              "146055 NA                NA                NA                7  \n",
              "146056 NA                NA                NA                5  \n",
              "146057 NA                NA                NA                5  \n",
              "146058 NA                NA                NA                5  \n",
              "146059 NA                NA                NA                5  \n",
              "146060 NA                NA                NA                6  \n",
              "146061 NA                NA                NA                6  \n",
              "146062 NA                NA                NA                7  \n",
              "146063 NA                NA                NA                6  \n",
              "146064 NA                NA                NA                6  \n",
              "146065 NA                NA                NA                6  \n",
              "146066 NA                NA                NA                7  \n",
              "146067 NA                NA                NA                5  \n",
              "146068 NA                NA                NA                6  \n",
              "146069 NA                NA                NA                6  \n",
              "146070 NA                NA                NA                7  \n",
              "146071 NA                NA                NA                6  \n",
              "146072 NA                NA                NA                5  \n",
              "146073 NA                NA                NA                6  \n",
              "146074 NA                NA                NA                5  "
            ],
            "text/latex": "A tibble: 146074 × 18\n\\begin{tabular}{llllllllllllllllll}\n time & posX & posY & orientation & rawTime & 00:14:bf:b1:97:8a & 00:14:bf:b1:97:90 & 00:0f:a3:39:e1:c0 & 00:14:bf:b1:97:8d & 00:14:bf:b1:97:81 & 00:14:bf:3b:c7:c6 & 00:0f:a3:39:dd:cd & 00:0f:a3:39:e0:4b & 00:0f:a3:39:e2:10 & 00:04:0e:5c:23:fc & 00:30:bd:f8:7f:c5 & 00:e0:63:82:8b:a9 & nas\\\\\n <dttm> & <dbl> & <dbl> & <dbl> & <dbl> & <dbl> & <dbl> & <dbl> & <dbl> & <dbl> & <dbl> & <dbl> & <dbl> & <dbl> & <dbl> & <dbl> & <dbl> & <dbl>\\\\\n\\hline\n\t 2006-02-11 07:31:58 & 0 & 0 & 0 & 1.139643e+12 & -38 & -56.0 & -53 & -65 & -65 & -66.0 & -75.0 & -78.00000 & -87 & NA & NA & NA & 3\\\\\n\t 2006-02-11 07:31:58 & 0 & 0 & 0 & 1.139643e+12 & -38 & -56.0 & -54 & -70 & -66 & -67.0 & -73.0 & -79.00000 & -83 & NA & NA & NA & 3\\\\\n\t 2006-02-11 07:31:59 & 0 & 0 & 0 & 1.139643e+12 & -38 & -57.0 & -54 & -70 & -66 & -69.0 & -65.0 & -78.00000 & -83 & NA & NA & NA & 3\\\\\n\t 2006-02-11 07:31:59 & 0 & 0 & 0 & 1.139643e+12 & -38 & -52.0 & -54 & -74 & -64 & -68.0 & -78.0 & -78.00000 & -83 & NA & NA & NA & 3\\\\\n\t 2006-02-11 07:31:59 & 0 & 0 & 0 & 1.139643e+12 & -46 & -57.0 & -55 &  NA & -66 & -67.0 & -66.0 & -80.00000 & -83 & NA & NA & NA & 4\\\\\n\t 2006-02-11 07:31:59 & 0 & 0 & 0 & 1.139643e+12 & -37 &    NA & -54 & -67 & -65 & -67.0 & -67.0 & -79.00000 & -89 & NA & NA & NA & 4\\\\\n\t 2006-02-11 07:32:00 & 0 & 0 & 0 & 1.139643e+12 & -38 & -56.0 & -54 & -72 & -65 &    NA & -73.0 & -78.00000 & -89 & NA & NA & NA & 4\\\\\n\t 2006-02-11 07:32:00 & 0 & 0 & 0 & 1.139643e+12 &  NA & -55.0 & -55 & -67 & -65 & -65.0 & -68.0 & -79.00000 & -90 & NA & NA & NA & 4\\\\\n\t 2006-02-11 07:32:00 & 0 & 0 & 0 & 1.139643e+12 & -46 & -57.0 & -55 & -71 & -64 & -69.0 & -66.0 & -79.00000 & -83 & NA & NA & NA & 3\\\\\n\t 2006-02-11 07:32:00 & 0 & 0 & 0 & 1.139643e+12 & -39 & -57.0 & -53 & -66 & -66 & -66.0 & -66.0 & -80.00000 & -83 & NA & NA & NA & 3\\\\\n\t 2006-02-11 07:32:01 & 0 & 0 & 0 & 1.139643e+12 & -43 & -56.0 & -50 & -65 & -66 & -63.0 & -68.0 & -79.00000 & -83 & NA & NA & NA & 3\\\\\n\t 2006-02-11 07:32:01 & 0 & 0 & 0 & 1.139643e+12 &  NA & -56.0 & -51 & -66 & -66 & -66.0 & -67.0 & -79.00000 & -89 & NA & NA & NA & 4\\\\\n\t 2006-02-11 07:32:01 & 0 & 0 & 0 & 1.139643e+12 &  NA & -56.0 & -51 & -66 & -65 & -67.0 & -70.0 & -79.00000 & -90 & NA & NA & NA & 4\\\\\n\t 2006-02-11 07:32:01 & 0 & 0 & 0 & 1.139643e+12 & -43 & -55.0 & -51 & -66 & -61 &    NA & -71.0 & -80.00000 & -84 & NA & NA & NA & 4\\\\\n\t 2006-02-11 07:32:02 & 0 & 0 & 0 & 1.139643e+12 &  NA &    NA & -51 & -66 & -65 & -68.0 & -66.0 & -79.00000 & -83 & NA & NA & NA & 5\\\\\n\t 2006-02-11 07:32:02 & 0 & 0 & 0 & 1.139643e+12 &  NA & -56.0 & -52 & -66 & -67 & -68.0 & -69.0 & -80.00000 & -83 & NA & NA & NA & 4\\\\\n\t 2006-02-11 07:32:02 & 0 & 0 & 0 & 1.139643e+12 & -42 & -57.0 & -50 & -71 & -64 & -66.5 & -65.0 & -79.25000 & -83 & NA & NA & NA & 3\\\\\n\t 2006-02-11 07:32:02 & 0 & 0 & 0 & 1.139643e+12 &  NA & -55.0 & -51 &  NA & -67 & -66.0 & -65.0 &        NA & -88 & NA & NA & NA & 6\\\\\n\t 2006-02-11 07:32:03 & 0 & 0 & 0 & 1.139643e+12 & -39 & -57.0 & -50 &  NA & -68 & -67.0 & -66.0 & -80.00000 & -83 & NA & NA & NA & 4\\\\\n\t 2006-02-11 07:32:03 & 0 & 0 & 0 & 1.139643e+12 & -38 &    NA & -51 &  NA & -65 & -67.0 & -68.0 & -78.00000 & -83 & NA & NA & NA & 5\\\\\n\t 2006-02-11 07:32:03 & 0 & 0 & 0 & 1.139643e+12 & -38 & -58.0 & -52 &  NA & -65 &    NA & -68.0 &        NA & -91 & NA & NA & NA & 6\\\\\n\t 2006-02-11 07:32:03 & 0 & 0 & 0 & 1.139643e+12 & -39 &    NA & -51 &  NA & -63 & -66.0 & -67.0 & -79.00000 & -89 & NA & NA & NA & 5\\\\\n\t 2006-02-11 07:32:04 & 0 & 0 & 0 & 1.139643e+12 &  NA & -55.0 & -50 & -65 & -65 & -67.0 & -66.0 &        NA & -83 & NA & NA & NA & 5\\\\\n\t 2006-02-11 07:32:04 & 0 & 0 & 0 & 1.139643e+12 & -38 & -56.0 & -53 & -64 & -68 & -79.0 & -66.0 & -79.33333 & -90 & NA & NA & NA & 3\\\\\n\t 2006-02-11 07:32:04 & 0 & 0 & 0 & 1.139643e+12 &  NA & -59.0 & -50 &  NA & -64 & -65.0 & -68.0 &        NA & -83 & NA & NA & NA & 6\\\\\n\t 2006-02-11 07:32:04 & 0 & 0 & 0 & 1.139643e+12 & -38 & -59.0 & -51 &  NA & -65 & -66.0 & -67.0 &        NA & -83 & NA & NA & NA & 5\\\\\n\t 2006-02-11 07:32:05 & 0 & 0 & 0 & 1.139643e+12 & -37 & -61.0 & -52 & -66 & -64 & -66.0 & -67.5 &        NA & -90 & NA & NA & NA & 4\\\\\n\t 2006-02-11 07:32:05 & 0 & 0 & 0 & 1.139643e+12 & -37 & -57.5 & -52 & -66 & -62 & -66.0 & -66.0 &        NA & -82 & NA & NA & NA & 4\\\\\n\t 2006-02-11 07:32:05 & 0 & 0 & 0 & 1.139643e+12 & -37 & -54.0 & -51 & -66 &  NA & -64.0 & -72.0 & -79.00000 & -83 & NA & NA & NA & 4\\\\\n\t 2006-02-11 07:32:05 & 0 & 0 & 0 & 1.139643e+12 & -37 & -57.0 & -51 & -66 & -62 & -66.0 & -71.0 &        NA & -83 & NA & NA & NA & 4\\\\\n\t ⋮ & ⋮ & ⋮ & ⋮ & ⋮ & ⋮ & ⋮ & ⋮ & ⋮ & ⋮ & ⋮ & ⋮ & ⋮ & ⋮ & ⋮ & ⋮ & ⋮ & ⋮\\\\\n\t 2006-03-09 20:41:03 & 20 & 8 & 315.7 & 1.141937e+12 & -60 &  NA & -52 &    NA & -58 & -54 & -78 & NA & NA & NA & NA & NA & 7\\\\\n\t 2006-03-09 20:41:03 & 20 & 8 & 315.7 & 1.141937e+12 &  NA & -68 & -54 &    NA & -63 & -53 & -78 & NA & NA & NA & NA & NA & 7\\\\\n\t 2006-03-09 20:41:03 & 20 & 8 & 315.7 & 1.141937e+12 &  NA & -69 & -53 &    NA & -59 & -51 & -78 & NA & NA & NA & NA & NA & 7\\\\\n\t 2006-03-09 20:41:03 & 20 & 8 & 315.7 & 1.141937e+12 & -60 &  NA & -54 & -56.0 & -60 & -57 & -78 & NA & NA & NA & NA & NA & 6\\\\\n\t 2006-03-09 20:41:04 & 20 & 8 & 315.7 & 1.141937e+12 & -60 & -75 & -53 & -56.0 & -63 & -54 & -77 & NA & NA & NA & NA & NA & 5\\\\\n\t 2006-03-09 20:41:04 & 20 & 8 & 315.7 & 1.141937e+12 & -60 & -68 & -51 & -61.0 &  NA & -53 & -77 & NA & NA & NA & NA & NA & 6\\\\\n\t 2006-03-09 20:41:04 & 20 & 8 & 315.7 & 1.141937e+12 & -70 & -77 & -51 & -59.0 & -60 & -55 & -78 & NA & NA & NA & NA & NA & 5\\\\\n\t 2006-03-09 20:41:04 & 20 & 8 & 315.7 & 1.141937e+12 & -60 & -78 & -53 & -62.0 &  NA & -55 & -78 & NA & NA & NA & NA & NA & 6\\\\\n\t 2006-03-09 20:41:05 & 20 & 8 & 315.7 & 1.141937e+12 & -60 & -78 & -53 & -62.0 &  NA & -57 & -78 & NA & NA & NA & NA & NA & 6\\\\\n\t 2006-03-09 20:41:05 & 20 & 8 & 315.7 & 1.141937e+12 & -59 & -67 & -53 & -60.0 & -63 & -57 & -78 & NA & NA & NA & NA & NA & 5\\\\\n\t 2006-03-09 20:41:05 & 20 & 8 & 315.7 & 1.141937e+12 & -60 &  NA & -53 & -57.0 &  NA & -56 & -78 & NA & NA & NA & NA & NA & 7\\\\\n\t 2006-03-09 20:41:05 & 20 & 8 & 315.7 & 1.141937e+12 & -60 & -69 & -53 & -59.0 & -59 & -57 & -77 & NA & NA & NA & NA & NA & 5\\\\\n\t 2006-03-09 20:41:06 & 20 & 8 & 315.7 & 1.141937e+12 & -61 & -69 & -54 & -61.0 & -58 & -52 & -77 & NA & NA & NA & NA & NA & 5\\\\\n\t 2006-03-09 20:41:06 & 20 & 8 & 315.7 & 1.141937e+12 & -60 & -69 & -54 & -60.0 & -57 & -58 & -76 & NA & NA & NA & NA & NA & 5\\\\\n\t 2006-03-09 20:41:06 & 20 & 8 & 315.7 & 1.141937e+12 & -61 & -69 & -54 & -56.0 & -62 & -57 & -77 & NA & NA & NA & NA & NA & 5\\\\\n\t 2006-03-09 20:41:06 & 20 & 8 & 315.7 & 1.141937e+12 & -58 & -68 & -53 & -57.0 & -58 &  NA & -76 & NA & NA & NA & NA & NA & 6\\\\\n\t 2006-03-09 20:41:07 & 20 & 8 & 315.7 & 1.141937e+12 & -61 & -68 & -53 & -61.0 &  NA & -57 & -77 & NA & NA & NA & NA & NA & 6\\\\\n\t 2006-03-09 20:41:07 & 20 & 8 & 315.7 & 1.141937e+12 &  NA & -69 & -53 & -62.0 & -60 &  NA & -77 & NA & NA & NA & NA & NA & 7\\\\\n\t 2006-03-09 20:41:07 & 20 & 8 & 315.7 & 1.141937e+12 & -59 & -78 & -53 & -61.5 &  NA & -57 & -76 & NA & NA & NA & NA & NA & 6\\\\\n\t 2006-03-09 20:41:07 & 20 & 8 & 315.7 & 1.141937e+12 & -60 & -69 & -53 & -57.0 & -61 &  NA & -78 & NA & NA & NA & NA & NA & 6\\\\\n\t 2006-03-09 20:41:08 & 20 & 8 & 315.7 & 1.141937e+12 &  NA & -68 & -54 & -61.0 & -59 & -57 & -77 & NA & NA & NA & NA & NA & 6\\\\\n\t 2006-03-09 20:41:08 & 20 & 8 & 315.7 & 1.141937e+12 &  NA & -69 & -54 & -61.0 & -60 &  NA & -77 & NA & NA & NA & NA & NA & 7\\\\\n\t 2006-03-09 20:41:08 & 20 & 8 & 315.7 & 1.141937e+12 & -59 & -68 & -54 & -62.0 & -62 & -56 & -77 & NA & NA & NA & NA & NA & 5\\\\\n\t 2006-03-09 20:41:08 & 20 & 8 & 315.7 & 1.141937e+12 &  NA & -68 & -54 & -56.0 & -58 & -52 & -77 & NA & NA & NA & NA & NA & 6\\\\\n\t 2006-03-09 20:41:09 & 20 & 8 & 315.7 & 1.141937e+12 &  NA & -69 & -53 & -61.0 & -60 & -57 & -77 & NA & NA & NA & NA & NA & 6\\\\\n\t 2006-03-09 20:41:09 & 20 & 8 & 315.7 & 1.141937e+12 & -60 & -69 & -51 & -56.0 &  NA &  NA & -76 & NA & NA & NA & NA & NA & 7\\\\\n\t 2006-03-09 20:41:09 & 20 & 8 & 315.7 & 1.141937e+12 & -61 &  NA & -53 & -62.0 & -58 & -52 & -77 & NA & NA & NA & NA & NA & 6\\\\\n\t 2006-03-09 20:41:09 & 20 & 8 & 315.7 & 1.141937e+12 & -60 & -69 & -54 & -56.0 & -62 & -58 & -77 & NA & NA & NA & NA & NA & 5\\\\\n\t 2006-03-09 20:41:10 & 20 & 8 & 315.7 & 1.141937e+12 & -61 &  NA & -53 & -62.0 & -60 & -51 & -77 & NA & NA & NA & NA & NA & 6\\\\\n\t 2006-03-09 20:41:10 & 20 & 8 & 315.7 & 1.141937e+12 & -60 & -68 & -53 & -61.0 & -60 & -56 & -76 & NA & NA & NA & NA & NA & 5\\\\\n\\end{tabular}\n",
            "text/markdown": "\nA tibble: 146074 × 18\n\n| time &lt;dttm&gt; | posX &lt;dbl&gt; | posY &lt;dbl&gt; | orientation &lt;dbl&gt; | rawTime &lt;dbl&gt; | 00:14:bf:b1:97:8a &lt;dbl&gt; | 00:14:bf:b1:97:90 &lt;dbl&gt; | 00:0f:a3:39:e1:c0 &lt;dbl&gt; | 00:14:bf:b1:97:8d &lt;dbl&gt; | 00:14:bf:b1:97:81 &lt;dbl&gt; | 00:14:bf:3b:c7:c6 &lt;dbl&gt; | 00:0f:a3:39:dd:cd &lt;dbl&gt; | 00:0f:a3:39:e0:4b &lt;dbl&gt; | 00:0f:a3:39:e2:10 &lt;dbl&gt; | 00:04:0e:5c:23:fc &lt;dbl&gt; | 00:30:bd:f8:7f:c5 &lt;dbl&gt; | 00:e0:63:82:8b:a9 &lt;dbl&gt; | nas &lt;dbl&gt; |\n|---|---|---|---|---|---|---|---|---|---|---|---|---|---|---|---|---|---|\n| 2006-02-11 07:31:58 | 0 | 0 | 0 | 1.139643e+12 | -38 | -56.0 | -53 | -65 | -65 | -66.0 | -75.0 | -78.00000 | -87 | NA | NA | NA | 3 |\n| 2006-02-11 07:31:58 | 0 | 0 | 0 | 1.139643e+12 | -38 | -56.0 | -54 | -70 | -66 | -67.0 | -73.0 | -79.00000 | -83 | NA | NA | NA | 3 |\n| 2006-02-11 07:31:59 | 0 | 0 | 0 | 1.139643e+12 | -38 | -57.0 | -54 | -70 | -66 | -69.0 | -65.0 | -78.00000 | -83 | NA | NA | NA | 3 |\n| 2006-02-11 07:31:59 | 0 | 0 | 0 | 1.139643e+12 | -38 | -52.0 | -54 | -74 | -64 | -68.0 | -78.0 | -78.00000 | -83 | NA | NA | NA | 3 |\n| 2006-02-11 07:31:59 | 0 | 0 | 0 | 1.139643e+12 | -46 | -57.0 | -55 |  NA | -66 | -67.0 | -66.0 | -80.00000 | -83 | NA | NA | NA | 4 |\n| 2006-02-11 07:31:59 | 0 | 0 | 0 | 1.139643e+12 | -37 |    NA | -54 | -67 | -65 | -67.0 | -67.0 | -79.00000 | -89 | NA | NA | NA | 4 |\n| 2006-02-11 07:32:00 | 0 | 0 | 0 | 1.139643e+12 | -38 | -56.0 | -54 | -72 | -65 |    NA | -73.0 | -78.00000 | -89 | NA | NA | NA | 4 |\n| 2006-02-11 07:32:00 | 0 | 0 | 0 | 1.139643e+12 |  NA | -55.0 | -55 | -67 | -65 | -65.0 | -68.0 | -79.00000 | -90 | NA | NA | NA | 4 |\n| 2006-02-11 07:32:00 | 0 | 0 | 0 | 1.139643e+12 | -46 | -57.0 | -55 | -71 | -64 | -69.0 | -66.0 | -79.00000 | -83 | NA | NA | NA | 3 |\n| 2006-02-11 07:32:00 | 0 | 0 | 0 | 1.139643e+12 | -39 | -57.0 | -53 | -66 | -66 | -66.0 | -66.0 | -80.00000 | -83 | NA | NA | NA | 3 |\n| 2006-02-11 07:32:01 | 0 | 0 | 0 | 1.139643e+12 | -43 | -56.0 | -50 | -65 | -66 | -63.0 | -68.0 | -79.00000 | -83 | NA | NA | NA | 3 |\n| 2006-02-11 07:32:01 | 0 | 0 | 0 | 1.139643e+12 |  NA | -56.0 | -51 | -66 | -66 | -66.0 | -67.0 | -79.00000 | -89 | NA | NA | NA | 4 |\n| 2006-02-11 07:32:01 | 0 | 0 | 0 | 1.139643e+12 |  NA | -56.0 | -51 | -66 | -65 | -67.0 | -70.0 | -79.00000 | -90 | NA | NA | NA | 4 |\n| 2006-02-11 07:32:01 | 0 | 0 | 0 | 1.139643e+12 | -43 | -55.0 | -51 | -66 | -61 |    NA | -71.0 | -80.00000 | -84 | NA | NA | NA | 4 |\n| 2006-02-11 07:32:02 | 0 | 0 | 0 | 1.139643e+12 |  NA |    NA | -51 | -66 | -65 | -68.0 | -66.0 | -79.00000 | -83 | NA | NA | NA | 5 |\n| 2006-02-11 07:32:02 | 0 | 0 | 0 | 1.139643e+12 |  NA | -56.0 | -52 | -66 | -67 | -68.0 | -69.0 | -80.00000 | -83 | NA | NA | NA | 4 |\n| 2006-02-11 07:32:02 | 0 | 0 | 0 | 1.139643e+12 | -42 | -57.0 | -50 | -71 | -64 | -66.5 | -65.0 | -79.25000 | -83 | NA | NA | NA | 3 |\n| 2006-02-11 07:32:02 | 0 | 0 | 0 | 1.139643e+12 |  NA | -55.0 | -51 |  NA | -67 | -66.0 | -65.0 |        NA | -88 | NA | NA | NA | 6 |\n| 2006-02-11 07:32:03 | 0 | 0 | 0 | 1.139643e+12 | -39 | -57.0 | -50 |  NA | -68 | -67.0 | -66.0 | -80.00000 | -83 | NA | NA | NA | 4 |\n| 2006-02-11 07:32:03 | 0 | 0 | 0 | 1.139643e+12 | -38 |    NA | -51 |  NA | -65 | -67.0 | -68.0 | -78.00000 | -83 | NA | NA | NA | 5 |\n| 2006-02-11 07:32:03 | 0 | 0 | 0 | 1.139643e+12 | -38 | -58.0 | -52 |  NA | -65 |    NA | -68.0 |        NA | -91 | NA | NA | NA | 6 |\n| 2006-02-11 07:32:03 | 0 | 0 | 0 | 1.139643e+12 | -39 |    NA | -51 |  NA | -63 | -66.0 | -67.0 | -79.00000 | -89 | NA | NA | NA | 5 |\n| 2006-02-11 07:32:04 | 0 | 0 | 0 | 1.139643e+12 |  NA | -55.0 | -50 | -65 | -65 | -67.0 | -66.0 |        NA | -83 | NA | NA | NA | 5 |\n| 2006-02-11 07:32:04 | 0 | 0 | 0 | 1.139643e+12 | -38 | -56.0 | -53 | -64 | -68 | -79.0 | -66.0 | -79.33333 | -90 | NA | NA | NA | 3 |\n| 2006-02-11 07:32:04 | 0 | 0 | 0 | 1.139643e+12 |  NA | -59.0 | -50 |  NA | -64 | -65.0 | -68.0 |        NA | -83 | NA | NA | NA | 6 |\n| 2006-02-11 07:32:04 | 0 | 0 | 0 | 1.139643e+12 | -38 | -59.0 | -51 |  NA | -65 | -66.0 | -67.0 |        NA | -83 | NA | NA | NA | 5 |\n| 2006-02-11 07:32:05 | 0 | 0 | 0 | 1.139643e+12 | -37 | -61.0 | -52 | -66 | -64 | -66.0 | -67.5 |        NA | -90 | NA | NA | NA | 4 |\n| 2006-02-11 07:32:05 | 0 | 0 | 0 | 1.139643e+12 | -37 | -57.5 | -52 | -66 | -62 | -66.0 | -66.0 |        NA | -82 | NA | NA | NA | 4 |\n| 2006-02-11 07:32:05 | 0 | 0 | 0 | 1.139643e+12 | -37 | -54.0 | -51 | -66 |  NA | -64.0 | -72.0 | -79.00000 | -83 | NA | NA | NA | 4 |\n| 2006-02-11 07:32:05 | 0 | 0 | 0 | 1.139643e+12 | -37 | -57.0 | -51 | -66 | -62 | -66.0 | -71.0 |        NA | -83 | NA | NA | NA | 4 |\n| ⋮ | ⋮ | ⋮ | ⋮ | ⋮ | ⋮ | ⋮ | ⋮ | ⋮ | ⋮ | ⋮ | ⋮ | ⋮ | ⋮ | ⋮ | ⋮ | ⋮ | ⋮ |\n| 2006-03-09 20:41:03 | 20 | 8 | 315.7 | 1.141937e+12 | -60 |  NA | -52 |    NA | -58 | -54 | -78 | NA | NA | NA | NA | NA | 7 |\n| 2006-03-09 20:41:03 | 20 | 8 | 315.7 | 1.141937e+12 |  NA | -68 | -54 |    NA | -63 | -53 | -78 | NA | NA | NA | NA | NA | 7 |\n| 2006-03-09 20:41:03 | 20 | 8 | 315.7 | 1.141937e+12 |  NA | -69 | -53 |    NA | -59 | -51 | -78 | NA | NA | NA | NA | NA | 7 |\n| 2006-03-09 20:41:03 | 20 | 8 | 315.7 | 1.141937e+12 | -60 |  NA | -54 | -56.0 | -60 | -57 | -78 | NA | NA | NA | NA | NA | 6 |\n| 2006-03-09 20:41:04 | 20 | 8 | 315.7 | 1.141937e+12 | -60 | -75 | -53 | -56.0 | -63 | -54 | -77 | NA | NA | NA | NA | NA | 5 |\n| 2006-03-09 20:41:04 | 20 | 8 | 315.7 | 1.141937e+12 | -60 | -68 | -51 | -61.0 |  NA | -53 | -77 | NA | NA | NA | NA | NA | 6 |\n| 2006-03-09 20:41:04 | 20 | 8 | 315.7 | 1.141937e+12 | -70 | -77 | -51 | -59.0 | -60 | -55 | -78 | NA | NA | NA | NA | NA | 5 |\n| 2006-03-09 20:41:04 | 20 | 8 | 315.7 | 1.141937e+12 | -60 | -78 | -53 | -62.0 |  NA | -55 | -78 | NA | NA | NA | NA | NA | 6 |\n| 2006-03-09 20:41:05 | 20 | 8 | 315.7 | 1.141937e+12 | -60 | -78 | -53 | -62.0 |  NA | -57 | -78 | NA | NA | NA | NA | NA | 6 |\n| 2006-03-09 20:41:05 | 20 | 8 | 315.7 | 1.141937e+12 | -59 | -67 | -53 | -60.0 | -63 | -57 | -78 | NA | NA | NA | NA | NA | 5 |\n| 2006-03-09 20:41:05 | 20 | 8 | 315.7 | 1.141937e+12 | -60 |  NA | -53 | -57.0 |  NA | -56 | -78 | NA | NA | NA | NA | NA | 7 |\n| 2006-03-09 20:41:05 | 20 | 8 | 315.7 | 1.141937e+12 | -60 | -69 | -53 | -59.0 | -59 | -57 | -77 | NA | NA | NA | NA | NA | 5 |\n| 2006-03-09 20:41:06 | 20 | 8 | 315.7 | 1.141937e+12 | -61 | -69 | -54 | -61.0 | -58 | -52 | -77 | NA | NA | NA | NA | NA | 5 |\n| 2006-03-09 20:41:06 | 20 | 8 | 315.7 | 1.141937e+12 | -60 | -69 | -54 | -60.0 | -57 | -58 | -76 | NA | NA | NA | NA | NA | 5 |\n| 2006-03-09 20:41:06 | 20 | 8 | 315.7 | 1.141937e+12 | -61 | -69 | -54 | -56.0 | -62 | -57 | -77 | NA | NA | NA | NA | NA | 5 |\n| 2006-03-09 20:41:06 | 20 | 8 | 315.7 | 1.141937e+12 | -58 | -68 | -53 | -57.0 | -58 |  NA | -76 | NA | NA | NA | NA | NA | 6 |\n| 2006-03-09 20:41:07 | 20 | 8 | 315.7 | 1.141937e+12 | -61 | -68 | -53 | -61.0 |  NA | -57 | -77 | NA | NA | NA | NA | NA | 6 |\n| 2006-03-09 20:41:07 | 20 | 8 | 315.7 | 1.141937e+12 |  NA | -69 | -53 | -62.0 | -60 |  NA | -77 | NA | NA | NA | NA | NA | 7 |\n| 2006-03-09 20:41:07 | 20 | 8 | 315.7 | 1.141937e+12 | -59 | -78 | -53 | -61.5 |  NA | -57 | -76 | NA | NA | NA | NA | NA | 6 |\n| 2006-03-09 20:41:07 | 20 | 8 | 315.7 | 1.141937e+12 | -60 | -69 | -53 | -57.0 | -61 |  NA | -78 | NA | NA | NA | NA | NA | 6 |\n| 2006-03-09 20:41:08 | 20 | 8 | 315.7 | 1.141937e+12 |  NA | -68 | -54 | -61.0 | -59 | -57 | -77 | NA | NA | NA | NA | NA | 6 |\n| 2006-03-09 20:41:08 | 20 | 8 | 315.7 | 1.141937e+12 |  NA | -69 | -54 | -61.0 | -60 |  NA | -77 | NA | NA | NA | NA | NA | 7 |\n| 2006-03-09 20:41:08 | 20 | 8 | 315.7 | 1.141937e+12 | -59 | -68 | -54 | -62.0 | -62 | -56 | -77 | NA | NA | NA | NA | NA | 5 |\n| 2006-03-09 20:41:08 | 20 | 8 | 315.7 | 1.141937e+12 |  NA | -68 | -54 | -56.0 | -58 | -52 | -77 | NA | NA | NA | NA | NA | 6 |\n| 2006-03-09 20:41:09 | 20 | 8 | 315.7 | 1.141937e+12 |  NA | -69 | -53 | -61.0 | -60 | -57 | -77 | NA | NA | NA | NA | NA | 6 |\n| 2006-03-09 20:41:09 | 20 | 8 | 315.7 | 1.141937e+12 | -60 | -69 | -51 | -56.0 |  NA |  NA | -76 | NA | NA | NA | NA | NA | 7 |\n| 2006-03-09 20:41:09 | 20 | 8 | 315.7 | 1.141937e+12 | -61 |  NA | -53 | -62.0 | -58 | -52 | -77 | NA | NA | NA | NA | NA | 6 |\n| 2006-03-09 20:41:09 | 20 | 8 | 315.7 | 1.141937e+12 | -60 | -69 | -54 | -56.0 | -62 | -58 | -77 | NA | NA | NA | NA | NA | 5 |\n| 2006-03-09 20:41:10 | 20 | 8 | 315.7 | 1.141937e+12 | -61 |  NA | -53 | -62.0 | -60 | -51 | -77 | NA | NA | NA | NA | NA | 6 |\n| 2006-03-09 20:41:10 | 20 | 8 | 315.7 | 1.141937e+12 | -60 | -68 | -53 | -61.0 | -60 | -56 | -76 | NA | NA | NA | NA | NA | 5 |\n\n",
            "text/html": [
              "<table>\n",
              "<caption>A tibble: 146074 × 18</caption>\n",
              "<thead>\n",
              "\t<tr><th scope=col>time</th><th scope=col>posX</th><th scope=col>posY</th><th scope=col>orientation</th><th scope=col>rawTime</th><th scope=col>00:14:bf:b1:97:8a</th><th scope=col>00:14:bf:b1:97:90</th><th scope=col>00:0f:a3:39:e1:c0</th><th scope=col>00:14:bf:b1:97:8d</th><th scope=col>00:14:bf:b1:97:81</th><th scope=col>00:14:bf:3b:c7:c6</th><th scope=col>00:0f:a3:39:dd:cd</th><th scope=col>00:0f:a3:39:e0:4b</th><th scope=col>00:0f:a3:39:e2:10</th><th scope=col>00:04:0e:5c:23:fc</th><th scope=col>00:30:bd:f8:7f:c5</th><th scope=col>00:e0:63:82:8b:a9</th><th scope=col>nas</th></tr>\n",
              "\t<tr><th scope=col>&lt;dttm&gt;</th><th scope=col>&lt;dbl&gt;</th><th scope=col>&lt;dbl&gt;</th><th scope=col>&lt;dbl&gt;</th><th scope=col>&lt;dbl&gt;</th><th scope=col>&lt;dbl&gt;</th><th scope=col>&lt;dbl&gt;</th><th scope=col>&lt;dbl&gt;</th><th scope=col>&lt;dbl&gt;</th><th scope=col>&lt;dbl&gt;</th><th scope=col>&lt;dbl&gt;</th><th scope=col>&lt;dbl&gt;</th><th scope=col>&lt;dbl&gt;</th><th scope=col>&lt;dbl&gt;</th><th scope=col>&lt;dbl&gt;</th><th scope=col>&lt;dbl&gt;</th><th scope=col>&lt;dbl&gt;</th><th scope=col>&lt;dbl&gt;</th></tr>\n",
              "</thead>\n",
              "<tbody>\n",
              "\t<tr><td>2006-02-11 07:31:58</td><td>0</td><td>0</td><td>0</td><td>1.139643e+12</td><td>-38</td><td>-56.0</td><td>-53</td><td>-65</td><td>-65</td><td>-66.0</td><td>-75.0</td><td>-78.00000</td><td>-87</td><td>NA</td><td>NA</td><td>NA</td><td>3</td></tr>\n",
              "\t<tr><td>2006-02-11 07:31:58</td><td>0</td><td>0</td><td>0</td><td>1.139643e+12</td><td>-38</td><td>-56.0</td><td>-54</td><td>-70</td><td>-66</td><td>-67.0</td><td>-73.0</td><td>-79.00000</td><td>-83</td><td>NA</td><td>NA</td><td>NA</td><td>3</td></tr>\n",
              "\t<tr><td>2006-02-11 07:31:59</td><td>0</td><td>0</td><td>0</td><td>1.139643e+12</td><td>-38</td><td>-57.0</td><td>-54</td><td>-70</td><td>-66</td><td>-69.0</td><td>-65.0</td><td>-78.00000</td><td>-83</td><td>NA</td><td>NA</td><td>NA</td><td>3</td></tr>\n",
              "\t<tr><td>2006-02-11 07:31:59</td><td>0</td><td>0</td><td>0</td><td>1.139643e+12</td><td>-38</td><td>-52.0</td><td>-54</td><td>-74</td><td>-64</td><td>-68.0</td><td>-78.0</td><td>-78.00000</td><td>-83</td><td>NA</td><td>NA</td><td>NA</td><td>3</td></tr>\n",
              "\t<tr><td>2006-02-11 07:31:59</td><td>0</td><td>0</td><td>0</td><td>1.139643e+12</td><td>-46</td><td>-57.0</td><td>-55</td><td> NA</td><td>-66</td><td>-67.0</td><td>-66.0</td><td>-80.00000</td><td>-83</td><td>NA</td><td>NA</td><td>NA</td><td>4</td></tr>\n",
              "\t<tr><td>2006-02-11 07:31:59</td><td>0</td><td>0</td><td>0</td><td>1.139643e+12</td><td>-37</td><td>   NA</td><td>-54</td><td>-67</td><td>-65</td><td>-67.0</td><td>-67.0</td><td>-79.00000</td><td>-89</td><td>NA</td><td>NA</td><td>NA</td><td>4</td></tr>\n",
              "\t<tr><td>2006-02-11 07:32:00</td><td>0</td><td>0</td><td>0</td><td>1.139643e+12</td><td>-38</td><td>-56.0</td><td>-54</td><td>-72</td><td>-65</td><td>   NA</td><td>-73.0</td><td>-78.00000</td><td>-89</td><td>NA</td><td>NA</td><td>NA</td><td>4</td></tr>\n",
              "\t<tr><td>2006-02-11 07:32:00</td><td>0</td><td>0</td><td>0</td><td>1.139643e+12</td><td> NA</td><td>-55.0</td><td>-55</td><td>-67</td><td>-65</td><td>-65.0</td><td>-68.0</td><td>-79.00000</td><td>-90</td><td>NA</td><td>NA</td><td>NA</td><td>4</td></tr>\n",
              "\t<tr><td>2006-02-11 07:32:00</td><td>0</td><td>0</td><td>0</td><td>1.139643e+12</td><td>-46</td><td>-57.0</td><td>-55</td><td>-71</td><td>-64</td><td>-69.0</td><td>-66.0</td><td>-79.00000</td><td>-83</td><td>NA</td><td>NA</td><td>NA</td><td>3</td></tr>\n",
              "\t<tr><td>2006-02-11 07:32:00</td><td>0</td><td>0</td><td>0</td><td>1.139643e+12</td><td>-39</td><td>-57.0</td><td>-53</td><td>-66</td><td>-66</td><td>-66.0</td><td>-66.0</td><td>-80.00000</td><td>-83</td><td>NA</td><td>NA</td><td>NA</td><td>3</td></tr>\n",
              "\t<tr><td>2006-02-11 07:32:01</td><td>0</td><td>0</td><td>0</td><td>1.139643e+12</td><td>-43</td><td>-56.0</td><td>-50</td><td>-65</td><td>-66</td><td>-63.0</td><td>-68.0</td><td>-79.00000</td><td>-83</td><td>NA</td><td>NA</td><td>NA</td><td>3</td></tr>\n",
              "\t<tr><td>2006-02-11 07:32:01</td><td>0</td><td>0</td><td>0</td><td>1.139643e+12</td><td> NA</td><td>-56.0</td><td>-51</td><td>-66</td><td>-66</td><td>-66.0</td><td>-67.0</td><td>-79.00000</td><td>-89</td><td>NA</td><td>NA</td><td>NA</td><td>4</td></tr>\n",
              "\t<tr><td>2006-02-11 07:32:01</td><td>0</td><td>0</td><td>0</td><td>1.139643e+12</td><td> NA</td><td>-56.0</td><td>-51</td><td>-66</td><td>-65</td><td>-67.0</td><td>-70.0</td><td>-79.00000</td><td>-90</td><td>NA</td><td>NA</td><td>NA</td><td>4</td></tr>\n",
              "\t<tr><td>2006-02-11 07:32:01</td><td>0</td><td>0</td><td>0</td><td>1.139643e+12</td><td>-43</td><td>-55.0</td><td>-51</td><td>-66</td><td>-61</td><td>   NA</td><td>-71.0</td><td>-80.00000</td><td>-84</td><td>NA</td><td>NA</td><td>NA</td><td>4</td></tr>\n",
              "\t<tr><td>2006-02-11 07:32:02</td><td>0</td><td>0</td><td>0</td><td>1.139643e+12</td><td> NA</td><td>   NA</td><td>-51</td><td>-66</td><td>-65</td><td>-68.0</td><td>-66.0</td><td>-79.00000</td><td>-83</td><td>NA</td><td>NA</td><td>NA</td><td>5</td></tr>\n",
              "\t<tr><td>2006-02-11 07:32:02</td><td>0</td><td>0</td><td>0</td><td>1.139643e+12</td><td> NA</td><td>-56.0</td><td>-52</td><td>-66</td><td>-67</td><td>-68.0</td><td>-69.0</td><td>-80.00000</td><td>-83</td><td>NA</td><td>NA</td><td>NA</td><td>4</td></tr>\n",
              "\t<tr><td>2006-02-11 07:32:02</td><td>0</td><td>0</td><td>0</td><td>1.139643e+12</td><td>-42</td><td>-57.0</td><td>-50</td><td>-71</td><td>-64</td><td>-66.5</td><td>-65.0</td><td>-79.25000</td><td>-83</td><td>NA</td><td>NA</td><td>NA</td><td>3</td></tr>\n",
              "\t<tr><td>2006-02-11 07:32:02</td><td>0</td><td>0</td><td>0</td><td>1.139643e+12</td><td> NA</td><td>-55.0</td><td>-51</td><td> NA</td><td>-67</td><td>-66.0</td><td>-65.0</td><td>       NA</td><td>-88</td><td>NA</td><td>NA</td><td>NA</td><td>6</td></tr>\n",
              "\t<tr><td>2006-02-11 07:32:03</td><td>0</td><td>0</td><td>0</td><td>1.139643e+12</td><td>-39</td><td>-57.0</td><td>-50</td><td> NA</td><td>-68</td><td>-67.0</td><td>-66.0</td><td>-80.00000</td><td>-83</td><td>NA</td><td>NA</td><td>NA</td><td>4</td></tr>\n",
              "\t<tr><td>2006-02-11 07:32:03</td><td>0</td><td>0</td><td>0</td><td>1.139643e+12</td><td>-38</td><td>   NA</td><td>-51</td><td> NA</td><td>-65</td><td>-67.0</td><td>-68.0</td><td>-78.00000</td><td>-83</td><td>NA</td><td>NA</td><td>NA</td><td>5</td></tr>\n",
              "\t<tr><td>2006-02-11 07:32:03</td><td>0</td><td>0</td><td>0</td><td>1.139643e+12</td><td>-38</td><td>-58.0</td><td>-52</td><td> NA</td><td>-65</td><td>   NA</td><td>-68.0</td><td>       NA</td><td>-91</td><td>NA</td><td>NA</td><td>NA</td><td>6</td></tr>\n",
              "\t<tr><td>2006-02-11 07:32:03</td><td>0</td><td>0</td><td>0</td><td>1.139643e+12</td><td>-39</td><td>   NA</td><td>-51</td><td> NA</td><td>-63</td><td>-66.0</td><td>-67.0</td><td>-79.00000</td><td>-89</td><td>NA</td><td>NA</td><td>NA</td><td>5</td></tr>\n",
              "\t<tr><td>2006-02-11 07:32:04</td><td>0</td><td>0</td><td>0</td><td>1.139643e+12</td><td> NA</td><td>-55.0</td><td>-50</td><td>-65</td><td>-65</td><td>-67.0</td><td>-66.0</td><td>       NA</td><td>-83</td><td>NA</td><td>NA</td><td>NA</td><td>5</td></tr>\n",
              "\t<tr><td>2006-02-11 07:32:04</td><td>0</td><td>0</td><td>0</td><td>1.139643e+12</td><td>-38</td><td>-56.0</td><td>-53</td><td>-64</td><td>-68</td><td>-79.0</td><td>-66.0</td><td>-79.33333</td><td>-90</td><td>NA</td><td>NA</td><td>NA</td><td>3</td></tr>\n",
              "\t<tr><td>2006-02-11 07:32:04</td><td>0</td><td>0</td><td>0</td><td>1.139643e+12</td><td> NA</td><td>-59.0</td><td>-50</td><td> NA</td><td>-64</td><td>-65.0</td><td>-68.0</td><td>       NA</td><td>-83</td><td>NA</td><td>NA</td><td>NA</td><td>6</td></tr>\n",
              "\t<tr><td>2006-02-11 07:32:04</td><td>0</td><td>0</td><td>0</td><td>1.139643e+12</td><td>-38</td><td>-59.0</td><td>-51</td><td> NA</td><td>-65</td><td>-66.0</td><td>-67.0</td><td>       NA</td><td>-83</td><td>NA</td><td>NA</td><td>NA</td><td>5</td></tr>\n",
              "\t<tr><td>2006-02-11 07:32:05</td><td>0</td><td>0</td><td>0</td><td>1.139643e+12</td><td>-37</td><td>-61.0</td><td>-52</td><td>-66</td><td>-64</td><td>-66.0</td><td>-67.5</td><td>       NA</td><td>-90</td><td>NA</td><td>NA</td><td>NA</td><td>4</td></tr>\n",
              "\t<tr><td>2006-02-11 07:32:05</td><td>0</td><td>0</td><td>0</td><td>1.139643e+12</td><td>-37</td><td>-57.5</td><td>-52</td><td>-66</td><td>-62</td><td>-66.0</td><td>-66.0</td><td>       NA</td><td>-82</td><td>NA</td><td>NA</td><td>NA</td><td>4</td></tr>\n",
              "\t<tr><td>2006-02-11 07:32:05</td><td>0</td><td>0</td><td>0</td><td>1.139643e+12</td><td>-37</td><td>-54.0</td><td>-51</td><td>-66</td><td> NA</td><td>-64.0</td><td>-72.0</td><td>-79.00000</td><td>-83</td><td>NA</td><td>NA</td><td>NA</td><td>4</td></tr>\n",
              "\t<tr><td>2006-02-11 07:32:05</td><td>0</td><td>0</td><td>0</td><td>1.139643e+12</td><td>-37</td><td>-57.0</td><td>-51</td><td>-66</td><td>-62</td><td>-66.0</td><td>-71.0</td><td>       NA</td><td>-83</td><td>NA</td><td>NA</td><td>NA</td><td>4</td></tr>\n",
              "\t<tr><td>⋮</td><td>⋮</td><td>⋮</td><td>⋮</td><td>⋮</td><td>⋮</td><td>⋮</td><td>⋮</td><td>⋮</td><td>⋮</td><td>⋮</td><td>⋮</td><td>⋮</td><td>⋮</td><td>⋮</td><td>⋮</td><td>⋮</td><td>⋮</td></tr>\n",
              "\t<tr><td>2006-03-09 20:41:03</td><td>20</td><td>8</td><td>315.7</td><td>1.141937e+12</td><td>-60</td><td> NA</td><td>-52</td><td>   NA</td><td>-58</td><td>-54</td><td>-78</td><td>NA</td><td>NA</td><td>NA</td><td>NA</td><td>NA</td><td>7</td></tr>\n",
              "\t<tr><td>2006-03-09 20:41:03</td><td>20</td><td>8</td><td>315.7</td><td>1.141937e+12</td><td> NA</td><td>-68</td><td>-54</td><td>   NA</td><td>-63</td><td>-53</td><td>-78</td><td>NA</td><td>NA</td><td>NA</td><td>NA</td><td>NA</td><td>7</td></tr>\n",
              "\t<tr><td>2006-03-09 20:41:03</td><td>20</td><td>8</td><td>315.7</td><td>1.141937e+12</td><td> NA</td><td>-69</td><td>-53</td><td>   NA</td><td>-59</td><td>-51</td><td>-78</td><td>NA</td><td>NA</td><td>NA</td><td>NA</td><td>NA</td><td>7</td></tr>\n",
              "\t<tr><td>2006-03-09 20:41:03</td><td>20</td><td>8</td><td>315.7</td><td>1.141937e+12</td><td>-60</td><td> NA</td><td>-54</td><td>-56.0</td><td>-60</td><td>-57</td><td>-78</td><td>NA</td><td>NA</td><td>NA</td><td>NA</td><td>NA</td><td>6</td></tr>\n",
              "\t<tr><td>2006-03-09 20:41:04</td><td>20</td><td>8</td><td>315.7</td><td>1.141937e+12</td><td>-60</td><td>-75</td><td>-53</td><td>-56.0</td><td>-63</td><td>-54</td><td>-77</td><td>NA</td><td>NA</td><td>NA</td><td>NA</td><td>NA</td><td>5</td></tr>\n",
              "\t<tr><td>2006-03-09 20:41:04</td><td>20</td><td>8</td><td>315.7</td><td>1.141937e+12</td><td>-60</td><td>-68</td><td>-51</td><td>-61.0</td><td> NA</td><td>-53</td><td>-77</td><td>NA</td><td>NA</td><td>NA</td><td>NA</td><td>NA</td><td>6</td></tr>\n",
              "\t<tr><td>2006-03-09 20:41:04</td><td>20</td><td>8</td><td>315.7</td><td>1.141937e+12</td><td>-70</td><td>-77</td><td>-51</td><td>-59.0</td><td>-60</td><td>-55</td><td>-78</td><td>NA</td><td>NA</td><td>NA</td><td>NA</td><td>NA</td><td>5</td></tr>\n",
              "\t<tr><td>2006-03-09 20:41:04</td><td>20</td><td>8</td><td>315.7</td><td>1.141937e+12</td><td>-60</td><td>-78</td><td>-53</td><td>-62.0</td><td> NA</td><td>-55</td><td>-78</td><td>NA</td><td>NA</td><td>NA</td><td>NA</td><td>NA</td><td>6</td></tr>\n",
              "\t<tr><td>2006-03-09 20:41:05</td><td>20</td><td>8</td><td>315.7</td><td>1.141937e+12</td><td>-60</td><td>-78</td><td>-53</td><td>-62.0</td><td> NA</td><td>-57</td><td>-78</td><td>NA</td><td>NA</td><td>NA</td><td>NA</td><td>NA</td><td>6</td></tr>\n",
              "\t<tr><td>2006-03-09 20:41:05</td><td>20</td><td>8</td><td>315.7</td><td>1.141937e+12</td><td>-59</td><td>-67</td><td>-53</td><td>-60.0</td><td>-63</td><td>-57</td><td>-78</td><td>NA</td><td>NA</td><td>NA</td><td>NA</td><td>NA</td><td>5</td></tr>\n",
              "\t<tr><td>2006-03-09 20:41:05</td><td>20</td><td>8</td><td>315.7</td><td>1.141937e+12</td><td>-60</td><td> NA</td><td>-53</td><td>-57.0</td><td> NA</td><td>-56</td><td>-78</td><td>NA</td><td>NA</td><td>NA</td><td>NA</td><td>NA</td><td>7</td></tr>\n",
              "\t<tr><td>2006-03-09 20:41:05</td><td>20</td><td>8</td><td>315.7</td><td>1.141937e+12</td><td>-60</td><td>-69</td><td>-53</td><td>-59.0</td><td>-59</td><td>-57</td><td>-77</td><td>NA</td><td>NA</td><td>NA</td><td>NA</td><td>NA</td><td>5</td></tr>\n",
              "\t<tr><td>2006-03-09 20:41:06</td><td>20</td><td>8</td><td>315.7</td><td>1.141937e+12</td><td>-61</td><td>-69</td><td>-54</td><td>-61.0</td><td>-58</td><td>-52</td><td>-77</td><td>NA</td><td>NA</td><td>NA</td><td>NA</td><td>NA</td><td>5</td></tr>\n",
              "\t<tr><td>2006-03-09 20:41:06</td><td>20</td><td>8</td><td>315.7</td><td>1.141937e+12</td><td>-60</td><td>-69</td><td>-54</td><td>-60.0</td><td>-57</td><td>-58</td><td>-76</td><td>NA</td><td>NA</td><td>NA</td><td>NA</td><td>NA</td><td>5</td></tr>\n",
              "\t<tr><td>2006-03-09 20:41:06</td><td>20</td><td>8</td><td>315.7</td><td>1.141937e+12</td><td>-61</td><td>-69</td><td>-54</td><td>-56.0</td><td>-62</td><td>-57</td><td>-77</td><td>NA</td><td>NA</td><td>NA</td><td>NA</td><td>NA</td><td>5</td></tr>\n",
              "\t<tr><td>2006-03-09 20:41:06</td><td>20</td><td>8</td><td>315.7</td><td>1.141937e+12</td><td>-58</td><td>-68</td><td>-53</td><td>-57.0</td><td>-58</td><td> NA</td><td>-76</td><td>NA</td><td>NA</td><td>NA</td><td>NA</td><td>NA</td><td>6</td></tr>\n",
              "\t<tr><td>2006-03-09 20:41:07</td><td>20</td><td>8</td><td>315.7</td><td>1.141937e+12</td><td>-61</td><td>-68</td><td>-53</td><td>-61.0</td><td> NA</td><td>-57</td><td>-77</td><td>NA</td><td>NA</td><td>NA</td><td>NA</td><td>NA</td><td>6</td></tr>\n",
              "\t<tr><td>2006-03-09 20:41:07</td><td>20</td><td>8</td><td>315.7</td><td>1.141937e+12</td><td> NA</td><td>-69</td><td>-53</td><td>-62.0</td><td>-60</td><td> NA</td><td>-77</td><td>NA</td><td>NA</td><td>NA</td><td>NA</td><td>NA</td><td>7</td></tr>\n",
              "\t<tr><td>2006-03-09 20:41:07</td><td>20</td><td>8</td><td>315.7</td><td>1.141937e+12</td><td>-59</td><td>-78</td><td>-53</td><td>-61.5</td><td> NA</td><td>-57</td><td>-76</td><td>NA</td><td>NA</td><td>NA</td><td>NA</td><td>NA</td><td>6</td></tr>\n",
              "\t<tr><td>2006-03-09 20:41:07</td><td>20</td><td>8</td><td>315.7</td><td>1.141937e+12</td><td>-60</td><td>-69</td><td>-53</td><td>-57.0</td><td>-61</td><td> NA</td><td>-78</td><td>NA</td><td>NA</td><td>NA</td><td>NA</td><td>NA</td><td>6</td></tr>\n",
              "\t<tr><td>2006-03-09 20:41:08</td><td>20</td><td>8</td><td>315.7</td><td>1.141937e+12</td><td> NA</td><td>-68</td><td>-54</td><td>-61.0</td><td>-59</td><td>-57</td><td>-77</td><td>NA</td><td>NA</td><td>NA</td><td>NA</td><td>NA</td><td>6</td></tr>\n",
              "\t<tr><td>2006-03-09 20:41:08</td><td>20</td><td>8</td><td>315.7</td><td>1.141937e+12</td><td> NA</td><td>-69</td><td>-54</td><td>-61.0</td><td>-60</td><td> NA</td><td>-77</td><td>NA</td><td>NA</td><td>NA</td><td>NA</td><td>NA</td><td>7</td></tr>\n",
              "\t<tr><td>2006-03-09 20:41:08</td><td>20</td><td>8</td><td>315.7</td><td>1.141937e+12</td><td>-59</td><td>-68</td><td>-54</td><td>-62.0</td><td>-62</td><td>-56</td><td>-77</td><td>NA</td><td>NA</td><td>NA</td><td>NA</td><td>NA</td><td>5</td></tr>\n",
              "\t<tr><td>2006-03-09 20:41:08</td><td>20</td><td>8</td><td>315.7</td><td>1.141937e+12</td><td> NA</td><td>-68</td><td>-54</td><td>-56.0</td><td>-58</td><td>-52</td><td>-77</td><td>NA</td><td>NA</td><td>NA</td><td>NA</td><td>NA</td><td>6</td></tr>\n",
              "\t<tr><td>2006-03-09 20:41:09</td><td>20</td><td>8</td><td>315.7</td><td>1.141937e+12</td><td> NA</td><td>-69</td><td>-53</td><td>-61.0</td><td>-60</td><td>-57</td><td>-77</td><td>NA</td><td>NA</td><td>NA</td><td>NA</td><td>NA</td><td>6</td></tr>\n",
              "\t<tr><td>2006-03-09 20:41:09</td><td>20</td><td>8</td><td>315.7</td><td>1.141937e+12</td><td>-60</td><td>-69</td><td>-51</td><td>-56.0</td><td> NA</td><td> NA</td><td>-76</td><td>NA</td><td>NA</td><td>NA</td><td>NA</td><td>NA</td><td>7</td></tr>\n",
              "\t<tr><td>2006-03-09 20:41:09</td><td>20</td><td>8</td><td>315.7</td><td>1.141937e+12</td><td>-61</td><td> NA</td><td>-53</td><td>-62.0</td><td>-58</td><td>-52</td><td>-77</td><td>NA</td><td>NA</td><td>NA</td><td>NA</td><td>NA</td><td>6</td></tr>\n",
              "\t<tr><td>2006-03-09 20:41:09</td><td>20</td><td>8</td><td>315.7</td><td>1.141937e+12</td><td>-60</td><td>-69</td><td>-54</td><td>-56.0</td><td>-62</td><td>-58</td><td>-77</td><td>NA</td><td>NA</td><td>NA</td><td>NA</td><td>NA</td><td>5</td></tr>\n",
              "\t<tr><td>2006-03-09 20:41:10</td><td>20</td><td>8</td><td>315.7</td><td>1.141937e+12</td><td>-61</td><td> NA</td><td>-53</td><td>-62.0</td><td>-60</td><td>-51</td><td>-77</td><td>NA</td><td>NA</td><td>NA</td><td>NA</td><td>NA</td><td>6</td></tr>\n",
              "\t<tr><td>2006-03-09 20:41:10</td><td>20</td><td>8</td><td>315.7</td><td>1.141937e+12</td><td>-60</td><td>-68</td><td>-53</td><td>-61.0</td><td>-60</td><td>-56</td><td>-76</td><td>NA</td><td>NA</td><td>NA</td><td>NA</td><td>NA</td><td>5</td></tr>\n",
              "</tbody>\n",
              "</table>\n"
            ]
          },
          "metadata": {
            "tags": []
          }
        }
      ]
    },
    {
      "cell_type": "markdown",
      "metadata": {
        "id": "UxitlFj-yEsp",
        "colab_type": "text"
      },
      "source": [
        "### Now Let's Clean the Online Data"
      ]
    },
    {
      "cell_type": "code",
      "metadata": {
        "id": "JS--Lpe0yH8F",
        "colab_type": "code",
        "colab": {}
      },
      "source": [
        "onlinetxt = readLines(\"http://rdatasciencecases.org/Data/online.final.trace.txt\")"
      ],
      "execution_count": 0,
      "outputs": []
    },
    {
      "cell_type": "code",
      "metadata": {
        "id": "5Yh24h0EyN5w",
        "colab_type": "code",
        "colab": {
          "base_uri": "https://localhost:8080/",
          "height": 103
        },
        "outputId": "7e8f8df6-de06-4846-e94b-08b75b3cd1f6"
      },
      "source": [
        "head(onlinetxt)"
      ],
      "execution_count": 42,
      "outputs": [
        {
          "output_type": "display_data",
          "data": {
            "text/plain": [
              "[1] \"# timestamp=2006-02-11 22:14:37\"                                                                                                                                                                                                                                                                                                                                                                                                                                    \n",
              "[2] \"# usec=250\"                                                                                                                                                                                                                                                                                                                                                                                                                                                         \n",
              "[3] \"# minReadings=110\"                                                                                                                                                                                                                                                                                                                                                                                                                                                  \n",
              "[4] \"t=1139692477303;id=00:02:2D:21:0F:33;pos=0.0,0.05,0.0;degree=130.5;00:14:bf:b1:97:8a=-43,2437000000,3;00:0f:a3:39:e1:c0=-52,2462000000,3;00:14:bf:3b:c7:c6=-62,2432000000,3;00:14:bf:b1:97:81=-58,2422000000,3;00:14:bf:b1:97:8d=-62,2442000000,3;00:14:bf:b1:97:90=-57,2427000000,3;00:0f:a3:39:e0:4b=-79,2462000000,3;00:0f:a3:39:e2:10=-88,2437000000,3;00:0f:a3:39:dd:cd=-64,2412000000,3;02:64:fb:68:52:e6=-87,2447000000,1;02:00:42:55:31:00=-85,2457000000,1\"\n",
              "[5] \"t=1139692477555;id=00:02:2D:21:0F:33;pos=0.0,0.05,0.0;degree=130.5;00:14:bf:b1:97:8a=-43,2437000000,3;00:14:bf:b1:97:8a=-43,2437000000,3;00:0f:a3:39:e1:c0=-52,2462000000,3;00:14:bf:b1:97:90=-57,2427000000,3;00:14:bf:b1:97:8d=-64,2442000000,3;00:0f:a3:39:e0:4b=-77,2462000000,3;00:0f:a3:39:dd:cd=-62,2412000000,3;02:00:42:55:31:00=-85,2457000000,1;02:64:fb:68:52:e6=-88,2447000000,1\"                                                                      \n",
              "[6] \"t=1139692477807;id=00:02:2D:21:0F:33;pos=0.0,0.05,0.0;degree=130.5;00:0f:a3:39:e1:c0=-51,2462000000,3;00:14:bf:b1:97:90=-49,2427000000,3;00:14:bf:3b:c7:c6=-62,2432000000,3;00:14:bf:b1:97:8a=-44,2437000000,3;00:14:bf:b1:97:81=-68,2422000000,3;00:0f:a3:39:e0:4b=-75,2462000000,3;00:0f:a3:39:dd:cd=-66,2412000000,3;00:0f:a3:39:e2:10=-90,2437000000,3;02:00:42:55:31:00=-87,2457000000,1\"                                                                      "
            ],
            "text/latex": "\\begin{enumerate*}\n\\item '\\# timestamp=2006-02-11 22:14:37'\n\\item '\\# usec=250'\n\\item '\\# minReadings=110'\n\\item 't=1139692477303;id=00:02:2D:21:0F:33;pos=0.0,0.05,0.0;degree=130.5;00:14:bf:b1:97:8a=-43,2437000000,3;00:0f:a3:39:e1:c0=-52,2462000000,3;00:14:bf:3b:c7:c6=-62,2432000000,3;00:14:bf:b1:97:81=-58,2422000000,3;00:14:bf:b1:97:8d=-62,2442000000,3;00:14:bf:b1:97:90=-57,2427000000,3;00:0f:a3:39:e0:4b=-79,2462000000,3;00:0f:a3:39:e2:10=-88,2437000000,3;00:0f:a3:39:dd:cd=-64,2412000000,3;02:64:fb:68:52:e6=-87,2447000000,1;02:00:42:55:31:00=-85,2457000000,1'\n\\item 't=1139692477555;id=00:02:2D:21:0F:33;pos=0.0,0.05,0.0;degree=130.5;00:14:bf:b1:97:8a=-43,2437000000,3;00:14:bf:b1:97:8a=-43,2437000000,3;00:0f:a3:39:e1:c0=-52,2462000000,3;00:14:bf:b1:97:90=-57,2427000000,3;00:14:bf:b1:97:8d=-64,2442000000,3;00:0f:a3:39:e0:4b=-77,2462000000,3;00:0f:a3:39:dd:cd=-62,2412000000,3;02:00:42:55:31:00=-85,2457000000,1;02:64:fb:68:52:e6=-88,2447000000,1'\n\\item 't=1139692477807;id=00:02:2D:21:0F:33;pos=0.0,0.05,0.0;degree=130.5;00:0f:a3:39:e1:c0=-51,2462000000,3;00:14:bf:b1:97:90=-49,2427000000,3;00:14:bf:3b:c7:c6=-62,2432000000,3;00:14:bf:b1:97:8a=-44,2437000000,3;00:14:bf:b1:97:81=-68,2422000000,3;00:0f:a3:39:e0:4b=-75,2462000000,3;00:0f:a3:39:dd:cd=-66,2412000000,3;00:0f:a3:39:e2:10=-90,2437000000,3;02:00:42:55:31:00=-87,2457000000,1'\n\\end{enumerate*}\n",
            "text/markdown": "1. '# timestamp=2006-02-11 22:14:37'\n2. '# usec=250'\n3. '# minReadings=110'\n4. 't=1139692477303;id=00:02:2D:21:0F:33;pos=0.0,0.05,0.0;degree=130.5;00:14:bf:b1:97:8a=-43,2437000000,3;00:0f:a3:39:e1:c0=-52,2462000000,3;00:14:bf:3b:c7:c6=-62,2432000000,3;00:14:bf:b1:97:81=-58,2422000000,3;00:14:bf:b1:97:8d=-62,2442000000,3;00:14:bf:b1:97:90=-57,2427000000,3;00:0f:a3:39:e0:4b=-79,2462000000,3;00:0f:a3:39:e2:10=-88,2437000000,3;00:0f:a3:39:dd:cd=-64,2412000000,3;02:64:fb:68:52:e6=-87,2447000000,1;02:00:42:55:31:00=-85,2457000000,1'\n5. 't=1139692477555;id=00:02:2D:21:0F:33;pos=0.0,0.05,0.0;degree=130.5;00:14:bf:b1:97:8a=-43,2437000000,3;00:14:bf:b1:97:8a=-43,2437000000,3;00:0f:a3:39:e1:c0=-52,2462000000,3;00:14:bf:b1:97:90=-57,2427000000,3;00:14:bf:b1:97:8d=-64,2442000000,3;00:0f:a3:39:e0:4b=-77,2462000000,3;00:0f:a3:39:dd:cd=-62,2412000000,3;02:00:42:55:31:00=-85,2457000000,1;02:64:fb:68:52:e6=-88,2447000000,1'\n6. 't=1139692477807;id=00:02:2D:21:0F:33;pos=0.0,0.05,0.0;degree=130.5;00:0f:a3:39:e1:c0=-51,2462000000,3;00:14:bf:b1:97:90=-49,2427000000,3;00:14:bf:3b:c7:c6=-62,2432000000,3;00:14:bf:b1:97:8a=-44,2437000000,3;00:14:bf:b1:97:81=-68,2422000000,3;00:0f:a3:39:e0:4b=-75,2462000000,3;00:0f:a3:39:dd:cd=-66,2412000000,3;00:0f:a3:39:e2:10=-90,2437000000,3;02:00:42:55:31:00=-87,2457000000,1'\n\n\n",
            "text/html": [
              "<style>\n",
              ".list-inline {list-style: none; margin:0; padding: 0}\n",
              ".list-inline>li {display: inline-block}\n",
              ".list-inline>li:not(:last-child)::after {content: \"\\00b7\"; padding: 0 .5ex}\n",
              "</style>\n",
              "<ol class=list-inline><li>'# timestamp=2006-02-11 22:14:37'</li><li>'# usec=250'</li><li>'# minReadings=110'</li><li>'t=1139692477303;id=00:02:2D:21:0F:33;pos=0.0,0.05,0.0;degree=130.5;00:14:bf:b1:97:8a=-43,2437000000,3;00:0f:a3:39:e1:c0=-52,2462000000,3;00:14:bf:3b:c7:c6=-62,2432000000,3;00:14:bf:b1:97:81=-58,2422000000,3;00:14:bf:b1:97:8d=-62,2442000000,3;00:14:bf:b1:97:90=-57,2427000000,3;00:0f:a3:39:e0:4b=-79,2462000000,3;00:0f:a3:39:e2:10=-88,2437000000,3;00:0f:a3:39:dd:cd=-64,2412000000,3;02:64:fb:68:52:e6=-87,2447000000,1;02:00:42:55:31:00=-85,2457000000,1'</li><li>'t=1139692477555;id=00:02:2D:21:0F:33;pos=0.0,0.05,0.0;degree=130.5;00:14:bf:b1:97:8a=-43,2437000000,3;00:14:bf:b1:97:8a=-43,2437000000,3;00:0f:a3:39:e1:c0=-52,2462000000,3;00:14:bf:b1:97:90=-57,2427000000,3;00:14:bf:b1:97:8d=-64,2442000000,3;00:0f:a3:39:e0:4b=-77,2462000000,3;00:0f:a3:39:dd:cd=-62,2412000000,3;02:00:42:55:31:00=-85,2457000000,1;02:64:fb:68:52:e6=-88,2447000000,1'</li><li>'t=1139692477807;id=00:02:2D:21:0F:33;pos=0.0,0.05,0.0;degree=130.5;00:0f:a3:39:e1:c0=-51,2462000000,3;00:14:bf:b1:97:90=-49,2427000000,3;00:14:bf:3b:c7:c6=-62,2432000000,3;00:14:bf:b1:97:8a=-44,2437000000,3;00:14:bf:b1:97:81=-68,2422000000,3;00:0f:a3:39:e0:4b=-75,2462000000,3;00:0f:a3:39:dd:cd=-66,2412000000,3;00:0f:a3:39:e2:10=-90,2437000000,3;02:00:42:55:31:00=-87,2457000000,1'</li></ol>\n"
            ]
          },
          "metadata": {
            "tags": []
          }
        }
      ]
    },
    {
      "cell_type": "markdown",
      "metadata": {
        "id": "UqZPd0QzyR_B",
        "colab_type": "text"
      },
      "source": [
        "Use the Substr() function to locate the rows that begin wth a \"#\" so we can tally them. "
      ]
    },
    {
      "cell_type": "code",
      "metadata": {
        "id": "qoPfywr3yPW4",
        "colab_type": "code",
        "colab": {
          "base_uri": "https://localhost:8080/",
          "height": 33
        },
        "outputId": "115076dd-31cd-427c-fdba-9e70ad037a1a"
      },
      "source": [
        "sum(substr(onlinetxt, 1, 1) == '#')"
      ],
      "execution_count": 43,
      "outputs": [
        {
          "output_type": "display_data",
          "data": {
            "text/plain": [
              "[1] 240"
            ],
            "text/latex": "240",
            "text/markdown": "240",
            "text/html": [
              "240"
            ]
          },
          "metadata": {
            "tags": []
          }
        }
      ]
    },
    {
      "cell_type": "code",
      "metadata": {
        "id": "fZ4wYK8A0qOQ",
        "colab_type": "code",
        "colab": {
          "base_uri": "https://localhost:8080/",
          "height": 33
        },
        "outputId": "c36ea9ab-ba7a-480b-a33d-4cd8b82f25fa"
      },
      "source": [
        "length(onlinetxt)"
      ],
      "execution_count": 44,
      "outputs": [
        {
          "output_type": "display_data",
          "data": {
            "text/plain": [
              "[1] 6832"
            ],
            "text/latex": "6832",
            "text/markdown": "6832",
            "text/html": [
              "6832"
            ]
          },
          "metadata": {
            "tags": []
          }
        }
      ]
    },
    {
      "cell_type": "code",
      "metadata": {
        "id": "LPckEmFD0ruj",
        "colab_type": "code",
        "colab": {
          "base_uri": "https://localhost:8080/",
          "height": 34
        },
        "outputId": "540867dd-0248-464d-fa4b-585a4f32ce14"
      },
      "source": [
        "dim(onlinetxt)"
      ],
      "execution_count": 45,
      "outputs": [
        {
          "output_type": "display_data",
          "data": {
            "text/plain": [
              "NULL"
            ]
          },
          "metadata": {
            "tags": []
          }
        }
      ]
    },
    {
      "cell_type": "markdown",
      "metadata": {
        "id": "LZYJ7gJt0zfu",
        "colab_type": "text"
      },
      "source": [
        "split our columns based on the semi colon, brackets, commas and equals signs that appears between them. "
      ]
    },
    {
      "cell_type": "code",
      "metadata": {
        "id": "QzLMWiai0xGB",
        "colab_type": "code",
        "colab": {
          "base_uri": "https://localhost:8080/",
          "height": 33
        },
        "outputId": "19c0ef58-fe2c-4ada-c181-e9163fc84433"
      },
      "source": [
        "test_cleaning = strsplit(onlinetxt[4], \"[;=,]\")[[1]]\n",
        "test_cleaning[1:10]"
      ],
      "execution_count": 46,
      "outputs": [
        {
          "output_type": "display_data",
          "data": {
            "text/plain": [
              " [1] \"t\"                 \"1139692477303\"     \"id\"               \n",
              " [4] \"00:02:2D:21:0F:33\" \"pos\"               \"0.0\"              \n",
              " [7] \"0.05\"              \"0.0\"               \"degree\"           \n",
              "[10] \"130.5\"            "
            ],
            "text/latex": "\\begin{enumerate*}\n\\item 't'\n\\item '1139692477303'\n\\item 'id'\n\\item '00:02:2D:21:0F:33'\n\\item 'pos'\n\\item '0.0'\n\\item '0.05'\n\\item '0.0'\n\\item 'degree'\n\\item '130.5'\n\\end{enumerate*}\n",
            "text/markdown": "1. 't'\n2. '1139692477303'\n3. 'id'\n4. '00:02:2D:21:0F:33'\n5. 'pos'\n6. '0.0'\n7. '0.05'\n8. '0.0'\n9. 'degree'\n10. '130.5'\n\n\n",
            "text/html": [
              "<style>\n",
              ".list-inline {list-style: none; margin:0; padding: 0}\n",
              ".list-inline>li {display: inline-block}\n",
              ".list-inline>li:not(:last-child)::after {content: \"\\00b7\"; padding: 0 .5ex}\n",
              "</style>\n",
              "<ol class=list-inline><li>'t'</li><li>'1139692477303'</li><li>'id'</li><li>'00:02:2D:21:0F:33'</li><li>'pos'</li><li>'0.0'</li><li>'0.05'</li><li>'0.0'</li><li>'degree'</li><li>'130.5'</li></ol>\n"
            ]
          },
          "metadata": {
            "tags": []
          }
        }
      ]
    },
    {
      "cell_type": "markdown",
      "metadata": {
        "id": "MICDDebn3BJR",
        "colab_type": "text"
      },
      "source": [
        "Let's extract the first four variables from our new test cleaning dataset."
      ]
    },
    {
      "cell_type": "code",
      "metadata": {
        "id": "jcLQ0j5V3JLq",
        "colab_type": "code",
        "colab": {
          "base_uri": "https://localhost:8080/",
          "height": 33
        },
        "outputId": "7248d08f-11e1-4499-fb04-2435dbbd4392"
      },
      "source": [
        "test_cleaning[c(2, 4, 6:8, 10)]"
      ],
      "execution_count": 47,
      "outputs": [
        {
          "output_type": "display_data",
          "data": {
            "text/plain": [
              "[1] \"1139692477303\"     \"00:02:2D:21:0F:33\" \"0.0\"              \n",
              "[4] \"0.05\"              \"0.0\"               \"130.5\"            "
            ],
            "text/latex": "\\begin{enumerate*}\n\\item '1139692477303'\n\\item '00:02:2D:21:0F:33'\n\\item '0.0'\n\\item '0.05'\n\\item '0.0'\n\\item '130.5'\n\\end{enumerate*}\n",
            "text/markdown": "1. '1139692477303'\n2. '00:02:2D:21:0F:33'\n3. '0.0'\n4. '0.05'\n5. '0.0'\n6. '130.5'\n\n\n",
            "text/html": [
              "<style>\n",
              ".list-inline {list-style: none; margin:0; padding: 0}\n",
              ".list-inline>li {display: inline-block}\n",
              ".list-inline>li:not(:last-child)::after {content: \"\\00b7\"; padding: 0 .5ex}\n",
              "</style>\n",
              "<ol class=list-inline><li>'1139692477303'</li><li>'00:02:2D:21:0F:33'</li><li>'0.0'</li><li>'0.05'</li><li>'0.0'</li><li>'130.5'</li></ol>\n"
            ]
          },
          "metadata": {
            "tags": []
          }
        }
      ]
    },
    {
      "cell_type": "markdown",
      "metadata": {
        "id": "uoWpsFrN4Wp8",
        "colab_type": "text"
      },
      "source": [
        "Pull out the first four elements of the array. "
      ]
    },
    {
      "cell_type": "code",
      "metadata": {
        "id": "0Kq9fBpE4B7O",
        "colab_type": "code",
        "colab": {
          "base_uri": "https://localhost:8080/",
          "height": 100
        },
        "outputId": "6f07103e-5f06-4edc-f2ee-94f4c42003cb"
      },
      "source": [
        "test_cleaning[ - (1:10)]"
      ],
      "execution_count": 48,
      "outputs": [
        {
          "output_type": "display_data",
          "data": {
            "text/plain": [
              " [1] \"00:14:bf:b1:97:8a\" \"-43\"               \"2437000000\"       \n",
              " [4] \"3\"                 \"00:0f:a3:39:e1:c0\" \"-52\"              \n",
              " [7] \"2462000000\"        \"3\"                 \"00:14:bf:3b:c7:c6\"\n",
              "[10] \"-62\"               \"2432000000\"        \"3\"                \n",
              "[13] \"00:14:bf:b1:97:81\" \"-58\"               \"2422000000\"       \n",
              "[16] \"3\"                 \"00:14:bf:b1:97:8d\" \"-62\"              \n",
              "[19] \"2442000000\"        \"3\"                 \"00:14:bf:b1:97:90\"\n",
              "[22] \"-57\"               \"2427000000\"        \"3\"                \n",
              "[25] \"00:0f:a3:39:e0:4b\" \"-79\"               \"2462000000\"       \n",
              "[28] \"3\"                 \"00:0f:a3:39:e2:10\" \"-88\"              \n",
              "[31] \"2437000000\"        \"3\"                 \"00:0f:a3:39:dd:cd\"\n",
              "[34] \"-64\"               \"2412000000\"        \"3\"                \n",
              "[37] \"02:64:fb:68:52:e6\" \"-87\"               \"2447000000\"       \n",
              "[40] \"1\"                 \"02:00:42:55:31:00\" \"-85\"              \n",
              "[43] \"2457000000\"        \"1\"                "
            ],
            "text/latex": "\\begin{enumerate*}\n\\item '00:14:bf:b1:97:8a'\n\\item '-43'\n\\item '2437000000'\n\\item '3'\n\\item '00:0f:a3:39:e1:c0'\n\\item '-52'\n\\item '2462000000'\n\\item '3'\n\\item '00:14:bf:3b:c7:c6'\n\\item '-62'\n\\item '2432000000'\n\\item '3'\n\\item '00:14:bf:b1:97:81'\n\\item '-58'\n\\item '2422000000'\n\\item '3'\n\\item '00:14:bf:b1:97:8d'\n\\item '-62'\n\\item '2442000000'\n\\item '3'\n\\item '00:14:bf:b1:97:90'\n\\item '-57'\n\\item '2427000000'\n\\item '3'\n\\item '00:0f:a3:39:e0:4b'\n\\item '-79'\n\\item '2462000000'\n\\item '3'\n\\item '00:0f:a3:39:e2:10'\n\\item '-88'\n\\item '2437000000'\n\\item '3'\n\\item '00:0f:a3:39:dd:cd'\n\\item '-64'\n\\item '2412000000'\n\\item '3'\n\\item '02:64:fb:68:52:e6'\n\\item '-87'\n\\item '2447000000'\n\\item '1'\n\\item '02:00:42:55:31:00'\n\\item '-85'\n\\item '2457000000'\n\\item '1'\n\\end{enumerate*}\n",
            "text/markdown": "1. '00:14:bf:b1:97:8a'\n2. '-43'\n3. '2437000000'\n4. '3'\n5. '00:0f:a3:39:e1:c0'\n6. '-52'\n7. '2462000000'\n8. '3'\n9. '00:14:bf:3b:c7:c6'\n10. '-62'\n11. '2432000000'\n12. '3'\n13. '00:14:bf:b1:97:81'\n14. '-58'\n15. '2422000000'\n16. '3'\n17. '00:14:bf:b1:97:8d'\n18. '-62'\n19. '2442000000'\n20. '3'\n21. '00:14:bf:b1:97:90'\n22. '-57'\n23. '2427000000'\n24. '3'\n25. '00:0f:a3:39:e0:4b'\n26. '-79'\n27. '2462000000'\n28. '3'\n29. '00:0f:a3:39:e2:10'\n30. '-88'\n31. '2437000000'\n32. '3'\n33. '00:0f:a3:39:dd:cd'\n34. '-64'\n35. '2412000000'\n36. '3'\n37. '02:64:fb:68:52:e6'\n38. '-87'\n39. '2447000000'\n40. '1'\n41. '02:00:42:55:31:00'\n42. '-85'\n43. '2457000000'\n44. '1'\n\n\n",
            "text/html": [
              "<style>\n",
              ".list-inline {list-style: none; margin:0; padding: 0}\n",
              ".list-inline>li {display: inline-block}\n",
              ".list-inline>li:not(:last-child)::after {content: \"\\00b7\"; padding: 0 .5ex}\n",
              "</style>\n",
              "<ol class=list-inline><li>'00:14:bf:b1:97:8a'</li><li>'-43'</li><li>'2437000000'</li><li>'3'</li><li>'00:0f:a3:39:e1:c0'</li><li>'-52'</li><li>'2462000000'</li><li>'3'</li><li>'00:14:bf:3b:c7:c6'</li><li>'-62'</li><li>'2432000000'</li><li>'3'</li><li>'00:14:bf:b1:97:81'</li><li>'-58'</li><li>'2422000000'</li><li>'3'</li><li>'00:14:bf:b1:97:8d'</li><li>'-62'</li><li>'2442000000'</li><li>'3'</li><li>'00:14:bf:b1:97:90'</li><li>'-57'</li><li>'2427000000'</li><li>'3'</li><li>'00:0f:a3:39:e0:4b'</li><li>'-79'</li><li>'2462000000'</li><li>'3'</li><li>'00:0f:a3:39:e2:10'</li><li>'-88'</li><li>'2437000000'</li><li>'3'</li><li>'00:0f:a3:39:dd:cd'</li><li>'-64'</li><li>'2412000000'</li><li>'3'</li><li>'02:64:fb:68:52:e6'</li><li>'-87'</li><li>'2447000000'</li><li>'1'</li><li>'02:00:42:55:31:00'</li><li>'-85'</li><li>'2457000000'</li><li>'1'</li></ol>\n"
            ]
          },
          "metadata": {
            "tags": []
          }
        }
      ]
    },
    {
      "cell_type": "markdown",
      "metadata": {
        "id": "cPcdOABQ5_Ac",
        "colab_type": "text"
      },
      "source": [
        "Like our offline data, we will need our online data to only include one location per line. To do this, we will bind each of these sets of 4 values from the responding device within the 4 values of the line. "
      ]
    },
    {
      "cell_type": "code",
      "metadata": {
        "id": "ka3p_jxF4M5k",
        "colab_type": "code",
        "colab": {}
      },
      "source": [
        "test_cleaning_tmp = matrix(test_cleaning[ - (1:10) ], ncol = 4, byrow = TRUE)\n",
        "test_cleaning_mat = cbind(matrix(test_cleaning[c(2, 4, 6:8, 10)], nrow = nrow(test_cleaning_tmp), ncol = 6, byrow = TRUE), test_cleaning_tmp)"
      ],
      "execution_count": 0,
      "outputs": []
    },
    {
      "cell_type": "code",
      "metadata": {
        "id": "FQ7CEHkT4ORh",
        "colab_type": "code",
        "colab": {
          "base_uri": "https://localhost:8080/",
          "height": 33
        },
        "outputId": "22890240-0672-4e5d-850a-8493a3141746"
      },
      "source": [
        "dim(test_cleaning_mat)"
      ],
      "execution_count": 50,
      "outputs": [
        {
          "output_type": "display_data",
          "data": {
            "text/plain": [
              "[1] 11 10"
            ],
            "text/latex": "\\begin{enumerate*}\n\\item 11\n\\item 10\n\\end{enumerate*}\n",
            "text/markdown": "1. 11\n2. 10\n\n\n",
            "text/html": [
              "<style>\n",
              ".list-inline {list-style: none; margin:0; padding: 0}\n",
              ".list-inline>li {display: inline-block}\n",
              ".list-inline>li:not(:last-child)::after {content: \"\\00b7\"; padding: 0 .5ex}\n",
              "</style>\n",
              "<ol class=list-inline><li>11</li><li>10</li></ol>\n"
            ]
          },
          "metadata": {
            "tags": []
          }
        }
      ]
    },
    {
      "cell_type": "markdown",
      "metadata": {
        "id": "lMLpvMCV7Z97",
        "colab_type": "text"
      },
      "source": [
        "from here, we can iterate for each row of the txt file"
      ]
    },
    {
      "cell_type": "code",
      "metadata": {
        "id": "l8498Ry86Y8e",
        "colab_type": "code",
        "colab": {
          "base_uri": "https://localhost:8080/",
          "height": 33
        },
        "outputId": "f52ae6b4-a8f1-46d6-8c73-8cb652999c9e"
      },
      "source": [
        "## Test this function \n",
        "test_cleaning_tmp = lapply(onlinetxt[4:20], processLine)\n",
        "sapply(test_cleaning_tmp, nrow)"
      ],
      "execution_count": 51,
      "outputs": [
        {
          "output_type": "display_data",
          "data": {
            "text/plain": [
              " [1] 11  9  9 10  8 11 10  9 10 10  9  9  9  9 10  8 10"
            ],
            "text/latex": "\\begin{enumerate*}\n\\item 11\n\\item 9\n\\item 9\n\\item 10\n\\item 8\n\\item 11\n\\item 10\n\\item 9\n\\item 10\n\\item 10\n\\item 9\n\\item 9\n\\item 9\n\\item 9\n\\item 10\n\\item 8\n\\item 10\n\\end{enumerate*}\n",
            "text/markdown": "1. 11\n2. 9\n3. 9\n4. 10\n5. 8\n6. 11\n7. 10\n8. 9\n9. 10\n10. 10\n11. 9\n12. 9\n13. 9\n14. 9\n15. 10\n16. 8\n17. 10\n\n\n",
            "text/html": [
              "<style>\n",
              ".list-inline {list-style: none; margin:0; padding: 0}\n",
              ".list-inline>li {display: inline-block}\n",
              ".list-inline>li:not(:last-child)::after {content: \"\\00b7\"; padding: 0 .5ex}\n",
              "</style>\n",
              "<ol class=list-inline><li>11</li><li>9</li><li>9</li><li>10</li><li>8</li><li>11</li><li>10</li><li>9</li><li>10</li><li>10</li><li>9</li><li>9</li><li>9</li><li>9</li><li>10</li><li>8</li><li>10</li></ol>\n"
            ]
          },
          "metadata": {
            "tags": []
          }
        }
      ]
    },
    {
      "cell_type": "markdown",
      "metadata": {
        "id": "IjTmxFFL8aTU",
        "colab_type": "text"
      },
      "source": [
        "now, we can combine all of these individual matrices into a single dataframe. "
      ]
    },
    {
      "cell_type": "code",
      "metadata": {
        "id": "yDbnBRwc8s4_",
        "colab_type": "code",
        "colab": {
          "base_uri": "https://localhost:8080/",
          "height": 33
        },
        "outputId": "787e3021-090d-472e-d3ef-6c92f0eaad17"
      },
      "source": [
        "online = as.data.frame(do.call(\"rbind\", test_cleaning_tmp))\n",
        "dim(online)"
      ],
      "execution_count": 52,
      "outputs": [
        {
          "output_type": "display_data",
          "data": {
            "text/plain": [
              "[1] 161  10"
            ],
            "text/latex": "\\begin{enumerate*}\n\\item 161\n\\item 10\n\\end{enumerate*}\n",
            "text/markdown": "1. 161\n2. 10\n\n\n",
            "text/html": [
              "<style>\n",
              ".list-inline {list-style: none; margin:0; padding: 0}\n",
              ".list-inline>li {display: inline-block}\n",
              ".list-inline>li:not(:last-child)::after {content: \"\\00b7\"; padding: 0 .5ex}\n",
              "</style>\n",
              "<ol class=list-inline><li>161</li><li>10</li></ol>\n"
            ]
          },
          "metadata": {
            "tags": []
          }
        }
      ]
    },
    {
      "cell_type": "markdown",
      "metadata": {
        "id": "6iujjbA-83Cb",
        "colab_type": "text"
      },
      "source": [
        "Discard the \"#\" character and pass through the process line"
      ]
    },
    {
      "cell_type": "code",
      "metadata": {
        "id": "BJhb7gzw9KBS",
        "colab_type": "code",
        "colab": {
          "base_uri": "https://localhost:8080/",
          "height": 33
        },
        "outputId": "0f161f19-16a0-4249-fea1-7eca9903dcb3"
      },
      "source": [
        "lines = onlinetxt[ substr(onlinetxt, 1, 1) != \"#\" ]\n",
        "test_cleaning_tmp = lapply(lines, processLine)\n",
        "online_data = as.data.frame(do.call(\"rbind\", test_cleaning_tmp), stringsAsFactors = FALSE)\n",
        "dim(online_data)"
      ],
      "execution_count": 53,
      "outputs": [
        {
          "output_type": "display_data",
          "data": {
            "text/plain": [
              "[1] 53303    10"
            ],
            "text/latex": "\\begin{enumerate*}\n\\item 53303\n\\item 10\n\\end{enumerate*}\n",
            "text/markdown": "1. 53303\n2. 10\n\n\n",
            "text/html": [
              "<style>\n",
              ".list-inline {list-style: none; margin:0; padding: 0}\n",
              ".list-inline>li {display: inline-block}\n",
              ".list-inline>li:not(:last-child)::after {content: \"\\00b7\"; padding: 0 .5ex}\n",
              "</style>\n",
              "<ol class=list-inline><li>53303</li><li>10</li></ol>\n"
            ]
          },
          "metadata": {
            "tags": []
          }
        }
      ]
    },
    {
      "cell_type": "code",
      "metadata": {
        "id": "Rrx2yqSm93NY",
        "colab_type": "code",
        "colab": {
          "base_uri": "https://localhost:8080/",
          "height": 176
        },
        "outputId": "7cef8219-c8f7-4735-e978-c9c69f90449a"
      },
      "source": [
        "head(online_data)"
      ],
      "execution_count": 54,
      "outputs": [
        {
          "output_type": "display_data",
          "data": {
            "text/plain": [
              "  V1            V2                V3  V4   V5  V6    V7                V8 \n",
              "1 1139692477303 00:02:2D:21:0F:33 0.0 0.05 0.0 130.5 00:14:bf:b1:97:8a -43\n",
              "2 1139692477303 00:02:2D:21:0F:33 0.0 0.05 0.0 130.5 00:0f:a3:39:e1:c0 -52\n",
              "3 1139692477303 00:02:2D:21:0F:33 0.0 0.05 0.0 130.5 00:14:bf:3b:c7:c6 -62\n",
              "4 1139692477303 00:02:2D:21:0F:33 0.0 0.05 0.0 130.5 00:14:bf:b1:97:81 -58\n",
              "5 1139692477303 00:02:2D:21:0F:33 0.0 0.05 0.0 130.5 00:14:bf:b1:97:8d -62\n",
              "6 1139692477303 00:02:2D:21:0F:33 0.0 0.05 0.0 130.5 00:14:bf:b1:97:90 -57\n",
              "  V9         V10\n",
              "1 2437000000 3  \n",
              "2 2462000000 3  \n",
              "3 2432000000 3  \n",
              "4 2422000000 3  \n",
              "5 2442000000 3  \n",
              "6 2427000000 3  "
            ],
            "text/latex": "A data.frame: 6 × 10\n\\begin{tabular}{r|llllllllll}\n  & V1 & V2 & V3 & V4 & V5 & V6 & V7 & V8 & V9 & V10\\\\\n  & <chr> & <chr> & <chr> & <chr> & <chr> & <chr> & <chr> & <chr> & <chr> & <chr>\\\\\n\\hline\n\t1 & 1139692477303 & 00:02:2D:21:0F:33 & 0.0 & 0.05 & 0.0 & 130.5 & 00:14:bf:b1:97:8a & -43 & 2437000000 & 3\\\\\n\t2 & 1139692477303 & 00:02:2D:21:0F:33 & 0.0 & 0.05 & 0.0 & 130.5 & 00:0f:a3:39:e1:c0 & -52 & 2462000000 & 3\\\\\n\t3 & 1139692477303 & 00:02:2D:21:0F:33 & 0.0 & 0.05 & 0.0 & 130.5 & 00:14:bf:3b:c7:c6 & -62 & 2432000000 & 3\\\\\n\t4 & 1139692477303 & 00:02:2D:21:0F:33 & 0.0 & 0.05 & 0.0 & 130.5 & 00:14:bf:b1:97:81 & -58 & 2422000000 & 3\\\\\n\t5 & 1139692477303 & 00:02:2D:21:0F:33 & 0.0 & 0.05 & 0.0 & 130.5 & 00:14:bf:b1:97:8d & -62 & 2442000000 & 3\\\\\n\t6 & 1139692477303 & 00:02:2D:21:0F:33 & 0.0 & 0.05 & 0.0 & 130.5 & 00:14:bf:b1:97:90 & -57 & 2427000000 & 3\\\\\n\\end{tabular}\n",
            "text/markdown": "\nA data.frame: 6 × 10\n\n| <!--/--> | V1 &lt;chr&gt; | V2 &lt;chr&gt; | V3 &lt;chr&gt; | V4 &lt;chr&gt; | V5 &lt;chr&gt; | V6 &lt;chr&gt; | V7 &lt;chr&gt; | V8 &lt;chr&gt; | V9 &lt;chr&gt; | V10 &lt;chr&gt; |\n|---|---|---|---|---|---|---|---|---|---|---|\n| 1 | 1139692477303 | 00:02:2D:21:0F:33 | 0.0 | 0.05 | 0.0 | 130.5 | 00:14:bf:b1:97:8a | -43 | 2437000000 | 3 |\n| 2 | 1139692477303 | 00:02:2D:21:0F:33 | 0.0 | 0.05 | 0.0 | 130.5 | 00:0f:a3:39:e1:c0 | -52 | 2462000000 | 3 |\n| 3 | 1139692477303 | 00:02:2D:21:0F:33 | 0.0 | 0.05 | 0.0 | 130.5 | 00:14:bf:3b:c7:c6 | -62 | 2432000000 | 3 |\n| 4 | 1139692477303 | 00:02:2D:21:0F:33 | 0.0 | 0.05 | 0.0 | 130.5 | 00:14:bf:b1:97:81 | -58 | 2422000000 | 3 |\n| 5 | 1139692477303 | 00:02:2D:21:0F:33 | 0.0 | 0.05 | 0.0 | 130.5 | 00:14:bf:b1:97:8d | -62 | 2442000000 | 3 |\n| 6 | 1139692477303 | 00:02:2D:21:0F:33 | 0.0 | 0.05 | 0.0 | 130.5 | 00:14:bf:b1:97:90 | -57 | 2427000000 | 3 |\n\n",
            "text/html": [
              "<table>\n",
              "<caption>A data.frame: 6 × 10</caption>\n",
              "<thead>\n",
              "\t<tr><th></th><th scope=col>V1</th><th scope=col>V2</th><th scope=col>V3</th><th scope=col>V4</th><th scope=col>V5</th><th scope=col>V6</th><th scope=col>V7</th><th scope=col>V8</th><th scope=col>V9</th><th scope=col>V10</th></tr>\n",
              "\t<tr><th></th><th scope=col>&lt;chr&gt;</th><th scope=col>&lt;chr&gt;</th><th scope=col>&lt;chr&gt;</th><th scope=col>&lt;chr&gt;</th><th scope=col>&lt;chr&gt;</th><th scope=col>&lt;chr&gt;</th><th scope=col>&lt;chr&gt;</th><th scope=col>&lt;chr&gt;</th><th scope=col>&lt;chr&gt;</th><th scope=col>&lt;chr&gt;</th></tr>\n",
              "</thead>\n",
              "<tbody>\n",
              "\t<tr><th scope=row>1</th><td>1139692477303</td><td>00:02:2D:21:0F:33</td><td>0.0</td><td>0.05</td><td>0.0</td><td>130.5</td><td>00:14:bf:b1:97:8a</td><td>-43</td><td>2437000000</td><td>3</td></tr>\n",
              "\t<tr><th scope=row>2</th><td>1139692477303</td><td>00:02:2D:21:0F:33</td><td>0.0</td><td>0.05</td><td>0.0</td><td>130.5</td><td>00:0f:a3:39:e1:c0</td><td>-52</td><td>2462000000</td><td>3</td></tr>\n",
              "\t<tr><th scope=row>3</th><td>1139692477303</td><td>00:02:2D:21:0F:33</td><td>0.0</td><td>0.05</td><td>0.0</td><td>130.5</td><td>00:14:bf:3b:c7:c6</td><td>-62</td><td>2432000000</td><td>3</td></tr>\n",
              "\t<tr><th scope=row>4</th><td>1139692477303</td><td>00:02:2D:21:0F:33</td><td>0.0</td><td>0.05</td><td>0.0</td><td>130.5</td><td>00:14:bf:b1:97:81</td><td>-58</td><td>2422000000</td><td>3</td></tr>\n",
              "\t<tr><th scope=row>5</th><td>1139692477303</td><td>00:02:2D:21:0F:33</td><td>0.0</td><td>0.05</td><td>0.0</td><td>130.5</td><td>00:14:bf:b1:97:8d</td><td>-62</td><td>2442000000</td><td>3</td></tr>\n",
              "\t<tr><th scope=row>6</th><td>1139692477303</td><td>00:02:2D:21:0F:33</td><td>0.0</td><td>0.05</td><td>0.0</td><td>130.5</td><td>00:14:bf:b1:97:90</td><td>-57</td><td>2427000000</td><td>3</td></tr>\n",
              "</tbody>\n",
              "</table>\n"
            ]
          },
          "metadata": {
            "tags": []
          }
        }
      ]
    },
    {
      "cell_type": "markdown",
      "metadata": {
        "id": "XpwEmDQT984I",
        "colab_type": "text"
      },
      "source": [
        "Add names to the columns to match the offline data. "
      ]
    },
    {
      "cell_type": "code",
      "metadata": {
        "id": "le0iZT9_94Y2",
        "colab_type": "code",
        "colab": {}
      },
      "source": [
        "names(online_data) = c(\"time\", \"scanMac\", \"posX\", \"posY\", \"posZ\", \"orientation\", \"mac\", \"signal\", \"channel\", \"type\")"
      ],
      "execution_count": 0,
      "outputs": []
    },
    {
      "cell_type": "code",
      "metadata": {
        "id": "0npeCcyd-UEA",
        "colab_type": "code",
        "colab": {
          "base_uri": "https://localhost:8080/",
          "height": 176
        },
        "outputId": "f5cdec41-7956-43bf-b491-3f5fe4f88e3e"
      },
      "source": [
        "head(online_data)"
      ],
      "execution_count": 56,
      "outputs": [
        {
          "output_type": "display_data",
          "data": {
            "text/plain": [
              "  time          scanMac           posX posY posZ orientation mac              \n",
              "1 1139692477303 00:02:2D:21:0F:33 0.0  0.05 0.0  130.5       00:14:bf:b1:97:8a\n",
              "2 1139692477303 00:02:2D:21:0F:33 0.0  0.05 0.0  130.5       00:0f:a3:39:e1:c0\n",
              "3 1139692477303 00:02:2D:21:0F:33 0.0  0.05 0.0  130.5       00:14:bf:3b:c7:c6\n",
              "4 1139692477303 00:02:2D:21:0F:33 0.0  0.05 0.0  130.5       00:14:bf:b1:97:81\n",
              "5 1139692477303 00:02:2D:21:0F:33 0.0  0.05 0.0  130.5       00:14:bf:b1:97:8d\n",
              "6 1139692477303 00:02:2D:21:0F:33 0.0  0.05 0.0  130.5       00:14:bf:b1:97:90\n",
              "  signal channel    type\n",
              "1 -43    2437000000 3   \n",
              "2 -52    2462000000 3   \n",
              "3 -62    2432000000 3   \n",
              "4 -58    2422000000 3   \n",
              "5 -62    2442000000 3   \n",
              "6 -57    2427000000 3   "
            ],
            "text/latex": "A data.frame: 6 × 10\n\\begin{tabular}{r|llllllllll}\n  & time & scanMac & posX & posY & posZ & orientation & mac & signal & channel & type\\\\\n  & <chr> & <chr> & <chr> & <chr> & <chr> & <chr> & <chr> & <chr> & <chr> & <chr>\\\\\n\\hline\n\t1 & 1139692477303 & 00:02:2D:21:0F:33 & 0.0 & 0.05 & 0.0 & 130.5 & 00:14:bf:b1:97:8a & -43 & 2437000000 & 3\\\\\n\t2 & 1139692477303 & 00:02:2D:21:0F:33 & 0.0 & 0.05 & 0.0 & 130.5 & 00:0f:a3:39:e1:c0 & -52 & 2462000000 & 3\\\\\n\t3 & 1139692477303 & 00:02:2D:21:0F:33 & 0.0 & 0.05 & 0.0 & 130.5 & 00:14:bf:3b:c7:c6 & -62 & 2432000000 & 3\\\\\n\t4 & 1139692477303 & 00:02:2D:21:0F:33 & 0.0 & 0.05 & 0.0 & 130.5 & 00:14:bf:b1:97:81 & -58 & 2422000000 & 3\\\\\n\t5 & 1139692477303 & 00:02:2D:21:0F:33 & 0.0 & 0.05 & 0.0 & 130.5 & 00:14:bf:b1:97:8d & -62 & 2442000000 & 3\\\\\n\t6 & 1139692477303 & 00:02:2D:21:0F:33 & 0.0 & 0.05 & 0.0 & 130.5 & 00:14:bf:b1:97:90 & -57 & 2427000000 & 3\\\\\n\\end{tabular}\n",
            "text/markdown": "\nA data.frame: 6 × 10\n\n| <!--/--> | time &lt;chr&gt; | scanMac &lt;chr&gt; | posX &lt;chr&gt; | posY &lt;chr&gt; | posZ &lt;chr&gt; | orientation &lt;chr&gt; | mac &lt;chr&gt; | signal &lt;chr&gt; | channel &lt;chr&gt; | type &lt;chr&gt; |\n|---|---|---|---|---|---|---|---|---|---|---|\n| 1 | 1139692477303 | 00:02:2D:21:0F:33 | 0.0 | 0.05 | 0.0 | 130.5 | 00:14:bf:b1:97:8a | -43 | 2437000000 | 3 |\n| 2 | 1139692477303 | 00:02:2D:21:0F:33 | 0.0 | 0.05 | 0.0 | 130.5 | 00:0f:a3:39:e1:c0 | -52 | 2462000000 | 3 |\n| 3 | 1139692477303 | 00:02:2D:21:0F:33 | 0.0 | 0.05 | 0.0 | 130.5 | 00:14:bf:3b:c7:c6 | -62 | 2432000000 | 3 |\n| 4 | 1139692477303 | 00:02:2D:21:0F:33 | 0.0 | 0.05 | 0.0 | 130.5 | 00:14:bf:b1:97:81 | -58 | 2422000000 | 3 |\n| 5 | 1139692477303 | 00:02:2D:21:0F:33 | 0.0 | 0.05 | 0.0 | 130.5 | 00:14:bf:b1:97:8d | -62 | 2442000000 | 3 |\n| 6 | 1139692477303 | 00:02:2D:21:0F:33 | 0.0 | 0.05 | 0.0 | 130.5 | 00:14:bf:b1:97:90 | -57 | 2427000000 | 3 |\n\n",
            "text/html": [
              "<table>\n",
              "<caption>A data.frame: 6 × 10</caption>\n",
              "<thead>\n",
              "\t<tr><th></th><th scope=col>time</th><th scope=col>scanMac</th><th scope=col>posX</th><th scope=col>posY</th><th scope=col>posZ</th><th scope=col>orientation</th><th scope=col>mac</th><th scope=col>signal</th><th scope=col>channel</th><th scope=col>type</th></tr>\n",
              "\t<tr><th></th><th scope=col>&lt;chr&gt;</th><th scope=col>&lt;chr&gt;</th><th scope=col>&lt;chr&gt;</th><th scope=col>&lt;chr&gt;</th><th scope=col>&lt;chr&gt;</th><th scope=col>&lt;chr&gt;</th><th scope=col>&lt;chr&gt;</th><th scope=col>&lt;chr&gt;</th><th scope=col>&lt;chr&gt;</th><th scope=col>&lt;chr&gt;</th></tr>\n",
              "</thead>\n",
              "<tbody>\n",
              "\t<tr><th scope=row>1</th><td>1139692477303</td><td>00:02:2D:21:0F:33</td><td>0.0</td><td>0.05</td><td>0.0</td><td>130.5</td><td>00:14:bf:b1:97:8a</td><td>-43</td><td>2437000000</td><td>3</td></tr>\n",
              "\t<tr><th scope=row>2</th><td>1139692477303</td><td>00:02:2D:21:0F:33</td><td>0.0</td><td>0.05</td><td>0.0</td><td>130.5</td><td>00:0f:a3:39:e1:c0</td><td>-52</td><td>2462000000</td><td>3</td></tr>\n",
              "\t<tr><th scope=row>3</th><td>1139692477303</td><td>00:02:2D:21:0F:33</td><td>0.0</td><td>0.05</td><td>0.0</td><td>130.5</td><td>00:14:bf:3b:c7:c6</td><td>-62</td><td>2432000000</td><td>3</td></tr>\n",
              "\t<tr><th scope=row>4</th><td>1139692477303</td><td>00:02:2D:21:0F:33</td><td>0.0</td><td>0.05</td><td>0.0</td><td>130.5</td><td>00:14:bf:b1:97:81</td><td>-58</td><td>2422000000</td><td>3</td></tr>\n",
              "\t<tr><th scope=row>5</th><td>1139692477303</td><td>00:02:2D:21:0F:33</td><td>0.0</td><td>0.05</td><td>0.0</td><td>130.5</td><td>00:14:bf:b1:97:8d</td><td>-62</td><td>2442000000</td><td>3</td></tr>\n",
              "\t<tr><th scope=row>6</th><td>1139692477303</td><td>00:02:2D:21:0F:33</td><td>0.0</td><td>0.05</td><td>0.0</td><td>130.5</td><td>00:14:bf:b1:97:90</td><td>-57</td><td>2427000000</td><td>3</td></tr>\n",
              "</tbody>\n",
              "</table>\n"
            ]
          },
          "metadata": {
            "tags": []
          }
        }
      ]
    },
    {
      "cell_type": "markdown",
      "metadata": {
        "id": "NywT3NHU-bqU",
        "colab_type": "text"
      },
      "source": [
        "Convert the numeric data to the correct data type. Paricularly the time, posx, posY, posZ, orientation and signal datasets. "
      ]
    },
    {
      "cell_type": "code",
      "metadata": {
        "id": "YU9wWJN_-jqM",
        "colab_type": "code",
        "colab": {}
      },
      "source": [
        "numVars = c(\"time\", \"posX\", \"posY\", \"posZ\", \"orientation\", \"signal\")\n",
        "online_data[ numVars ] = lapply(online_data[ numVars ], as.numeric)"
      ],
      "execution_count": 0,
      "outputs": []
    },
    {
      "cell_type": "code",
      "metadata": {
        "id": "SVpIVmeM-pRF",
        "colab_type": "code",
        "colab": {
          "base_uri": "https://localhost:8080/",
          "height": 176
        },
        "outputId": "44a10f32-334f-4a81-ad0b-07600d741e14"
      },
      "source": [
        "head(online_data)"
      ],
      "execution_count": 58,
      "outputs": [
        {
          "output_type": "display_data",
          "data": {
            "text/plain": [
              "  time         scanMac           posX posY posZ orientation mac              \n",
              "1 1.139692e+12 00:02:2D:21:0F:33 0    0.05 0    130.5       00:14:bf:b1:97:8a\n",
              "2 1.139692e+12 00:02:2D:21:0F:33 0    0.05 0    130.5       00:0f:a3:39:e1:c0\n",
              "3 1.139692e+12 00:02:2D:21:0F:33 0    0.05 0    130.5       00:14:bf:3b:c7:c6\n",
              "4 1.139692e+12 00:02:2D:21:0F:33 0    0.05 0    130.5       00:14:bf:b1:97:81\n",
              "5 1.139692e+12 00:02:2D:21:0F:33 0    0.05 0    130.5       00:14:bf:b1:97:8d\n",
              "6 1.139692e+12 00:02:2D:21:0F:33 0    0.05 0    130.5       00:14:bf:b1:97:90\n",
              "  signal channel    type\n",
              "1 -43    2437000000 3   \n",
              "2 -52    2462000000 3   \n",
              "3 -62    2432000000 3   \n",
              "4 -58    2422000000 3   \n",
              "5 -62    2442000000 3   \n",
              "6 -57    2427000000 3   "
            ],
            "text/latex": "A data.frame: 6 × 10\n\\begin{tabular}{r|llllllllll}\n  & time & scanMac & posX & posY & posZ & orientation & mac & signal & channel & type\\\\\n  & <dbl> & <chr> & <dbl> & <dbl> & <dbl> & <dbl> & <chr> & <dbl> & <chr> & <chr>\\\\\n\\hline\n\t1 & 1.139692e+12 & 00:02:2D:21:0F:33 & 0 & 0.05 & 0 & 130.5 & 00:14:bf:b1:97:8a & -43 & 2437000000 & 3\\\\\n\t2 & 1.139692e+12 & 00:02:2D:21:0F:33 & 0 & 0.05 & 0 & 130.5 & 00:0f:a3:39:e1:c0 & -52 & 2462000000 & 3\\\\\n\t3 & 1.139692e+12 & 00:02:2D:21:0F:33 & 0 & 0.05 & 0 & 130.5 & 00:14:bf:3b:c7:c6 & -62 & 2432000000 & 3\\\\\n\t4 & 1.139692e+12 & 00:02:2D:21:0F:33 & 0 & 0.05 & 0 & 130.5 & 00:14:bf:b1:97:81 & -58 & 2422000000 & 3\\\\\n\t5 & 1.139692e+12 & 00:02:2D:21:0F:33 & 0 & 0.05 & 0 & 130.5 & 00:14:bf:b1:97:8d & -62 & 2442000000 & 3\\\\\n\t6 & 1.139692e+12 & 00:02:2D:21:0F:33 & 0 & 0.05 & 0 & 130.5 & 00:14:bf:b1:97:90 & -57 & 2427000000 & 3\\\\\n\\end{tabular}\n",
            "text/markdown": "\nA data.frame: 6 × 10\n\n| <!--/--> | time &lt;dbl&gt; | scanMac &lt;chr&gt; | posX &lt;dbl&gt; | posY &lt;dbl&gt; | posZ &lt;dbl&gt; | orientation &lt;dbl&gt; | mac &lt;chr&gt; | signal &lt;dbl&gt; | channel &lt;chr&gt; | type &lt;chr&gt; |\n|---|---|---|---|---|---|---|---|---|---|---|\n| 1 | 1.139692e+12 | 00:02:2D:21:0F:33 | 0 | 0.05 | 0 | 130.5 | 00:14:bf:b1:97:8a | -43 | 2437000000 | 3 |\n| 2 | 1.139692e+12 | 00:02:2D:21:0F:33 | 0 | 0.05 | 0 | 130.5 | 00:0f:a3:39:e1:c0 | -52 | 2462000000 | 3 |\n| 3 | 1.139692e+12 | 00:02:2D:21:0F:33 | 0 | 0.05 | 0 | 130.5 | 00:14:bf:3b:c7:c6 | -62 | 2432000000 | 3 |\n| 4 | 1.139692e+12 | 00:02:2D:21:0F:33 | 0 | 0.05 | 0 | 130.5 | 00:14:bf:b1:97:81 | -58 | 2422000000 | 3 |\n| 5 | 1.139692e+12 | 00:02:2D:21:0F:33 | 0 | 0.05 | 0 | 130.5 | 00:14:bf:b1:97:8d | -62 | 2442000000 | 3 |\n| 6 | 1.139692e+12 | 00:02:2D:21:0F:33 | 0 | 0.05 | 0 | 130.5 | 00:14:bf:b1:97:90 | -57 | 2427000000 | 3 |\n\n",
            "text/html": [
              "<table>\n",
              "<caption>A data.frame: 6 × 10</caption>\n",
              "<thead>\n",
              "\t<tr><th></th><th scope=col>time</th><th scope=col>scanMac</th><th scope=col>posX</th><th scope=col>posY</th><th scope=col>posZ</th><th scope=col>orientation</th><th scope=col>mac</th><th scope=col>signal</th><th scope=col>channel</th><th scope=col>type</th></tr>\n",
              "\t<tr><th></th><th scope=col>&lt;dbl&gt;</th><th scope=col>&lt;chr&gt;</th><th scope=col>&lt;dbl&gt;</th><th scope=col>&lt;dbl&gt;</th><th scope=col>&lt;dbl&gt;</th><th scope=col>&lt;dbl&gt;</th><th scope=col>&lt;chr&gt;</th><th scope=col>&lt;dbl&gt;</th><th scope=col>&lt;chr&gt;</th><th scope=col>&lt;chr&gt;</th></tr>\n",
              "</thead>\n",
              "<tbody>\n",
              "\t<tr><th scope=row>1</th><td>1.139692e+12</td><td>00:02:2D:21:0F:33</td><td>0</td><td>0.05</td><td>0</td><td>130.5</td><td>00:14:bf:b1:97:8a</td><td>-43</td><td>2437000000</td><td>3</td></tr>\n",
              "\t<tr><th scope=row>2</th><td>1.139692e+12</td><td>00:02:2D:21:0F:33</td><td>0</td><td>0.05</td><td>0</td><td>130.5</td><td>00:0f:a3:39:e1:c0</td><td>-52</td><td>2462000000</td><td>3</td></tr>\n",
              "\t<tr><th scope=row>3</th><td>1.139692e+12</td><td>00:02:2D:21:0F:33</td><td>0</td><td>0.05</td><td>0</td><td>130.5</td><td>00:14:bf:3b:c7:c6</td><td>-62</td><td>2432000000</td><td>3</td></tr>\n",
              "\t<tr><th scope=row>4</th><td>1.139692e+12</td><td>00:02:2D:21:0F:33</td><td>0</td><td>0.05</td><td>0</td><td>130.5</td><td>00:14:bf:b1:97:81</td><td>-58</td><td>2422000000</td><td>3</td></tr>\n",
              "\t<tr><th scope=row>5</th><td>1.139692e+12</td><td>00:02:2D:21:0F:33</td><td>0</td><td>0.05</td><td>0</td><td>130.5</td><td>00:14:bf:b1:97:8d</td><td>-62</td><td>2442000000</td><td>3</td></tr>\n",
              "\t<tr><th scope=row>6</th><td>1.139692e+12</td><td>00:02:2D:21:0F:33</td><td>0</td><td>0.05</td><td>0</td><td>130.5</td><td>00:14:bf:b1:97:90</td><td>-57</td><td>2427000000</td><td>3</td></tr>\n",
              "</tbody>\n",
              "</table>\n"
            ]
          },
          "metadata": {
            "tags": []
          }
        }
      ]
    },
    {
      "cell_type": "markdown",
      "metadata": {
        "id": "z1CD_Mun-_zb",
        "colab_type": "text"
      },
      "source": [
        "CHange the device type to adhoc or access point. "
      ]
    },
    {
      "cell_type": "code",
      "metadata": {
        "id": "RrrR0Soh-quv",
        "colab_type": "code",
        "colab": {
          "base_uri": "https://localhost:8080/",
          "height": 33
        },
        "outputId": "d096855c-860b-4d2a-f999-2668d86cb245"
      },
      "source": [
        "online_data = online_data[ online_data$type == \"3\", ]\n",
        "online_data = online_data[ , \"type\" != names(online_data) ]\n",
        "dim(online_data)"
      ],
      "execution_count": 59,
      "outputs": [
        {
          "output_type": "display_data",
          "data": {
            "text/plain": [
              "[1] 43857     9"
            ],
            "text/latex": "\\begin{enumerate*}\n\\item 43857\n\\item 9\n\\end{enumerate*}\n",
            "text/markdown": "1. 43857\n2. 9\n\n\n",
            "text/html": [
              "<style>\n",
              ".list-inline {list-style: none; margin:0; padding: 0}\n",
              ".list-inline>li {display: inline-block}\n",
              ".list-inline>li:not(:last-child)::after {content: \"\\00b7\"; padding: 0 .5ex}\n",
              "</style>\n",
              "<ol class=list-inline><li>43857</li><li>9</li></ol>\n"
            ]
          },
          "metadata": {
            "tags": []
          }
        }
      ]
    },
    {
      "cell_type": "markdown",
      "metadata": {
        "id": "z1kmbVuj_9y8",
        "colab_type": "text"
      },
      "source": [
        "Over 100k records from our data frame. Now, lets take a look into the time variable and how it's measured in the number of milliseconds from midnight on January 1st 1970. We are now going to scale the value of time into seconds and and then set the class of the time element in order to have the values appear and operate as date-times. "
      ]
    },
    {
      "cell_type": "code",
      "metadata": {
        "id": "od80EMct_jJH",
        "colab_type": "code",
        "colab": {}
      },
      "source": [
        "online_data$rawTime = online_data$time\n",
        "online_data$time = online_data$time/1000\n",
        "class(online_data$time) = c(\"POSIXt\", \"POSIXct\")"
      ],
      "execution_count": 0,
      "outputs": []
    },
    {
      "cell_type": "code",
      "metadata": {
        "id": "ktgkyKn_Asne",
        "colab_type": "code",
        "colab": {
          "base_uri": "https://localhost:8080/",
          "height": 176
        },
        "outputId": "d5b7d457-033e-4fae-c89c-bd47dcd5eac5"
      },
      "source": [
        "head(online_data)"
      ],
      "execution_count": 61,
      "outputs": [
        {
          "output_type": "display_data",
          "data": {
            "text/plain": [
              "  time                scanMac           posX posY posZ orientation\n",
              "1 2006-02-11 21:14:37 00:02:2D:21:0F:33 0    0.05 0    130.5      \n",
              "2 2006-02-11 21:14:37 00:02:2D:21:0F:33 0    0.05 0    130.5      \n",
              "3 2006-02-11 21:14:37 00:02:2D:21:0F:33 0    0.05 0    130.5      \n",
              "4 2006-02-11 21:14:37 00:02:2D:21:0F:33 0    0.05 0    130.5      \n",
              "5 2006-02-11 21:14:37 00:02:2D:21:0F:33 0    0.05 0    130.5      \n",
              "6 2006-02-11 21:14:37 00:02:2D:21:0F:33 0    0.05 0    130.5      \n",
              "  mac               signal channel    rawTime     \n",
              "1 00:14:bf:b1:97:8a -43    2437000000 1.139692e+12\n",
              "2 00:0f:a3:39:e1:c0 -52    2462000000 1.139692e+12\n",
              "3 00:14:bf:3b:c7:c6 -62    2432000000 1.139692e+12\n",
              "4 00:14:bf:b1:97:81 -58    2422000000 1.139692e+12\n",
              "5 00:14:bf:b1:97:8d -62    2442000000 1.139692e+12\n",
              "6 00:14:bf:b1:97:90 -57    2427000000 1.139692e+12"
            ],
            "text/latex": "A data.frame: 6 × 10\n\\begin{tabular}{r|llllllllll}\n  & time & scanMac & posX & posY & posZ & orientation & mac & signal & channel & rawTime\\\\\n  & <dttm> & <chr> & <dbl> & <dbl> & <dbl> & <dbl> & <chr> & <dbl> & <chr> & <dbl>\\\\\n\\hline\n\t1 & 2006-02-11 21:14:37 & 00:02:2D:21:0F:33 & 0 & 0.05 & 0 & 130.5 & 00:14:bf:b1:97:8a & -43 & 2437000000 & 1.139692e+12\\\\\n\t2 & 2006-02-11 21:14:37 & 00:02:2D:21:0F:33 & 0 & 0.05 & 0 & 130.5 & 00:0f:a3:39:e1:c0 & -52 & 2462000000 & 1.139692e+12\\\\\n\t3 & 2006-02-11 21:14:37 & 00:02:2D:21:0F:33 & 0 & 0.05 & 0 & 130.5 & 00:14:bf:3b:c7:c6 & -62 & 2432000000 & 1.139692e+12\\\\\n\t4 & 2006-02-11 21:14:37 & 00:02:2D:21:0F:33 & 0 & 0.05 & 0 & 130.5 & 00:14:bf:b1:97:81 & -58 & 2422000000 & 1.139692e+12\\\\\n\t5 & 2006-02-11 21:14:37 & 00:02:2D:21:0F:33 & 0 & 0.05 & 0 & 130.5 & 00:14:bf:b1:97:8d & -62 & 2442000000 & 1.139692e+12\\\\\n\t6 & 2006-02-11 21:14:37 & 00:02:2D:21:0F:33 & 0 & 0.05 & 0 & 130.5 & 00:14:bf:b1:97:90 & -57 & 2427000000 & 1.139692e+12\\\\\n\\end{tabular}\n",
            "text/markdown": "\nA data.frame: 6 × 10\n\n| <!--/--> | time &lt;dttm&gt; | scanMac &lt;chr&gt; | posX &lt;dbl&gt; | posY &lt;dbl&gt; | posZ &lt;dbl&gt; | orientation &lt;dbl&gt; | mac &lt;chr&gt; | signal &lt;dbl&gt; | channel &lt;chr&gt; | rawTime &lt;dbl&gt; |\n|---|---|---|---|---|---|---|---|---|---|---|\n| 1 | 2006-02-11 21:14:37 | 00:02:2D:21:0F:33 | 0 | 0.05 | 0 | 130.5 | 00:14:bf:b1:97:8a | -43 | 2437000000 | 1.139692e+12 |\n| 2 | 2006-02-11 21:14:37 | 00:02:2D:21:0F:33 | 0 | 0.05 | 0 | 130.5 | 00:0f:a3:39:e1:c0 | -52 | 2462000000 | 1.139692e+12 |\n| 3 | 2006-02-11 21:14:37 | 00:02:2D:21:0F:33 | 0 | 0.05 | 0 | 130.5 | 00:14:bf:3b:c7:c6 | -62 | 2432000000 | 1.139692e+12 |\n| 4 | 2006-02-11 21:14:37 | 00:02:2D:21:0F:33 | 0 | 0.05 | 0 | 130.5 | 00:14:bf:b1:97:81 | -58 | 2422000000 | 1.139692e+12 |\n| 5 | 2006-02-11 21:14:37 | 00:02:2D:21:0F:33 | 0 | 0.05 | 0 | 130.5 | 00:14:bf:b1:97:8d | -62 | 2442000000 | 1.139692e+12 |\n| 6 | 2006-02-11 21:14:37 | 00:02:2D:21:0F:33 | 0 | 0.05 | 0 | 130.5 | 00:14:bf:b1:97:90 | -57 | 2427000000 | 1.139692e+12 |\n\n",
            "text/html": [
              "<table>\n",
              "<caption>A data.frame: 6 × 10</caption>\n",
              "<thead>\n",
              "\t<tr><th></th><th scope=col>time</th><th scope=col>scanMac</th><th scope=col>posX</th><th scope=col>posY</th><th scope=col>posZ</th><th scope=col>orientation</th><th scope=col>mac</th><th scope=col>signal</th><th scope=col>channel</th><th scope=col>rawTime</th></tr>\n",
              "\t<tr><th></th><th scope=col>&lt;dttm&gt;</th><th scope=col>&lt;chr&gt;</th><th scope=col>&lt;dbl&gt;</th><th scope=col>&lt;dbl&gt;</th><th scope=col>&lt;dbl&gt;</th><th scope=col>&lt;dbl&gt;</th><th scope=col>&lt;chr&gt;</th><th scope=col>&lt;dbl&gt;</th><th scope=col>&lt;chr&gt;</th><th scope=col>&lt;dbl&gt;</th></tr>\n",
              "</thead>\n",
              "<tbody>\n",
              "\t<tr><th scope=row>1</th><td>2006-02-11 21:14:37</td><td>00:02:2D:21:0F:33</td><td>0</td><td>0.05</td><td>0</td><td>130.5</td><td>00:14:bf:b1:97:8a</td><td>-43</td><td>2437000000</td><td>1.139692e+12</td></tr>\n",
              "\t<tr><th scope=row>2</th><td>2006-02-11 21:14:37</td><td>00:02:2D:21:0F:33</td><td>0</td><td>0.05</td><td>0</td><td>130.5</td><td>00:0f:a3:39:e1:c0</td><td>-52</td><td>2462000000</td><td>1.139692e+12</td></tr>\n",
              "\t<tr><th scope=row>3</th><td>2006-02-11 21:14:37</td><td>00:02:2D:21:0F:33</td><td>0</td><td>0.05</td><td>0</td><td>130.5</td><td>00:14:bf:3b:c7:c6</td><td>-62</td><td>2432000000</td><td>1.139692e+12</td></tr>\n",
              "\t<tr><th scope=row>4</th><td>2006-02-11 21:14:37</td><td>00:02:2D:21:0F:33</td><td>0</td><td>0.05</td><td>0</td><td>130.5</td><td>00:14:bf:b1:97:81</td><td>-58</td><td>2422000000</td><td>1.139692e+12</td></tr>\n",
              "\t<tr><th scope=row>5</th><td>2006-02-11 21:14:37</td><td>00:02:2D:21:0F:33</td><td>0</td><td>0.05</td><td>0</td><td>130.5</td><td>00:14:bf:b1:97:8d</td><td>-62</td><td>2442000000</td><td>1.139692e+12</td></tr>\n",
              "\t<tr><th scope=row>6</th><td>2006-02-11 21:14:37</td><td>00:02:2D:21:0F:33</td><td>0</td><td>0.05</td><td>0</td><td>130.5</td><td>00:14:bf:b1:97:90</td><td>-57</td><td>2427000000</td><td>1.139692e+12</td></tr>\n",
              "</tbody>\n",
              "</table>\n"
            ]
          },
          "metadata": {
            "tags": []
          }
        }
      ]
    },
    {
      "cell_type": "markdown",
      "metadata": {
        "id": "yI4v-mRnA3Rt",
        "colab_type": "text"
      },
      "source": [
        "Review the data types across our dataframe"
      ]
    },
    {
      "cell_type": "code",
      "metadata": {
        "id": "WYQGG0aTA5a6",
        "colab_type": "code",
        "colab": {
          "base_uri": "https://localhost:8080/",
          "height": 66
        },
        "outputId": "7a73eace-5c75-44ef-ccf6-fb480c6f06d3"
      },
      "source": [
        "unlist(lapply(online_data, class))"
      ],
      "execution_count": 62,
      "outputs": [
        {
          "output_type": "display_data",
          "data": {
            "text/plain": [
              "      time1       time2     scanMac        posX        posY        posZ \n",
              "   \"POSIXt\"   \"POSIXct\" \"character\"   \"numeric\"   \"numeric\"   \"numeric\" \n",
              "orientation         mac      signal     channel     rawTime \n",
              "  \"numeric\" \"character\"   \"numeric\" \"character\"   \"numeric\" "
            ],
            "text/latex": "\\begin{description*}\n\\item[time1] 'POSIXt'\n\\item[time2] 'POSIXct'\n\\item[scanMac] 'character'\n\\item[posX] 'numeric'\n\\item[posY] 'numeric'\n\\item[posZ] 'numeric'\n\\item[orientation] 'numeric'\n\\item[mac] 'character'\n\\item[signal] 'numeric'\n\\item[channel] 'character'\n\\item[rawTime] 'numeric'\n\\end{description*}\n",
            "text/markdown": "time1\n:   'POSIXt'time2\n:   'POSIXct'scanMac\n:   'character'posX\n:   'numeric'posY\n:   'numeric'posZ\n:   'numeric'orientation\n:   'numeric'mac\n:   'character'signal\n:   'numeric'channel\n:   'character'rawTime\n:   'numeric'\n\n",
            "text/html": [
              "<style>\n",
              ".dl-inline {width: auto; margin:0; padding: 0}\n",
              ".dl-inline>dt, .dl-inline>dd {float: none; width: auto; display: inline-block}\n",
              ".dl-inline>dt::after {content: \":\\0020\"; padding-right: .5ex}\n",
              ".dl-inline>dt:not(:first-of-type) {padding-left: .5ex}\n",
              "</style><dl class=dl-inline><dt>time1</dt><dd>'POSIXt'</dd><dt>time2</dt><dd>'POSIXct'</dd><dt>scanMac</dt><dd>'character'</dd><dt>posX</dt><dd>'numeric'</dd><dt>posY</dt><dd>'numeric'</dd><dt>posZ</dt><dd>'numeric'</dd><dt>orientation</dt><dd>'numeric'</dd><dt>mac</dt><dd>'character'</dd><dt>signal</dt><dd>'numeric'</dd><dt>channel</dt><dd>'character'</dd><dt>rawTime</dt><dd>'numeric'</dd></dl>\n"
            ]
          },
          "metadata": {
            "tags": []
          }
        }
      ]
    },
    {
      "cell_type": "markdown",
      "metadata": {
        "id": "8t-xeRycBSkk",
        "colab_type": "text"
      },
      "source": [
        "Run a quick summary of our dataframe. "
      ]
    },
    {
      "cell_type": "code",
      "metadata": {
        "id": "xC_Z2tifBWCp",
        "colab_type": "code",
        "colab": {
          "base_uri": "https://localhost:8080/",
          "height": 265
        },
        "outputId": "aafe58d1-68c1-4a3d-dcab-b1e3d6ec9e3e"
      },
      "source": [
        "summary(online_data[, numVars])"
      ],
      "execution_count": 63,
      "outputs": [
        {
          "output_type": "display_data",
          "data": {
            "text/plain": [
              "      time                          posX            posY             posZ  \n",
              " Min.   :2006-02-11 21:14:37   Min.   : 0.00   Min.   : 0.050   Min.   :0  \n",
              " 1st Qu.:2006-02-11 21:39:58   1st Qu.: 1.86   1st Qu.: 5.250   1st Qu.:0  \n",
              " Median :2006-02-23 18:12:00   Median :11.39   Median : 7.340   Median :0  \n",
              " Mean   :2006-02-19 00:08:45   Mean   :12.89   Mean   : 6.624   Mean   :0  \n",
              " 3rd Qu.:2006-02-23 18:38:59   3rd Qu.:22.76   3rd Qu.: 7.640   3rd Qu.:0  \n",
              " Max.   :2006-03-09 18:26:31   Max.   :32.54   Max.   :12.190   Max.   :0  \n",
              "  orientation        signal      \n",
              " Min.   :  5.8   Min.   :-97.00  \n",
              " 1st Qu.: 94.4   1st Qu.:-69.00  \n",
              " Median :158.3   Median :-60.00  \n",
              " Mean   :178.6   Mean   :-61.43  \n",
              " 3rd Qu.:289.5   3rd Qu.:-53.00  \n",
              " Max.   :348.3   Max.   :-29.00  "
            ]
          },
          "metadata": {
            "tags": []
          }
        }
      ]
    },
    {
      "cell_type": "code",
      "metadata": {
        "id": "GQO874jrBi9c",
        "colab_type": "code",
        "colab": {
          "base_uri": "https://localhost:8080/",
          "height": 176
        },
        "outputId": "904ffd14-ec8b-45f9-d312-be90f2f1fd97"
      },
      "source": [
        "head(online_data)"
      ],
      "execution_count": 64,
      "outputs": [
        {
          "output_type": "display_data",
          "data": {
            "text/plain": [
              "  time                scanMac           posX posY posZ orientation\n",
              "1 2006-02-11 21:14:37 00:02:2D:21:0F:33 0    0.05 0    130.5      \n",
              "2 2006-02-11 21:14:37 00:02:2D:21:0F:33 0    0.05 0    130.5      \n",
              "3 2006-02-11 21:14:37 00:02:2D:21:0F:33 0    0.05 0    130.5      \n",
              "4 2006-02-11 21:14:37 00:02:2D:21:0F:33 0    0.05 0    130.5      \n",
              "5 2006-02-11 21:14:37 00:02:2D:21:0F:33 0    0.05 0    130.5      \n",
              "6 2006-02-11 21:14:37 00:02:2D:21:0F:33 0    0.05 0    130.5      \n",
              "  mac               signal channel    rawTime     \n",
              "1 00:14:bf:b1:97:8a -43    2437000000 1.139692e+12\n",
              "2 00:0f:a3:39:e1:c0 -52    2462000000 1.139692e+12\n",
              "3 00:14:bf:3b:c7:c6 -62    2432000000 1.139692e+12\n",
              "4 00:14:bf:b1:97:81 -58    2422000000 1.139692e+12\n",
              "5 00:14:bf:b1:97:8d -62    2442000000 1.139692e+12\n",
              "6 00:14:bf:b1:97:90 -57    2427000000 1.139692e+12"
            ],
            "text/latex": "A data.frame: 6 × 10\n\\begin{tabular}{r|llllllllll}\n  & time & scanMac & posX & posY & posZ & orientation & mac & signal & channel & rawTime\\\\\n  & <dttm> & <chr> & <dbl> & <dbl> & <dbl> & <dbl> & <chr> & <dbl> & <chr> & <dbl>\\\\\n\\hline\n\t1 & 2006-02-11 21:14:37 & 00:02:2D:21:0F:33 & 0 & 0.05 & 0 & 130.5 & 00:14:bf:b1:97:8a & -43 & 2437000000 & 1.139692e+12\\\\\n\t2 & 2006-02-11 21:14:37 & 00:02:2D:21:0F:33 & 0 & 0.05 & 0 & 130.5 & 00:0f:a3:39:e1:c0 & -52 & 2462000000 & 1.139692e+12\\\\\n\t3 & 2006-02-11 21:14:37 & 00:02:2D:21:0F:33 & 0 & 0.05 & 0 & 130.5 & 00:14:bf:3b:c7:c6 & -62 & 2432000000 & 1.139692e+12\\\\\n\t4 & 2006-02-11 21:14:37 & 00:02:2D:21:0F:33 & 0 & 0.05 & 0 & 130.5 & 00:14:bf:b1:97:81 & -58 & 2422000000 & 1.139692e+12\\\\\n\t5 & 2006-02-11 21:14:37 & 00:02:2D:21:0F:33 & 0 & 0.05 & 0 & 130.5 & 00:14:bf:b1:97:8d & -62 & 2442000000 & 1.139692e+12\\\\\n\t6 & 2006-02-11 21:14:37 & 00:02:2D:21:0F:33 & 0 & 0.05 & 0 & 130.5 & 00:14:bf:b1:97:90 & -57 & 2427000000 & 1.139692e+12\\\\\n\\end{tabular}\n",
            "text/markdown": "\nA data.frame: 6 × 10\n\n| <!--/--> | time &lt;dttm&gt; | scanMac &lt;chr&gt; | posX &lt;dbl&gt; | posY &lt;dbl&gt; | posZ &lt;dbl&gt; | orientation &lt;dbl&gt; | mac &lt;chr&gt; | signal &lt;dbl&gt; | channel &lt;chr&gt; | rawTime &lt;dbl&gt; |\n|---|---|---|---|---|---|---|---|---|---|---|\n| 1 | 2006-02-11 21:14:37 | 00:02:2D:21:0F:33 | 0 | 0.05 | 0 | 130.5 | 00:14:bf:b1:97:8a | -43 | 2437000000 | 1.139692e+12 |\n| 2 | 2006-02-11 21:14:37 | 00:02:2D:21:0F:33 | 0 | 0.05 | 0 | 130.5 | 00:0f:a3:39:e1:c0 | -52 | 2462000000 | 1.139692e+12 |\n| 3 | 2006-02-11 21:14:37 | 00:02:2D:21:0F:33 | 0 | 0.05 | 0 | 130.5 | 00:14:bf:3b:c7:c6 | -62 | 2432000000 | 1.139692e+12 |\n| 4 | 2006-02-11 21:14:37 | 00:02:2D:21:0F:33 | 0 | 0.05 | 0 | 130.5 | 00:14:bf:b1:97:81 | -58 | 2422000000 | 1.139692e+12 |\n| 5 | 2006-02-11 21:14:37 | 00:02:2D:21:0F:33 | 0 | 0.05 | 0 | 130.5 | 00:14:bf:b1:97:8d | -62 | 2442000000 | 1.139692e+12 |\n| 6 | 2006-02-11 21:14:37 | 00:02:2D:21:0F:33 | 0 | 0.05 | 0 | 130.5 | 00:14:bf:b1:97:90 | -57 | 2427000000 | 1.139692e+12 |\n\n",
            "text/html": [
              "<table>\n",
              "<caption>A data.frame: 6 × 10</caption>\n",
              "<thead>\n",
              "\t<tr><th></th><th scope=col>time</th><th scope=col>scanMac</th><th scope=col>posX</th><th scope=col>posY</th><th scope=col>posZ</th><th scope=col>orientation</th><th scope=col>mac</th><th scope=col>signal</th><th scope=col>channel</th><th scope=col>rawTime</th></tr>\n",
              "\t<tr><th></th><th scope=col>&lt;dttm&gt;</th><th scope=col>&lt;chr&gt;</th><th scope=col>&lt;dbl&gt;</th><th scope=col>&lt;dbl&gt;</th><th scope=col>&lt;dbl&gt;</th><th scope=col>&lt;dbl&gt;</th><th scope=col>&lt;chr&gt;</th><th scope=col>&lt;dbl&gt;</th><th scope=col>&lt;chr&gt;</th><th scope=col>&lt;dbl&gt;</th></tr>\n",
              "</thead>\n",
              "<tbody>\n",
              "\t<tr><th scope=row>1</th><td>2006-02-11 21:14:37</td><td>00:02:2D:21:0F:33</td><td>0</td><td>0.05</td><td>0</td><td>130.5</td><td>00:14:bf:b1:97:8a</td><td>-43</td><td>2437000000</td><td>1.139692e+12</td></tr>\n",
              "\t<tr><th scope=row>2</th><td>2006-02-11 21:14:37</td><td>00:02:2D:21:0F:33</td><td>0</td><td>0.05</td><td>0</td><td>130.5</td><td>00:0f:a3:39:e1:c0</td><td>-52</td><td>2462000000</td><td>1.139692e+12</td></tr>\n",
              "\t<tr><th scope=row>3</th><td>2006-02-11 21:14:37</td><td>00:02:2D:21:0F:33</td><td>0</td><td>0.05</td><td>0</td><td>130.5</td><td>00:14:bf:3b:c7:c6</td><td>-62</td><td>2432000000</td><td>1.139692e+12</td></tr>\n",
              "\t<tr><th scope=row>4</th><td>2006-02-11 21:14:37</td><td>00:02:2D:21:0F:33</td><td>0</td><td>0.05</td><td>0</td><td>130.5</td><td>00:14:bf:b1:97:81</td><td>-58</td><td>2422000000</td><td>1.139692e+12</td></tr>\n",
              "\t<tr><th scope=row>5</th><td>2006-02-11 21:14:37</td><td>00:02:2D:21:0F:33</td><td>0</td><td>0.05</td><td>0</td><td>130.5</td><td>00:14:bf:b1:97:8d</td><td>-62</td><td>2442000000</td><td>1.139692e+12</td></tr>\n",
              "\t<tr><th scope=row>6</th><td>2006-02-11 21:14:37</td><td>00:02:2D:21:0F:33</td><td>0</td><td>0.05</td><td>0</td><td>130.5</td><td>00:14:bf:b1:97:90</td><td>-57</td><td>2427000000</td><td>1.139692e+12</td></tr>\n",
              "</tbody>\n",
              "</table>\n"
            ]
          },
          "metadata": {
            "tags": []
          }
        }
      ]
    },
    {
      "cell_type": "code",
      "metadata": {
        "id": "ITt2DTgTDevW",
        "colab_type": "code",
        "colab": {
          "base_uri": "https://localhost:8080/",
          "height": 232
        },
        "outputId": "685d2770-1a4f-4ae5-b9e1-fc021a2155f9"
      },
      "source": [
        "str(online_data)"
      ],
      "execution_count": 65,
      "outputs": [
        {
          "output_type": "stream",
          "text": [
            "'data.frame':\t43857 obs. of  10 variables:\n",
            " $ time       : POSIXt, format: \"2006-02-11 21:14:37\" \"2006-02-11 21:14:37\" ...\n",
            " $ scanMac    : chr  \"00:02:2D:21:0F:33\" \"00:02:2D:21:0F:33\" \"00:02:2D:21:0F:33\" \"00:02:2D:21:0F:33\" ...\n",
            " $ posX       : num  0 0 0 0 0 0 0 0 0 0 ...\n",
            " $ posY       : num  0.05 0.05 0.05 0.05 0.05 0.05 0.05 0.05 0.05 0.05 ...\n",
            " $ posZ       : num  0 0 0 0 0 0 0 0 0 0 ...\n",
            " $ orientation: num  130 130 130 130 130 ...\n",
            " $ mac        : chr  \"00:14:bf:b1:97:8a\" \"00:0f:a3:39:e1:c0\" \"00:14:bf:3b:c7:c6\" \"00:14:bf:b1:97:81\" ...\n",
            " $ signal     : num  -43 -52 -62 -58 -62 -57 -79 -88 -64 -43 ...\n",
            " $ channel    : chr  \"2437000000\" \"2462000000\" \"2432000000\" \"2422000000\" ...\n",
            " $ rawTime    : num  1.14e+12 1.14e+12 1.14e+12 1.14e+12 1.14e+12 ...\n"
          ],
          "name": "stdout"
        }
      ]
    },
    {
      "cell_type": "markdown",
      "metadata": {
        "id": "Uim3hf7LDh4m",
        "colab_type": "text"
      },
      "source": [
        "Look into the summary of character variables and convert into factors. Additionally, let's see if scanMac has a single vlaue like we saw with the offline data. "
      ]
    },
    {
      "cell_type": "code",
      "metadata": {
        "id": "McSgmroqD52w",
        "colab_type": "code",
        "colab": {
          "base_uri": "https://localhost:8080/",
          "height": 158
        },
        "outputId": "48ebc94e-c73f-4bef-b6e0-04d8b7590ae0"
      },
      "source": [
        "summary(sapply(online_data[ , c(\"mac\", \"channel\", \"scanMac\")], as.factor))"
      ],
      "execution_count": 66,
      "outputs": [
        {
          "output_type": "display_data",
          "data": {
            "text/plain": [
              "                mac             channel                  scanMac     \n",
              " 00:0f:a3:39:dd:cd:6598   2462000000:8346   00:02:2D:21:0F:33:43857  \n",
              " 00:0f:a3:39:e1:c0:6561   2437000000:6859                            \n",
              " 00:14:bf:b1:97:8a:6171   2412000000:6598                            \n",
              " 00:14:bf:b1:97:90:5648   2427000000:5648                            \n",
              " 00:14:bf:3b:c7:c6:5573   2432000000:5573                            \n",
              " 00:14:bf:b1:97:8d:5450   2442000000:5450                            \n",
              " (Other)          :7856   (Other)   :5383                            "
            ]
          },
          "metadata": {
            "tags": []
          }
        }
      ]
    },
    {
      "cell_type": "markdown",
      "metadata": {
        "id": "yZF1sa32EH5-",
        "colab_type": "text"
      },
      "source": [
        "Like we saw before, there's only one value for ScanMac where all the Mac addresses were recorded from. Additionally, we are only seeing that position Z has a singular value of 0. meaning that our measurements were taken from a single floor in a building. A 2 dimensional plain. "
      ]
    },
    {
      "cell_type": "code",
      "metadata": {
        "id": "UduEdARyD8Jp",
        "colab_type": "code",
        "colab": {}
      },
      "source": [
        "online_data = online_data[ , !(names(online_data) %in% c(\"scanMac\", \"posZ\"))]"
      ],
      "execution_count": 0,
      "outputs": []
    },
    {
      "cell_type": "code",
      "metadata": {
        "id": "gpaEBThmE8HB",
        "colab_type": "code",
        "colab": {
          "base_uri": "https://localhost:8080/",
          "height": 176
        },
        "outputId": "69a0d525-1a95-45ca-e3b9-7ace340b690b"
      },
      "source": [
        "head(online_data)"
      ],
      "execution_count": 68,
      "outputs": [
        {
          "output_type": "display_data",
          "data": {
            "text/plain": [
              "  time                posX posY orientation mac               signal channel   \n",
              "1 2006-02-11 21:14:37 0    0.05 130.5       00:14:bf:b1:97:8a -43    2437000000\n",
              "2 2006-02-11 21:14:37 0    0.05 130.5       00:0f:a3:39:e1:c0 -52    2462000000\n",
              "3 2006-02-11 21:14:37 0    0.05 130.5       00:14:bf:3b:c7:c6 -62    2432000000\n",
              "4 2006-02-11 21:14:37 0    0.05 130.5       00:14:bf:b1:97:81 -58    2422000000\n",
              "5 2006-02-11 21:14:37 0    0.05 130.5       00:14:bf:b1:97:8d -62    2442000000\n",
              "6 2006-02-11 21:14:37 0    0.05 130.5       00:14:bf:b1:97:90 -57    2427000000\n",
              "  rawTime     \n",
              "1 1.139692e+12\n",
              "2 1.139692e+12\n",
              "3 1.139692e+12\n",
              "4 1.139692e+12\n",
              "5 1.139692e+12\n",
              "6 1.139692e+12"
            ],
            "text/latex": "A data.frame: 6 × 8\n\\begin{tabular}{r|llllllll}\n  & time & posX & posY & orientation & mac & signal & channel & rawTime\\\\\n  & <dttm> & <dbl> & <dbl> & <dbl> & <chr> & <dbl> & <chr> & <dbl>\\\\\n\\hline\n\t1 & 2006-02-11 21:14:37 & 0 & 0.05 & 130.5 & 00:14:bf:b1:97:8a & -43 & 2437000000 & 1.139692e+12\\\\\n\t2 & 2006-02-11 21:14:37 & 0 & 0.05 & 130.5 & 00:0f:a3:39:e1:c0 & -52 & 2462000000 & 1.139692e+12\\\\\n\t3 & 2006-02-11 21:14:37 & 0 & 0.05 & 130.5 & 00:14:bf:3b:c7:c6 & -62 & 2432000000 & 1.139692e+12\\\\\n\t4 & 2006-02-11 21:14:37 & 0 & 0.05 & 130.5 & 00:14:bf:b1:97:81 & -58 & 2422000000 & 1.139692e+12\\\\\n\t5 & 2006-02-11 21:14:37 & 0 & 0.05 & 130.5 & 00:14:bf:b1:97:8d & -62 & 2442000000 & 1.139692e+12\\\\\n\t6 & 2006-02-11 21:14:37 & 0 & 0.05 & 130.5 & 00:14:bf:b1:97:90 & -57 & 2427000000 & 1.139692e+12\\\\\n\\end{tabular}\n",
            "text/markdown": "\nA data.frame: 6 × 8\n\n| <!--/--> | time &lt;dttm&gt; | posX &lt;dbl&gt; | posY &lt;dbl&gt; | orientation &lt;dbl&gt; | mac &lt;chr&gt; | signal &lt;dbl&gt; | channel &lt;chr&gt; | rawTime &lt;dbl&gt; |\n|---|---|---|---|---|---|---|---|---|\n| 1 | 2006-02-11 21:14:37 | 0 | 0.05 | 130.5 | 00:14:bf:b1:97:8a | -43 | 2437000000 | 1.139692e+12 |\n| 2 | 2006-02-11 21:14:37 | 0 | 0.05 | 130.5 | 00:0f:a3:39:e1:c0 | -52 | 2462000000 | 1.139692e+12 |\n| 3 | 2006-02-11 21:14:37 | 0 | 0.05 | 130.5 | 00:14:bf:3b:c7:c6 | -62 | 2432000000 | 1.139692e+12 |\n| 4 | 2006-02-11 21:14:37 | 0 | 0.05 | 130.5 | 00:14:bf:b1:97:81 | -58 | 2422000000 | 1.139692e+12 |\n| 5 | 2006-02-11 21:14:37 | 0 | 0.05 | 130.5 | 00:14:bf:b1:97:8d | -62 | 2442000000 | 1.139692e+12 |\n| 6 | 2006-02-11 21:14:37 | 0 | 0.05 | 130.5 | 00:14:bf:b1:97:90 | -57 | 2427000000 | 1.139692e+12 |\n\n",
            "text/html": [
              "<table>\n",
              "<caption>A data.frame: 6 × 8</caption>\n",
              "<thead>\n",
              "\t<tr><th></th><th scope=col>time</th><th scope=col>posX</th><th scope=col>posY</th><th scope=col>orientation</th><th scope=col>mac</th><th scope=col>signal</th><th scope=col>channel</th><th scope=col>rawTime</th></tr>\n",
              "\t<tr><th></th><th scope=col>&lt;dttm&gt;</th><th scope=col>&lt;dbl&gt;</th><th scope=col>&lt;dbl&gt;</th><th scope=col>&lt;dbl&gt;</th><th scope=col>&lt;chr&gt;</th><th scope=col>&lt;dbl&gt;</th><th scope=col>&lt;chr&gt;</th><th scope=col>&lt;dbl&gt;</th></tr>\n",
              "</thead>\n",
              "<tbody>\n",
              "\t<tr><th scope=row>1</th><td>2006-02-11 21:14:37</td><td>0</td><td>0.05</td><td>130.5</td><td>00:14:bf:b1:97:8a</td><td>-43</td><td>2437000000</td><td>1.139692e+12</td></tr>\n",
              "\t<tr><th scope=row>2</th><td>2006-02-11 21:14:37</td><td>0</td><td>0.05</td><td>130.5</td><td>00:0f:a3:39:e1:c0</td><td>-52</td><td>2462000000</td><td>1.139692e+12</td></tr>\n",
              "\t<tr><th scope=row>3</th><td>2006-02-11 21:14:37</td><td>0</td><td>0.05</td><td>130.5</td><td>00:14:bf:3b:c7:c6</td><td>-62</td><td>2432000000</td><td>1.139692e+12</td></tr>\n",
              "\t<tr><th scope=row>4</th><td>2006-02-11 21:14:37</td><td>0</td><td>0.05</td><td>130.5</td><td>00:14:bf:b1:97:81</td><td>-58</td><td>2422000000</td><td>1.139692e+12</td></tr>\n",
              "\t<tr><th scope=row>5</th><td>2006-02-11 21:14:37</td><td>0</td><td>0.05</td><td>130.5</td><td>00:14:bf:b1:97:8d</td><td>-62</td><td>2442000000</td><td>1.139692e+12</td></tr>\n",
              "\t<tr><th scope=row>6</th><td>2006-02-11 21:14:37</td><td>0</td><td>0.05</td><td>130.5</td><td>00:14:bf:b1:97:90</td><td>-57</td><td>2427000000</td><td>1.139692e+12</td></tr>\n",
              "</tbody>\n",
              "</table>\n"
            ]
          },
          "metadata": {
            "tags": []
          }
        }
      ]
    },
    {
      "cell_type": "markdown",
      "metadata": {
        "id": "4QO8vcmbZPUf",
        "colab_type": "text"
      },
      "source": [
        "### EDA: Exploring orientation\n",
        "\n",
        "According to our documentation, we should have only 8 values for orientation. Let's check this with..."
      ]
    },
    {
      "cell_type": "code",
      "metadata": {
        "id": "8AkI6S7IZeUv",
        "colab_type": "code",
        "colab": {
          "base_uri": "https://localhost:8080/",
          "height": 33
        },
        "outputId": "74461975-4a76-484e-c0a7-230f6a44803f"
      },
      "source": [
        "length(unique(offline$orientation))"
      ],
      "execution_count": 71,
      "outputs": [
        {
          "output_type": "display_data",
          "data": {
            "text/plain": [
              "[1] 203"
            ],
            "text/latex": "203",
            "text/markdown": "203",
            "text/html": [
              "203"
            ]
          },
          "metadata": {
            "tags": []
          }
        }
      ]
    },
    {
      "cell_type": "code",
      "metadata": {
        "id": "7t03vGnqZiZi",
        "colab_type": "code",
        "colab": {
          "base_uri": "https://localhost:8080/",
          "height": 436
        },
        "outputId": "6cfd6822-1bf3-4e2e-81be-c0a5a20792e9"
      },
      "source": [
        "plot(ecdf(offline$orientation), main = 'Empirical CDF of Orientation for the Hand-Held Device', sub = 'Figure 1',\n",
        "        xlab = 'Empirical CDF', ylab = 'Orientation')"
      ],
      "execution_count": 72,
      "outputs": [
        {
          "output_type": "display_data",
          "data": {
            "image/png": "[encoded data removed]",
            "text/plain": [
              "Plot with title “Empirical CDF of Orientation for the Hand-Held Device”"
            ]
          },
          "metadata": {
            "tags": [],
            "image/png": {
              "width": 420,
              "height": 420
            },
            "text/plain": {
              "width": 420,
              "height": 420
            }
          }
        }
      ]
    },
    {
      "cell_type": "markdown",
      "metadata": {
        "id": "J5izYr6uaU9b",
        "colab_type": "text"
      },
      "source": [
        "This empiracle distribution function of orientation shows that there are 8 basic orientations that are 45 degrees apart. We see from the steps in the function that these orientations are not exactly 45, 90, 135, ect. Also, the 0 oreintation is split into the two groups, one near 0 and the other near 360. "
      ]
    },
    {
      "cell_type": "code",
      "metadata": {
        "id": "UIs6qR0qapbb",
        "colab_type": "code",
        "colab": {}
      },
      "source": [
        "roundOrientation = function(angles) {\n",
        "  refs = seq(0, by = 45, length = 9)\n",
        "  q = sapply(angles, function(o) which.min(abs(o - refs)))\n",
        "  c(refs[1:8], 0)[q]\n",
        "}"
      ],
      "execution_count": 0,
      "outputs": []
    },
    {
      "cell_type": "markdown",
      "metadata": {
        "id": "tVok2GSjbOAT",
        "colab_type": "text"
      },
      "source": [
        "Let's create a function that can round off the angles that we are seeing in our function. We created a function that taks the 45 degree angles and rounds them off. "
      ]
    },
    {
      "cell_type": "code",
      "metadata": {
        "id": "FJVB2j77bNaC",
        "colab_type": "code",
        "colab": {}
      },
      "source": [
        "offline$angle = roundOrientation(offline$orientation)"
      ],
      "execution_count": 0,
      "outputs": []
    },
    {
      "cell_type": "code",
      "metadata": {
        "id": "If92Fl8TbpqB",
        "colab_type": "code",
        "colab": {
          "base_uri": "https://localhost:8080/",
          "height": 436
        },
        "outputId": "8c8192e3-9bea-49d7-e08d-589aa1f5876d"
      },
      "source": [
        "with(offline, boxplot(orientation ~ angle, \n",
        "xlab = 'nearest 45 degree angle', \n",
        "ylab = 'orientation'))"
      ],
      "execution_count": 75,
      "outputs": [
        {
          "output_type": "display_data",
          "data": {
            "image/png": "[encoded data removed]",
            "text/plain": [
              "plot without title"
            ]
          },
          "metadata": {
            "tags": [],
            "image/png": {
              "width": 420,
              "height": 420
            },
            "text/plain": {
              "width": 420,
              "height": 420
            }
          }
        }
      ]
    },
    {
      "cell_type": "markdown",
      "metadata": {
        "id": "jd5ENblAb54x",
        "colab_type": "text"
      },
      "source": [
        "We can see that the new values look correct and the original values near 360 degrees are mapped to zero. Also, we can see that the slight changes in the location of zero from our map indicate that there is slight variability."
      ]
    },
    {
      "cell_type": "code",
      "metadata": {
        "id": "0QyO41ujb1dx",
        "colab_type": "code",
        "colab": {}
      },
      "source": [
        ""
      ],
      "execution_count": 0,
      "outputs": []
    }
  ]
}